{
 "cells": [
  {
   "cell_type": "code",
   "execution_count": 2,
   "id": "5ffe7579",
   "metadata": {},
   "outputs": [],
   "source": [
    "import pandas as pd\n",
    "import matplotlib.pyplot as plt\n",
    "import seaborn as sns\n",
    "import geopandas as gpd\n",
    "import numpy as np\n",
    "import re"
   ]
  },
  {
   "cell_type": "code",
   "execution_count": 3,
   "id": "a9dd940b",
   "metadata": {},
   "outputs": [
    {
     "name": "stdout",
     "output_type": "stream",
     "text": [
      "   week  sales_method                           customer_id  nb_sold  revenue  \\\n",
      "0     2         Email  2e72d641-95ac-497b-bbf8-4861764a7097       10      NaN   \n",
      "1     6  Email + Call  3998a98d-70f5-44f7-942e-789bb8ad2fe7       15   225.47   \n",
      "2     5          Call  d1de9884-8059-4065-b10f-86eef57e4a44       11    52.55   \n",
      "3     4         Email  78aa75a4-ffeb-4817-b1d0-2f030783c5d7       11      NaN   \n",
      "4     3         Email  10e6d446-10a5-42e5-8210-1b5438f70922        9    90.49   \n",
      "\n",
      "   years_as_customer  nb_site_visits      state  \n",
      "0                  0              24    Arizona  \n",
      "1                  1              28     Kansas  \n",
      "2                  6              26  Wisconsin  \n",
      "3                  3              25    Indiana  \n",
      "4                  0              28   Illinois  \n"
     ]
    }
   ],
   "source": [
    "df = pd.read_csv(r\"C:\\Users\\USER\\Downloads\\product_sales (1).csv\")\n",
    "print(df.head())"
   ]
  },
  {
   "cell_type": "code",
   "execution_count": 4,
   "id": "8488e152",
   "metadata": {},
   "outputs": [
    {
     "data": {
      "text/plain": [
       "(15000, 8)"
      ]
     },
     "execution_count": 4,
     "metadata": {},
     "output_type": "execute_result"
    }
   ],
   "source": [
    "df.shape"
   ]
  },
  {
   "cell_type": "code",
   "execution_count": 5,
   "id": "2761c348",
   "metadata": {},
   "outputs": [],
   "source": [
    "df[\"sales_method\"] = df[\"sales_method\"].astype(\"category\")"
   ]
  },
  {
   "cell_type": "code",
   "execution_count": 6,
   "id": "fd4e7119",
   "metadata": {},
   "outputs": [],
   "source": [
    "assert df[\"sales_method\"].dtype == \"category\""
   ]
  },
  {
   "cell_type": "code",
   "execution_count": 7,
   "id": "60955354",
   "metadata": {},
   "outputs": [
    {
     "data": {
      "text/plain": [
       "Text(0.5, 1.0, 'Visualization of commonly used sales_method')"
      ]
     },
     "execution_count": 7,
     "metadata": {},
     "output_type": "execute_result"
    },
    {
     "data": {
      "image/png": "[encoded data removed]",
      "text/plain": [
       "<Figure size 640x480 with 1 Axes>"
      ]
     },
     "metadata": {},
     "output_type": "display_data"
    }
   ],
   "source": [
    "plt.hist(df[\"sales_method\"])\n",
    "plt.title(\"Visualization of commonly used sales_method\")"
   ]
  },
  {
   "cell_type": "code",
   "execution_count": 8,
   "id": "dc9165bb",
   "metadata": {},
   "outputs": [
    {
     "data": {
      "text/html": [
       "<div>\n",
       "<style scoped>\n",
       "    .dataframe tbody tr th:only-of-type {\n",
       "        vertical-align: middle;\n",
       "    }\n",
       "\n",
       "    .dataframe tbody tr th {\n",
       "        vertical-align: top;\n",
       "    }\n",
       "\n",
       "    .dataframe thead th {\n",
       "        text-align: right;\n",
       "    }\n",
       "</style>\n",
       "<table border=\"1\" class=\"dataframe\">\n",
       "  <thead>\n",
       "    <tr style=\"text-align: right;\">\n",
       "      <th></th>\n",
       "      <th>week</th>\n",
       "      <th>sales_method</th>\n",
       "      <th>customer_id</th>\n",
       "      <th>nb_sold</th>\n",
       "      <th>revenue</th>\n",
       "      <th>years_as_customer</th>\n",
       "      <th>nb_site_visits</th>\n",
       "      <th>state</th>\n",
       "    </tr>\n",
       "  </thead>\n",
       "  <tbody>\n",
       "    <tr>\n",
       "      <th>22</th>\n",
       "      <td>3</td>\n",
       "      <td>em + call</td>\n",
       "      <td>d72de17a-0d71-401b-b64a-dc4492b2b1ed</td>\n",
       "      <td>10</td>\n",
       "      <td>150.47</td>\n",
       "      <td>20</td>\n",
       "      <td>21</td>\n",
       "      <td>North Carolina</td>\n",
       "    </tr>\n",
       "    <tr>\n",
       "      <th>603</th>\n",
       "      <td>1</td>\n",
       "      <td>em + call</td>\n",
       "      <td>622b3c27-c6a3-4796-a89e-010599a21ee8</td>\n",
       "      <td>8</td>\n",
       "      <td>126.02</td>\n",
       "      <td>10</td>\n",
       "      <td>19</td>\n",
       "      <td>Ohio</td>\n",
       "    </tr>\n",
       "    <tr>\n",
       "      <th>954</th>\n",
       "      <td>5</td>\n",
       "      <td>em + call</td>\n",
       "      <td>c07b5315-e4aa-4f8c-ad2f-b12ac74dcca0</td>\n",
       "      <td>13</td>\n",
       "      <td>NaN</td>\n",
       "      <td>9</td>\n",
       "      <td>30</td>\n",
       "      <td>California</td>\n",
       "    </tr>\n",
       "    <tr>\n",
       "      <th>1260</th>\n",
       "      <td>4</td>\n",
       "      <td>em + call</td>\n",
       "      <td>0829c4e8-a3d4-49b3-947e-b5bde2ec2c0b</td>\n",
       "      <td>12</td>\n",
       "      <td>181.52</td>\n",
       "      <td>22</td>\n",
       "      <td>28</td>\n",
       "      <td>Maryland</td>\n",
       "    </tr>\n",
       "    <tr>\n",
       "      <th>1674</th>\n",
       "      <td>5</td>\n",
       "      <td>em + call</td>\n",
       "      <td>b2a5de5e-a76d-4e3f-b31c-cc82f0432cad</td>\n",
       "      <td>12</td>\n",
       "      <td>185.65</td>\n",
       "      <td>3</td>\n",
       "      <td>28</td>\n",
       "      <td>Washington</td>\n",
       "    </tr>\n",
       "    <tr>\n",
       "      <th>3598</th>\n",
       "      <td>4</td>\n",
       "      <td>em + call</td>\n",
       "      <td>3325c590-486b-4a00-83b5-2f1d1fe6e607</td>\n",
       "      <td>12</td>\n",
       "      <td>176.85</td>\n",
       "      <td>11</td>\n",
       "      <td>34</td>\n",
       "      <td>Minnesota</td>\n",
       "    </tr>\n",
       "    <tr>\n",
       "      <th>3601</th>\n",
       "      <td>2</td>\n",
       "      <td>em + call</td>\n",
       "      <td>5c6a43b9-baec-4634-9554-4321f74eb44c</td>\n",
       "      <td>10</td>\n",
       "      <td>152.61</td>\n",
       "      <td>2</td>\n",
       "      <td>23</td>\n",
       "      <td>Pennsylvania</td>\n",
       "    </tr>\n",
       "    <tr>\n",
       "      <th>3635</th>\n",
       "      <td>3</td>\n",
       "      <td>em + call</td>\n",
       "      <td>8e445cdf-fd7c-4a3f-bd23-5e474bffd660</td>\n",
       "      <td>10</td>\n",
       "      <td>146.77</td>\n",
       "      <td>1</td>\n",
       "      <td>22</td>\n",
       "      <td>Texas</td>\n",
       "    </tr>\n",
       "    <tr>\n",
       "      <th>4427</th>\n",
       "      <td>5</td>\n",
       "      <td>em + call</td>\n",
       "      <td>5d4b8add-b83a-4d19-aefd-8e84ab468ed8</td>\n",
       "      <td>13</td>\n",
       "      <td>190.90</td>\n",
       "      <td>3</td>\n",
       "      <td>27</td>\n",
       "      <td>New York</td>\n",
       "    </tr>\n",
       "    <tr>\n",
       "      <th>4715</th>\n",
       "      <td>5</td>\n",
       "      <td>em + call</td>\n",
       "      <td>2d684a1e-22cf-4f18-af4e-a85e1e8b6d24</td>\n",
       "      <td>12</td>\n",
       "      <td>184.04</td>\n",
       "      <td>2</td>\n",
       "      <td>30</td>\n",
       "      <td>California</td>\n",
       "    </tr>\n",
       "    <tr>\n",
       "      <th>5483</th>\n",
       "      <td>4</td>\n",
       "      <td>em + call</td>\n",
       "      <td>0124a865-fc26-4432-9b44-781be11f1f50</td>\n",
       "      <td>12</td>\n",
       "      <td>178.72</td>\n",
       "      <td>9</td>\n",
       "      <td>23</td>\n",
       "      <td>New York</td>\n",
       "    </tr>\n",
       "    <tr>\n",
       "      <th>5946</th>\n",
       "      <td>3</td>\n",
       "      <td>em + call</td>\n",
       "      <td>21002f7c-1621-45f7-ae29-225bfd885ccd</td>\n",
       "      <td>10</td>\n",
       "      <td>148.38</td>\n",
       "      <td>4</td>\n",
       "      <td>30</td>\n",
       "      <td>Michigan</td>\n",
       "    </tr>\n",
       "    <tr>\n",
       "      <th>5998</th>\n",
       "      <td>5</td>\n",
       "      <td>em + call</td>\n",
       "      <td>d3825bb8-46bd-42a6-852c-5889ef99cfd1</td>\n",
       "      <td>12</td>\n",
       "      <td>183.53</td>\n",
       "      <td>2</td>\n",
       "      <td>28</td>\n",
       "      <td>Tennessee</td>\n",
       "    </tr>\n",
       "    <tr>\n",
       "      <th>6573</th>\n",
       "      <td>5</td>\n",
       "      <td>em + call</td>\n",
       "      <td>ebc5ca82-a1c2-4a28-91a6-b20c5918f721</td>\n",
       "      <td>13</td>\n",
       "      <td>187.59</td>\n",
       "      <td>7</td>\n",
       "      <td>29</td>\n",
       "      <td>Michigan</td>\n",
       "    </tr>\n",
       "    <tr>\n",
       "      <th>7547</th>\n",
       "      <td>4</td>\n",
       "      <td>em + call</td>\n",
       "      <td>db5d273d-102a-4610-b3a6-c6489a279111</td>\n",
       "      <td>12</td>\n",
       "      <td>181.02</td>\n",
       "      <td>1</td>\n",
       "      <td>32</td>\n",
       "      <td>Texas</td>\n",
       "    </tr>\n",
       "    <tr>\n",
       "      <th>9887</th>\n",
       "      <td>5</td>\n",
       "      <td>em + call</td>\n",
       "      <td>eea83511-8616-4dae-bf5c-97ee464c4ebf</td>\n",
       "      <td>12</td>\n",
       "      <td>186.17</td>\n",
       "      <td>1</td>\n",
       "      <td>30</td>\n",
       "      <td>Illinois</td>\n",
       "    </tr>\n",
       "    <tr>\n",
       "      <th>12583</th>\n",
       "      <td>5</td>\n",
       "      <td>em + call</td>\n",
       "      <td>84e8d44f-e93e-46c1-83c4-1729adc41b1a</td>\n",
       "      <td>12</td>\n",
       "      <td>187.42</td>\n",
       "      <td>1</td>\n",
       "      <td>31</td>\n",
       "      <td>Indiana</td>\n",
       "    </tr>\n",
       "    <tr>\n",
       "      <th>12933</th>\n",
       "      <td>4</td>\n",
       "      <td>em + call</td>\n",
       "      <td>af79cfbe-db8b-45b3-8503-937b0527b076</td>\n",
       "      <td>12</td>\n",
       "      <td>177.96</td>\n",
       "      <td>4</td>\n",
       "      <td>27</td>\n",
       "      <td>New York</td>\n",
       "    </tr>\n",
       "    <tr>\n",
       "      <th>13325</th>\n",
       "      <td>4</td>\n",
       "      <td>em + call</td>\n",
       "      <td>a98fc6f2-3c3c-4e8f-9461-cd5de9a05bf2</td>\n",
       "      <td>12</td>\n",
       "      <td>174.07</td>\n",
       "      <td>11</td>\n",
       "      <td>27</td>\n",
       "      <td>Florida</td>\n",
       "    </tr>\n",
       "    <tr>\n",
       "      <th>13350</th>\n",
       "      <td>5</td>\n",
       "      <td>em + call</td>\n",
       "      <td>f6afc03c-30ea-4c7c-b125-8babd040cabc</td>\n",
       "      <td>12</td>\n",
       "      <td>187.12</td>\n",
       "      <td>1</td>\n",
       "      <td>28</td>\n",
       "      <td>Illinois</td>\n",
       "    </tr>\n",
       "    <tr>\n",
       "      <th>13513</th>\n",
       "      <td>4</td>\n",
       "      <td>em + call</td>\n",
       "      <td>2278d483-06b4-442d-8380-7962cb8b130b</td>\n",
       "      <td>12</td>\n",
       "      <td>NaN</td>\n",
       "      <td>1</td>\n",
       "      <td>27</td>\n",
       "      <td>Georgia</td>\n",
       "    </tr>\n",
       "    <tr>\n",
       "      <th>13802</th>\n",
       "      <td>5</td>\n",
       "      <td>em + call</td>\n",
       "      <td>3d4e0661-d7af-4b50-b506-25ce337d6ab4</td>\n",
       "      <td>12</td>\n",
       "      <td>182.73</td>\n",
       "      <td>0</td>\n",
       "      <td>29</td>\n",
       "      <td>Virginia</td>\n",
       "    </tr>\n",
       "    <tr>\n",
       "      <th>14992</th>\n",
       "      <td>5</td>\n",
       "      <td>em + call</td>\n",
       "      <td>cd9e6945-ae21-4bed-a6cf-f0302e6c4795</td>\n",
       "      <td>12</td>\n",
       "      <td>NaN</td>\n",
       "      <td>1</td>\n",
       "      <td>34</td>\n",
       "      <td>New York</td>\n",
       "    </tr>\n",
       "  </tbody>\n",
       "</table>\n",
       "</div>"
      ],
      "text/plain": [
       "       week sales_method                           customer_id  nb_sold  \\\n",
       "22        3    em + call  d72de17a-0d71-401b-b64a-dc4492b2b1ed       10   \n",
       "603       1    em + call  622b3c27-c6a3-4796-a89e-010599a21ee8        8   \n",
       "954       5    em + call  c07b5315-e4aa-4f8c-ad2f-b12ac74dcca0       13   \n",
       "1260      4    em + call  0829c4e8-a3d4-49b3-947e-b5bde2ec2c0b       12   \n",
       "1674      5    em + call  b2a5de5e-a76d-4e3f-b31c-cc82f0432cad       12   \n",
       "3598      4    em + call  3325c590-486b-4a00-83b5-2f1d1fe6e607       12   \n",
       "3601      2    em + call  5c6a43b9-baec-4634-9554-4321f74eb44c       10   \n",
       "3635      3    em + call  8e445cdf-fd7c-4a3f-bd23-5e474bffd660       10   \n",
       "4427      5    em + call  5d4b8add-b83a-4d19-aefd-8e84ab468ed8       13   \n",
       "4715      5    em + call  2d684a1e-22cf-4f18-af4e-a85e1e8b6d24       12   \n",
       "5483      4    em + call  0124a865-fc26-4432-9b44-781be11f1f50       12   \n",
       "5946      3    em + call  21002f7c-1621-45f7-ae29-225bfd885ccd       10   \n",
       "5998      5    em + call  d3825bb8-46bd-42a6-852c-5889ef99cfd1       12   \n",
       "6573      5    em + call  ebc5ca82-a1c2-4a28-91a6-b20c5918f721       13   \n",
       "7547      4    em + call  db5d273d-102a-4610-b3a6-c6489a279111       12   \n",
       "9887      5    em + call  eea83511-8616-4dae-bf5c-97ee464c4ebf       12   \n",
       "12583     5    em + call  84e8d44f-e93e-46c1-83c4-1729adc41b1a       12   \n",
       "12933     4    em + call  af79cfbe-db8b-45b3-8503-937b0527b076       12   \n",
       "13325     4    em + call  a98fc6f2-3c3c-4e8f-9461-cd5de9a05bf2       12   \n",
       "13350     5    em + call  f6afc03c-30ea-4c7c-b125-8babd040cabc       12   \n",
       "13513     4    em + call  2278d483-06b4-442d-8380-7962cb8b130b       12   \n",
       "13802     5    em + call  3d4e0661-d7af-4b50-b506-25ce337d6ab4       12   \n",
       "14992     5    em + call  cd9e6945-ae21-4bed-a6cf-f0302e6c4795       12   \n",
       "\n",
       "       revenue  years_as_customer  nb_site_visits           state  \n",
       "22      150.47                 20              21  North Carolina  \n",
       "603     126.02                 10              19            Ohio  \n",
       "954        NaN                  9              30      California  \n",
       "1260    181.52                 22              28        Maryland  \n",
       "1674    185.65                  3              28      Washington  \n",
       "3598    176.85                 11              34       Minnesota  \n",
       "3601    152.61                  2              23    Pennsylvania  \n",
       "3635    146.77                  1              22           Texas  \n",
       "4427    190.90                  3              27        New York  \n",
       "4715    184.04                  2              30      California  \n",
       "5483    178.72                  9              23        New York  \n",
       "5946    148.38                  4              30        Michigan  \n",
       "5998    183.53                  2              28       Tennessee  \n",
       "6573    187.59                  7              29        Michigan  \n",
       "7547    181.02                  1              32           Texas  \n",
       "9887    186.17                  1              30        Illinois  \n",
       "12583   187.42                  1              31         Indiana  \n",
       "12933   177.96                  4              27        New York  \n",
       "13325   174.07                 11              27         Florida  \n",
       "13350   187.12                  1              28        Illinois  \n",
       "13513      NaN                  1              27         Georgia  \n",
       "13802   182.73                  0              29        Virginia  \n",
       "14992      NaN                  1              34        New York  "
      ]
     },
     "execution_count": 8,
     "metadata": {},
     "output_type": "execute_result"
    }
   ],
   "source": [
    "df[df[\"sales_method\"] == \"em + call\"]"
   ]
  },
  {
   "cell_type": "code",
   "execution_count": 9,
   "id": "34415bfb",
   "metadata": {},
   "outputs": [
    {
     "data": {
      "text/html": [
       "<div>\n",
       "<style scoped>\n",
       "    .dataframe tbody tr th:only-of-type {\n",
       "        vertical-align: middle;\n",
       "    }\n",
       "\n",
       "    .dataframe tbody tr th {\n",
       "        vertical-align: top;\n",
       "    }\n",
       "\n",
       "    .dataframe thead th {\n",
       "        text-align: right;\n",
       "    }\n",
       "</style>\n",
       "<table border=\"1\" class=\"dataframe\">\n",
       "  <thead>\n",
       "    <tr style=\"text-align: right;\">\n",
       "      <th></th>\n",
       "      <th>week</th>\n",
       "      <th>sales_method</th>\n",
       "      <th>customer_id</th>\n",
       "      <th>nb_sold</th>\n",
       "      <th>revenue</th>\n",
       "      <th>years_as_customer</th>\n",
       "      <th>nb_site_visits</th>\n",
       "      <th>state</th>\n",
       "    </tr>\n",
       "  </thead>\n",
       "  <tbody>\n",
       "    <tr>\n",
       "      <th>1693</th>\n",
       "      <td>1</td>\n",
       "      <td>email</td>\n",
       "      <td>39e91aab-35a9-42e7-aa5e-c20da21752ca</td>\n",
       "      <td>10</td>\n",
       "      <td>95.39</td>\n",
       "      <td>1</td>\n",
       "      <td>22</td>\n",
       "      <td>California</td>\n",
       "    </tr>\n",
       "    <tr>\n",
       "      <th>2174</th>\n",
       "      <td>3</td>\n",
       "      <td>email</td>\n",
       "      <td>62e90458-5a17-4ef8-bc1c-7a44a154c731</td>\n",
       "      <td>9</td>\n",
       "      <td>92.19</td>\n",
       "      <td>4</td>\n",
       "      <td>26</td>\n",
       "      <td>Indiana</td>\n",
       "    </tr>\n",
       "    <tr>\n",
       "      <th>5187</th>\n",
       "      <td>5</td>\n",
       "      <td>email</td>\n",
       "      <td>520aa458-de13-467d-b475-3f87eb73a116</td>\n",
       "      <td>11</td>\n",
       "      <td>111.93</td>\n",
       "      <td>1</td>\n",
       "      <td>29</td>\n",
       "      <td>California</td>\n",
       "    </tr>\n",
       "    <tr>\n",
       "      <th>5325</th>\n",
       "      <td>3</td>\n",
       "      <td>email</td>\n",
       "      <td>07698a45-7045-429b-9f2d-6fbcdd6260aa</td>\n",
       "      <td>9</td>\n",
       "      <td>90.88</td>\n",
       "      <td>7</td>\n",
       "      <td>22</td>\n",
       "      <td>North Carolina</td>\n",
       "    </tr>\n",
       "    <tr>\n",
       "      <th>5329</th>\n",
       "      <td>2</td>\n",
       "      <td>email</td>\n",
       "      <td>81b6a40f-ab03-4643-ba59-ed43d9c9a029</td>\n",
       "      <td>10</td>\n",
       "      <td>NaN</td>\n",
       "      <td>1</td>\n",
       "      <td>28</td>\n",
       "      <td>California</td>\n",
       "    </tr>\n",
       "    <tr>\n",
       "      <th>6328</th>\n",
       "      <td>4</td>\n",
       "      <td>email</td>\n",
       "      <td>b5e64ea9-21b8-4b54-ad93-d7c13e375f28</td>\n",
       "      <td>11</td>\n",
       "      <td>106.25</td>\n",
       "      <td>3</td>\n",
       "      <td>21</td>\n",
       "      <td>Utah</td>\n",
       "    </tr>\n",
       "    <tr>\n",
       "      <th>9163</th>\n",
       "      <td>4</td>\n",
       "      <td>email</td>\n",
       "      <td>b13f2da6-79e7-4e53-9e95-6f640a1b5ca7</td>\n",
       "      <td>11</td>\n",
       "      <td>NaN</td>\n",
       "      <td>10</td>\n",
       "      <td>30</td>\n",
       "      <td>California</td>\n",
       "    </tr>\n",
       "    <tr>\n",
       "      <th>11236</th>\n",
       "      <td>1</td>\n",
       "      <td>email</td>\n",
       "      <td>319b8359-1c68-4684-b5a0-b7468130fa14</td>\n",
       "      <td>8</td>\n",
       "      <td>80.72</td>\n",
       "      <td>1</td>\n",
       "      <td>24</td>\n",
       "      <td>Alabama</td>\n",
       "    </tr>\n",
       "    <tr>\n",
       "      <th>13249</th>\n",
       "      <td>4</td>\n",
       "      <td>email</td>\n",
       "      <td>3f4ea5fc-ab2d-4ff9-8cf0-2936ffc24708</td>\n",
       "      <td>11</td>\n",
       "      <td>NaN</td>\n",
       "      <td>2</td>\n",
       "      <td>28</td>\n",
       "      <td>Maryland</td>\n",
       "    </tr>\n",
       "    <tr>\n",
       "      <th>13980</th>\n",
       "      <td>4</td>\n",
       "      <td>email</td>\n",
       "      <td>48cb0711-2105-44e2-a655-4f83998a3560</td>\n",
       "      <td>11</td>\n",
       "      <td>109.72</td>\n",
       "      <td>0</td>\n",
       "      <td>26</td>\n",
       "      <td>Indiana</td>\n",
       "    </tr>\n",
       "  </tbody>\n",
       "</table>\n",
       "</div>"
      ],
      "text/plain": [
       "       week sales_method                           customer_id  nb_sold  \\\n",
       "1693      1        email  39e91aab-35a9-42e7-aa5e-c20da21752ca       10   \n",
       "2174      3        email  62e90458-5a17-4ef8-bc1c-7a44a154c731        9   \n",
       "5187      5        email  520aa458-de13-467d-b475-3f87eb73a116       11   \n",
       "5325      3        email  07698a45-7045-429b-9f2d-6fbcdd6260aa        9   \n",
       "5329      2        email  81b6a40f-ab03-4643-ba59-ed43d9c9a029       10   \n",
       "6328      4        email  b5e64ea9-21b8-4b54-ad93-d7c13e375f28       11   \n",
       "9163      4        email  b13f2da6-79e7-4e53-9e95-6f640a1b5ca7       11   \n",
       "11236     1        email  319b8359-1c68-4684-b5a0-b7468130fa14        8   \n",
       "13249     4        email  3f4ea5fc-ab2d-4ff9-8cf0-2936ffc24708       11   \n",
       "13980     4        email  48cb0711-2105-44e2-a655-4f83998a3560       11   \n",
       "\n",
       "       revenue  years_as_customer  nb_site_visits           state  \n",
       "1693     95.39                  1              22      California  \n",
       "2174     92.19                  4              26         Indiana  \n",
       "5187    111.93                  1              29      California  \n",
       "5325     90.88                  7              22  North Carolina  \n",
       "5329       NaN                  1              28      California  \n",
       "6328    106.25                  3              21            Utah  \n",
       "9163       NaN                 10              30      California  \n",
       "11236    80.72                  1              24         Alabama  \n",
       "13249      NaN                  2              28        Maryland  \n",
       "13980   109.72                  0              26         Indiana  "
      ]
     },
     "execution_count": 9,
     "metadata": {},
     "output_type": "execute_result"
    }
   ],
   "source": [
    "df[df[\"sales_method\"] == \"email\"]"
   ]
  },
  {
   "cell_type": "code",
   "execution_count": 10,
   "id": "1cc58ede",
   "metadata": {},
   "outputs": [],
   "source": [
    "df.drop_duplicates(inplace=True)"
   ]
  },
  {
   "cell_type": "code",
   "execution_count": 14,
   "id": "290d77bd",
   "metadata": {},
   "outputs": [
    {
     "name": "stdout",
     "output_type": "stream",
     "text": [
      "<class 'pandas.core.frame.DataFrame'>\n",
      "RangeIndex: 15000 entries, 0 to 14999\n",
      "Data columns (total 8 columns):\n",
      " #   Column             Non-Null Count  Dtype   \n",
      "---  ------             --------------  -----   \n",
      " 0   week               15000 non-null  int64   \n",
      " 1   sales_method       15000 non-null  category\n",
      " 2   customer_id        15000 non-null  object  \n",
      " 3   nb_sold            15000 non-null  int64   \n",
      " 4   revenue            13926 non-null  float64 \n",
      " 5   years_as_customer  15000 non-null  int64   \n",
      " 6   nb_site_visits     15000 non-null  int64   \n",
      " 7   state              15000 non-null  object  \n",
      "dtypes: category(1), float64(1), int64(4), object(2)\n",
      "memory usage: 835.3+ KB\n"
     ]
    }
   ],
   "source": [
    "df.info()"
   ]
  },
  {
   "cell_type": "code",
   "execution_count": 15,
   "id": "e11f2e0d",
   "metadata": {},
   "outputs": [
    {
     "name": "stdout",
     "output_type": "stream",
     "text": [
      "set()\n"
     ]
    }
   ],
   "source": [
    "#finding inconsistent categories\n",
    "inconsistent_categories = set(df['sales_method']).difference(df[\"sales_method\"])\n",
    "print(inconsistent_categories)"
   ]
  },
  {
   "cell_type": "code",
   "execution_count": 16,
   "id": "ecc20926",
   "metadata": {},
   "outputs": [],
   "source": [
    "inconsistent_rows = df[\"sales_method\"].isin(inconsistent_categories)\n",
    "inconsistent_data = df[inconsistent_rows]\n",
    "consistent_data = df[~inconsistent_rows]"
   ]
  },
  {
   "cell_type": "code",
   "execution_count": 17,
   "id": "273b4209",
   "metadata": {},
   "outputs": [
    {
     "data": {
      "text/html": [
       "<div>\n",
       "<style scoped>\n",
       "    .dataframe tbody tr th:only-of-type {\n",
       "        vertical-align: middle;\n",
       "    }\n",
       "\n",
       "    .dataframe tbody tr th {\n",
       "        vertical-align: top;\n",
       "    }\n",
       "\n",
       "    .dataframe thead th {\n",
       "        text-align: right;\n",
       "    }\n",
       "</style>\n",
       "<table border=\"1\" class=\"dataframe\">\n",
       "  <thead>\n",
       "    <tr style=\"text-align: right;\">\n",
       "      <th></th>\n",
       "      <th>week</th>\n",
       "      <th>sales_method</th>\n",
       "      <th>customer_id</th>\n",
       "      <th>nb_sold</th>\n",
       "      <th>revenue</th>\n",
       "      <th>years_as_customer</th>\n",
       "      <th>nb_site_visits</th>\n",
       "      <th>state</th>\n",
       "    </tr>\n",
       "  </thead>\n",
       "  <tbody>\n",
       "    <tr>\n",
       "      <th>0</th>\n",
       "      <td>2</td>\n",
       "      <td>Email</td>\n",
       "      <td>2e72d641-95ac-497b-bbf8-4861764a7097</td>\n",
       "      <td>10</td>\n",
       "      <td>NaN</td>\n",
       "      <td>0</td>\n",
       "      <td>24</td>\n",
       "      <td>Arizona</td>\n",
       "    </tr>\n",
       "    <tr>\n",
       "      <th>1</th>\n",
       "      <td>6</td>\n",
       "      <td>Email + Call</td>\n",
       "      <td>3998a98d-70f5-44f7-942e-789bb8ad2fe7</td>\n",
       "      <td>15</td>\n",
       "      <td>225.47</td>\n",
       "      <td>1</td>\n",
       "      <td>28</td>\n",
       "      <td>Kansas</td>\n",
       "    </tr>\n",
       "    <tr>\n",
       "      <th>2</th>\n",
       "      <td>5</td>\n",
       "      <td>Call</td>\n",
       "      <td>d1de9884-8059-4065-b10f-86eef57e4a44</td>\n",
       "      <td>11</td>\n",
       "      <td>52.55</td>\n",
       "      <td>6</td>\n",
       "      <td>26</td>\n",
       "      <td>Wisconsin</td>\n",
       "    </tr>\n",
       "    <tr>\n",
       "      <th>3</th>\n",
       "      <td>4</td>\n",
       "      <td>Email</td>\n",
       "      <td>78aa75a4-ffeb-4817-b1d0-2f030783c5d7</td>\n",
       "      <td>11</td>\n",
       "      <td>NaN</td>\n",
       "      <td>3</td>\n",
       "      <td>25</td>\n",
       "      <td>Indiana</td>\n",
       "    </tr>\n",
       "    <tr>\n",
       "      <th>4</th>\n",
       "      <td>3</td>\n",
       "      <td>Email</td>\n",
       "      <td>10e6d446-10a5-42e5-8210-1b5438f70922</td>\n",
       "      <td>9</td>\n",
       "      <td>90.49</td>\n",
       "      <td>0</td>\n",
       "      <td>28</td>\n",
       "      <td>Illinois</td>\n",
       "    </tr>\n",
       "    <tr>\n",
       "      <th>...</th>\n",
       "      <td>...</td>\n",
       "      <td>...</td>\n",
       "      <td>...</td>\n",
       "      <td>...</td>\n",
       "      <td>...</td>\n",
       "      <td>...</td>\n",
       "      <td>...</td>\n",
       "      <td>...</td>\n",
       "    </tr>\n",
       "    <tr>\n",
       "      <th>14995</th>\n",
       "      <td>4</td>\n",
       "      <td>Call</td>\n",
       "      <td>17267b41-d048-4346-8b90-7f787690a836</td>\n",
       "      <td>10</td>\n",
       "      <td>50.82</td>\n",
       "      <td>0</td>\n",
       "      <td>22</td>\n",
       "      <td>Pennsylvania</td>\n",
       "    </tr>\n",
       "    <tr>\n",
       "      <th>14996</th>\n",
       "      <td>5</td>\n",
       "      <td>Call</td>\n",
       "      <td>09e10d6f-4508-4b27-895e-4db11ce8302b</td>\n",
       "      <td>10</td>\n",
       "      <td>52.33</td>\n",
       "      <td>1</td>\n",
       "      <td>27</td>\n",
       "      <td>Kansas</td>\n",
       "    </tr>\n",
       "    <tr>\n",
       "      <th>14997</th>\n",
       "      <td>1</td>\n",
       "      <td>Call</td>\n",
       "      <td>839653cb-68c9-48cb-a097-0a5a3b2b298b</td>\n",
       "      <td>7</td>\n",
       "      <td>34.87</td>\n",
       "      <td>4</td>\n",
       "      <td>22</td>\n",
       "      <td>West Virginia</td>\n",
       "    </tr>\n",
       "    <tr>\n",
       "      <th>14998</th>\n",
       "      <td>6</td>\n",
       "      <td>Call</td>\n",
       "      <td>e4dad70a-b23b-407c-8bd3-e32ea00fae17</td>\n",
       "      <td>13</td>\n",
       "      <td>64.90</td>\n",
       "      <td>2</td>\n",
       "      <td>27</td>\n",
       "      <td>New Jersey</td>\n",
       "    </tr>\n",
       "    <tr>\n",
       "      <th>14999</th>\n",
       "      <td>5</td>\n",
       "      <td>Email + Call</td>\n",
       "      <td>4e077235-7c17-4054-9997-7a890336a214</td>\n",
       "      <td>13</td>\n",
       "      <td>NaN</td>\n",
       "      <td>4</td>\n",
       "      <td>25</td>\n",
       "      <td>Illinois</td>\n",
       "    </tr>\n",
       "  </tbody>\n",
       "</table>\n",
       "<p>15000 rows × 8 columns</p>\n",
       "</div>"
      ],
      "text/plain": [
       "       week  sales_method                           customer_id  nb_sold  \\\n",
       "0         2         Email  2e72d641-95ac-497b-bbf8-4861764a7097       10   \n",
       "1         6  Email + Call  3998a98d-70f5-44f7-942e-789bb8ad2fe7       15   \n",
       "2         5          Call  d1de9884-8059-4065-b10f-86eef57e4a44       11   \n",
       "3         4         Email  78aa75a4-ffeb-4817-b1d0-2f030783c5d7       11   \n",
       "4         3         Email  10e6d446-10a5-42e5-8210-1b5438f70922        9   \n",
       "...     ...           ...                                   ...      ...   \n",
       "14995     4          Call  17267b41-d048-4346-8b90-7f787690a836       10   \n",
       "14996     5          Call  09e10d6f-4508-4b27-895e-4db11ce8302b       10   \n",
       "14997     1          Call  839653cb-68c9-48cb-a097-0a5a3b2b298b        7   \n",
       "14998     6          Call  e4dad70a-b23b-407c-8bd3-e32ea00fae17       13   \n",
       "14999     5  Email + Call  4e077235-7c17-4054-9997-7a890336a214       13   \n",
       "\n",
       "       revenue  years_as_customer  nb_site_visits          state  \n",
       "0          NaN                  0              24        Arizona  \n",
       "1       225.47                  1              28         Kansas  \n",
       "2        52.55                  6              26      Wisconsin  \n",
       "3          NaN                  3              25        Indiana  \n",
       "4        90.49                  0              28       Illinois  \n",
       "...        ...                ...             ...            ...  \n",
       "14995    50.82                  0              22   Pennsylvania  \n",
       "14996    52.33                  1              27         Kansas  \n",
       "14997    34.87                  4              22  West Virginia  \n",
       "14998    64.90                  2              27     New Jersey  \n",
       "14999      NaN                  4              25       Illinois  \n",
       "\n",
       "[15000 rows x 8 columns]"
      ]
     },
     "execution_count": 17,
     "metadata": {},
     "output_type": "execute_result"
    }
   ],
   "source": [
    "df"
   ]
  },
  {
   "cell_type": "code",
   "execution_count": 18,
   "id": "5944a362",
   "metadata": {},
   "outputs": [
    {
     "data": {
      "text/plain": [
       "sales_method\n",
       "Email           7456\n",
       "Call            4962\n",
       "Email + Call    2549\n",
       "em + call         23\n",
       "email             10\n",
       "Name: count, dtype: int64"
      ]
     },
     "execution_count": 18,
     "metadata": {},
     "output_type": "execute_result"
    }
   ],
   "source": [
    "#value consistency\n",
    "df[\"sales_method\"].value_counts()"
   ]
  },
  {
   "cell_type": "code",
   "execution_count": 19,
   "id": "5aef2e9a",
   "metadata": {},
   "outputs": [
    {
     "data": {
      "text/plain": [
       "sales_method\n",
       "Email           7466\n",
       "Call            4962\n",
       "Email + Call    2549\n",
       "Em + Call         23\n",
       "Name: count, dtype: int64"
      ]
     },
     "execution_count": 19,
     "metadata": {},
     "output_type": "execute_result"
    }
   ],
   "source": [
    "df[\"sales_method\"] = df[\"sales_method\"].str.title()\n",
    "df[\"sales_method\"].value_counts()"
   ]
  },
  {
   "cell_type": "code",
   "execution_count": 20,
   "id": "fcebef03",
   "metadata": {},
   "outputs": [],
   "source": [
    "df['sales_method'] = df['sales_method'].astype(str)"
   ]
  },
  {
   "cell_type": "code",
   "execution_count": 21,
   "id": "afbe66b2",
   "metadata": {},
   "outputs": [
    {
     "name": "stdout",
     "output_type": "stream",
     "text": [
      "<class 'pandas.core.frame.DataFrame'>\n",
      "RangeIndex: 15000 entries, 0 to 14999\n",
      "Data columns (total 8 columns):\n",
      " #   Column             Non-Null Count  Dtype  \n",
      "---  ------             --------------  -----  \n",
      " 0   week               15000 non-null  int64  \n",
      " 1   sales_method       15000 non-null  object \n",
      " 2   customer_id        15000 non-null  object \n",
      " 3   nb_sold            15000 non-null  int64  \n",
      " 4   revenue            13926 non-null  float64\n",
      " 5   years_as_customer  15000 non-null  int64  \n",
      " 6   nb_site_visits     15000 non-null  int64  \n",
      " 7   state              15000 non-null  object \n",
      "dtypes: float64(1), int64(4), object(3)\n",
      "memory usage: 937.6+ KB\n"
     ]
    }
   ],
   "source": [
    "df.info()"
   ]
  },
  {
   "cell_type": "code",
   "execution_count": 22,
   "id": "9556247e",
   "metadata": {},
   "outputs": [],
   "source": [
    "df[\"sales_method\"] = df[\"sales_method\"].str.replace(\"Em + Call\", \"Email + Call\")"
   ]
  },
  {
   "cell_type": "code",
   "execution_count": 23,
   "id": "0e1fcb6e",
   "metadata": {},
   "outputs": [],
   "source": [
    "df['sales_method'] = df['sales_method'].astype('category')"
   ]
  },
  {
   "cell_type": "code",
   "execution_count": 24,
   "id": "dcc6271a",
   "metadata": {},
   "outputs": [
    {
     "data": {
      "text/plain": [
       "sales_method\n",
       "Email           7466\n",
       "Call            4962\n",
       "Email + Call    2572\n",
       "Name: count, dtype: int64"
      ]
     },
     "execution_count": 24,
     "metadata": {},
     "output_type": "execute_result"
    }
   ],
   "source": [
    "df[\"sales_method\"].value_counts()"
   ]
  },
  {
   "cell_type": "code",
   "execution_count": 82,
   "id": "213d8aad",
   "metadata": {},
   "outputs": [
    {
     "data": {
      "text/plain": [
       "Text(0.5, 1.0, 'Visualization of commonly used sales_method')"
      ]
     },
     "execution_count": 82,
     "metadata": {},
     "output_type": "execute_result"
    },
    {
     "data": {
      "image/png": "[encoded data removed]",
      "text/plain": [
       "<Figure size 640x480 with 1 Axes>"
      ]
     },
     "metadata": {},
     "output_type": "display_data"
    }
   ],
   "source": [
    "plt.hist(df[\"sales_method\"])\n",
    "plt.title(\"Visualization of commonly used sales_method\")"
   ]
  },
  {
   "cell_type": "code",
   "execution_count": 83,
   "id": "a2e94be0",
   "metadata": {},
   "outputs": [
    {
     "name": "stdout",
     "output_type": "stream",
     "text": [
      "<class 'pandas.core.frame.DataFrame'>\n",
      "RangeIndex: 15000 entries, 0 to 14999\n",
      "Data columns (total 8 columns):\n",
      " #   Column             Non-Null Count  Dtype   \n",
      "---  ------             --------------  -----   \n",
      " 0   week               15000 non-null  int64   \n",
      " 1   sales_method       15000 non-null  category\n",
      " 2   customer_id        15000 non-null  object  \n",
      " 3   nb_sold            15000 non-null  int64   \n",
      " 4   revenue            13926 non-null  float64 \n",
      " 5   years_as_customer  15000 non-null  int64   \n",
      " 6   nb_site_visits     15000 non-null  int64   \n",
      " 7   state              15000 non-null  object  \n",
      "dtypes: category(1), float64(1), int64(4), object(2)\n",
      "memory usage: 835.2+ KB\n"
     ]
    }
   ],
   "source": [
    "df.info()"
   ]
  },
  {
   "cell_type": "code",
   "execution_count": 84,
   "id": "12f27fbe",
   "metadata": {},
   "outputs": [
    {
     "data": {
      "text/html": [
       "<div>\n",
       "<style scoped>\n",
       "    .dataframe tbody tr th:only-of-type {\n",
       "        vertical-align: middle;\n",
       "    }\n",
       "\n",
       "    .dataframe tbody tr th {\n",
       "        vertical-align: top;\n",
       "    }\n",
       "\n",
       "    .dataframe thead th {\n",
       "        text-align: right;\n",
       "    }\n",
       "</style>\n",
       "<table border=\"1\" class=\"dataframe\">\n",
       "  <thead>\n",
       "    <tr style=\"text-align: right;\">\n",
       "      <th></th>\n",
       "      <th>week</th>\n",
       "      <th>sales_method</th>\n",
       "      <th>customer_id</th>\n",
       "      <th>nb_sold</th>\n",
       "      <th>revenue</th>\n",
       "      <th>years_as_customer</th>\n",
       "      <th>nb_site_visits</th>\n",
       "      <th>state</th>\n",
       "    </tr>\n",
       "  </thead>\n",
       "  <tbody>\n",
       "    <tr>\n",
       "      <th>0</th>\n",
       "      <td>2</td>\n",
       "      <td>Email</td>\n",
       "      <td>2e72d641-95ac-497b-bbf8-4861764a7097</td>\n",
       "      <td>10</td>\n",
       "      <td>NaN</td>\n",
       "      <td>0</td>\n",
       "      <td>24</td>\n",
       "      <td>Arizona</td>\n",
       "    </tr>\n",
       "    <tr>\n",
       "      <th>1</th>\n",
       "      <td>6</td>\n",
       "      <td>Email + Call</td>\n",
       "      <td>3998a98d-70f5-44f7-942e-789bb8ad2fe7</td>\n",
       "      <td>15</td>\n",
       "      <td>225.47</td>\n",
       "      <td>1</td>\n",
       "      <td>28</td>\n",
       "      <td>Kansas</td>\n",
       "    </tr>\n",
       "    <tr>\n",
       "      <th>2</th>\n",
       "      <td>5</td>\n",
       "      <td>Call</td>\n",
       "      <td>d1de9884-8059-4065-b10f-86eef57e4a44</td>\n",
       "      <td>11</td>\n",
       "      <td>52.55</td>\n",
       "      <td>6</td>\n",
       "      <td>26</td>\n",
       "      <td>Wisconsin</td>\n",
       "    </tr>\n",
       "    <tr>\n",
       "      <th>3</th>\n",
       "      <td>4</td>\n",
       "      <td>Email</td>\n",
       "      <td>78aa75a4-ffeb-4817-b1d0-2f030783c5d7</td>\n",
       "      <td>11</td>\n",
       "      <td>NaN</td>\n",
       "      <td>3</td>\n",
       "      <td>25</td>\n",
       "      <td>Indiana</td>\n",
       "    </tr>\n",
       "    <tr>\n",
       "      <th>4</th>\n",
       "      <td>3</td>\n",
       "      <td>Email</td>\n",
       "      <td>10e6d446-10a5-42e5-8210-1b5438f70922</td>\n",
       "      <td>9</td>\n",
       "      <td>90.49</td>\n",
       "      <td>0</td>\n",
       "      <td>28</td>\n",
       "      <td>Illinois</td>\n",
       "    </tr>\n",
       "    <tr>\n",
       "      <th>...</th>\n",
       "      <td>...</td>\n",
       "      <td>...</td>\n",
       "      <td>...</td>\n",
       "      <td>...</td>\n",
       "      <td>...</td>\n",
       "      <td>...</td>\n",
       "      <td>...</td>\n",
       "      <td>...</td>\n",
       "    </tr>\n",
       "    <tr>\n",
       "      <th>14995</th>\n",
       "      <td>4</td>\n",
       "      <td>Call</td>\n",
       "      <td>17267b41-d048-4346-8b90-7f787690a836</td>\n",
       "      <td>10</td>\n",
       "      <td>50.82</td>\n",
       "      <td>0</td>\n",
       "      <td>22</td>\n",
       "      <td>Pennsylvania</td>\n",
       "    </tr>\n",
       "    <tr>\n",
       "      <th>14996</th>\n",
       "      <td>5</td>\n",
       "      <td>Call</td>\n",
       "      <td>09e10d6f-4508-4b27-895e-4db11ce8302b</td>\n",
       "      <td>10</td>\n",
       "      <td>52.33</td>\n",
       "      <td>1</td>\n",
       "      <td>27</td>\n",
       "      <td>Kansas</td>\n",
       "    </tr>\n",
       "    <tr>\n",
       "      <th>14997</th>\n",
       "      <td>1</td>\n",
       "      <td>Call</td>\n",
       "      <td>839653cb-68c9-48cb-a097-0a5a3b2b298b</td>\n",
       "      <td>7</td>\n",
       "      <td>34.87</td>\n",
       "      <td>4</td>\n",
       "      <td>22</td>\n",
       "      <td>West Virginia</td>\n",
       "    </tr>\n",
       "    <tr>\n",
       "      <th>14998</th>\n",
       "      <td>6</td>\n",
       "      <td>Call</td>\n",
       "      <td>e4dad70a-b23b-407c-8bd3-e32ea00fae17</td>\n",
       "      <td>13</td>\n",
       "      <td>64.90</td>\n",
       "      <td>2</td>\n",
       "      <td>27</td>\n",
       "      <td>New Jersey</td>\n",
       "    </tr>\n",
       "    <tr>\n",
       "      <th>14999</th>\n",
       "      <td>5</td>\n",
       "      <td>Email + Call</td>\n",
       "      <td>4e077235-7c17-4054-9997-7a890336a214</td>\n",
       "      <td>13</td>\n",
       "      <td>NaN</td>\n",
       "      <td>4</td>\n",
       "      <td>25</td>\n",
       "      <td>Illinois</td>\n",
       "    </tr>\n",
       "  </tbody>\n",
       "</table>\n",
       "<p>15000 rows × 8 columns</p>\n",
       "</div>"
      ],
      "text/plain": [
       "       week  sales_method                           customer_id  nb_sold  \\\n",
       "0         2         Email  2e72d641-95ac-497b-bbf8-4861764a7097       10   \n",
       "1         6  Email + Call  3998a98d-70f5-44f7-942e-789bb8ad2fe7       15   \n",
       "2         5          Call  d1de9884-8059-4065-b10f-86eef57e4a44       11   \n",
       "3         4         Email  78aa75a4-ffeb-4817-b1d0-2f030783c5d7       11   \n",
       "4         3         Email  10e6d446-10a5-42e5-8210-1b5438f70922        9   \n",
       "...     ...           ...                                   ...      ...   \n",
       "14995     4          Call  17267b41-d048-4346-8b90-7f787690a836       10   \n",
       "14996     5          Call  09e10d6f-4508-4b27-895e-4db11ce8302b       10   \n",
       "14997     1          Call  839653cb-68c9-48cb-a097-0a5a3b2b298b        7   \n",
       "14998     6          Call  e4dad70a-b23b-407c-8bd3-e32ea00fae17       13   \n",
       "14999     5  Email + Call  4e077235-7c17-4054-9997-7a890336a214       13   \n",
       "\n",
       "       revenue  years_as_customer  nb_site_visits          state  \n",
       "0          NaN                  0              24        Arizona  \n",
       "1       225.47                  1              28         Kansas  \n",
       "2        52.55                  6              26      Wisconsin  \n",
       "3          NaN                  3              25        Indiana  \n",
       "4        90.49                  0              28       Illinois  \n",
       "...        ...                ...             ...            ...  \n",
       "14995    50.82                  0              22   Pennsylvania  \n",
       "14996    52.33                  1              27         Kansas  \n",
       "14997    34.87                  4              22  West Virginia  \n",
       "14998    64.90                  2              27     New Jersey  \n",
       "14999      NaN                  4              25       Illinois  \n",
       "\n",
       "[15000 rows x 8 columns]"
      ]
     },
     "execution_count": 84,
     "metadata": {},
     "output_type": "execute_result"
    }
   ],
   "source": [
    "df"
   ]
  },
  {
   "cell_type": "code",
   "execution_count": 85,
   "id": "9ee530de",
   "metadata": {},
   "outputs": [
    {
     "data": {
      "text/html": [
       "<div>\n",
       "<style scoped>\n",
       "    .dataframe tbody tr th:only-of-type {\n",
       "        vertical-align: middle;\n",
       "    }\n",
       "\n",
       "    .dataframe tbody tr th {\n",
       "        vertical-align: top;\n",
       "    }\n",
       "\n",
       "    .dataframe thead th {\n",
       "        text-align: right;\n",
       "    }\n",
       "</style>\n",
       "<table border=\"1\" class=\"dataframe\">\n",
       "  <thead>\n",
       "    <tr style=\"text-align: right;\">\n",
       "      <th></th>\n",
       "      <th>week</th>\n",
       "      <th>sales_method</th>\n",
       "      <th>customer_id</th>\n",
       "      <th>nb_sold</th>\n",
       "      <th>revenue</th>\n",
       "      <th>years_as_customer</th>\n",
       "      <th>nb_site_visits</th>\n",
       "      <th>state</th>\n",
       "    </tr>\n",
       "  </thead>\n",
       "  <tbody>\n",
       "    <tr>\n",
       "      <th>0</th>\n",
       "      <td>False</td>\n",
       "      <td>False</td>\n",
       "      <td>False</td>\n",
       "      <td>False</td>\n",
       "      <td>True</td>\n",
       "      <td>False</td>\n",
       "      <td>False</td>\n",
       "      <td>False</td>\n",
       "    </tr>\n",
       "    <tr>\n",
       "      <th>1</th>\n",
       "      <td>False</td>\n",
       "      <td>False</td>\n",
       "      <td>False</td>\n",
       "      <td>False</td>\n",
       "      <td>False</td>\n",
       "      <td>False</td>\n",
       "      <td>False</td>\n",
       "      <td>False</td>\n",
       "    </tr>\n",
       "    <tr>\n",
       "      <th>2</th>\n",
       "      <td>False</td>\n",
       "      <td>False</td>\n",
       "      <td>False</td>\n",
       "      <td>False</td>\n",
       "      <td>False</td>\n",
       "      <td>False</td>\n",
       "      <td>False</td>\n",
       "      <td>False</td>\n",
       "    </tr>\n",
       "    <tr>\n",
       "      <th>3</th>\n",
       "      <td>False</td>\n",
       "      <td>False</td>\n",
       "      <td>False</td>\n",
       "      <td>False</td>\n",
       "      <td>True</td>\n",
       "      <td>False</td>\n",
       "      <td>False</td>\n",
       "      <td>False</td>\n",
       "    </tr>\n",
       "    <tr>\n",
       "      <th>4</th>\n",
       "      <td>False</td>\n",
       "      <td>False</td>\n",
       "      <td>False</td>\n",
       "      <td>False</td>\n",
       "      <td>False</td>\n",
       "      <td>False</td>\n",
       "      <td>False</td>\n",
       "      <td>False</td>\n",
       "    </tr>\n",
       "    <tr>\n",
       "      <th>...</th>\n",
       "      <td>...</td>\n",
       "      <td>...</td>\n",
       "      <td>...</td>\n",
       "      <td>...</td>\n",
       "      <td>...</td>\n",
       "      <td>...</td>\n",
       "      <td>...</td>\n",
       "      <td>...</td>\n",
       "    </tr>\n",
       "    <tr>\n",
       "      <th>14995</th>\n",
       "      <td>False</td>\n",
       "      <td>False</td>\n",
       "      <td>False</td>\n",
       "      <td>False</td>\n",
       "      <td>False</td>\n",
       "      <td>False</td>\n",
       "      <td>False</td>\n",
       "      <td>False</td>\n",
       "    </tr>\n",
       "    <tr>\n",
       "      <th>14996</th>\n",
       "      <td>False</td>\n",
       "      <td>False</td>\n",
       "      <td>False</td>\n",
       "      <td>False</td>\n",
       "      <td>False</td>\n",
       "      <td>False</td>\n",
       "      <td>False</td>\n",
       "      <td>False</td>\n",
       "    </tr>\n",
       "    <tr>\n",
       "      <th>14997</th>\n",
       "      <td>False</td>\n",
       "      <td>False</td>\n",
       "      <td>False</td>\n",
       "      <td>False</td>\n",
       "      <td>False</td>\n",
       "      <td>False</td>\n",
       "      <td>False</td>\n",
       "      <td>False</td>\n",
       "    </tr>\n",
       "    <tr>\n",
       "      <th>14998</th>\n",
       "      <td>False</td>\n",
       "      <td>False</td>\n",
       "      <td>False</td>\n",
       "      <td>False</td>\n",
       "      <td>False</td>\n",
       "      <td>False</td>\n",
       "      <td>False</td>\n",
       "      <td>False</td>\n",
       "    </tr>\n",
       "    <tr>\n",
       "      <th>14999</th>\n",
       "      <td>False</td>\n",
       "      <td>False</td>\n",
       "      <td>False</td>\n",
       "      <td>False</td>\n",
       "      <td>True</td>\n",
       "      <td>False</td>\n",
       "      <td>False</td>\n",
       "      <td>False</td>\n",
       "    </tr>\n",
       "  </tbody>\n",
       "</table>\n",
       "<p>15000 rows × 8 columns</p>\n",
       "</div>"
      ],
      "text/plain": [
       "        week  sales_method  customer_id  nb_sold  revenue  years_as_customer  \\\n",
       "0      False         False        False    False     True              False   \n",
       "1      False         False        False    False    False              False   \n",
       "2      False         False        False    False    False              False   \n",
       "3      False         False        False    False     True              False   \n",
       "4      False         False        False    False    False              False   \n",
       "...      ...           ...          ...      ...      ...                ...   \n",
       "14995  False         False        False    False    False              False   \n",
       "14996  False         False        False    False    False              False   \n",
       "14997  False         False        False    False    False              False   \n",
       "14998  False         False        False    False    False              False   \n",
       "14999  False         False        False    False     True              False   \n",
       "\n",
       "       nb_site_visits  state  \n",
       "0               False  False  \n",
       "1               False  False  \n",
       "2               False  False  \n",
       "3               False  False  \n",
       "4               False  False  \n",
       "...               ...    ...  \n",
       "14995           False  False  \n",
       "14996           False  False  \n",
       "14997           False  False  \n",
       "14998           False  False  \n",
       "14999           False  False  \n",
       "\n",
       "[15000 rows x 8 columns]"
      ]
     },
     "execution_count": 85,
     "metadata": {},
     "output_type": "execute_result"
    }
   ],
   "source": [
    "#missing value\n",
    "df.isna()"
   ]
  },
  {
   "cell_type": "code",
   "execution_count": 86,
   "id": "23699015",
   "metadata": {},
   "outputs": [
    {
     "data": {
      "text/plain": [
       "week                    0\n",
       "sales_method            0\n",
       "customer_id             0\n",
       "nb_sold                 0\n",
       "revenue              1074\n",
       "years_as_customer       0\n",
       "nb_site_visits          0\n",
       "state                   0\n",
       "dtype: int64"
      ]
     },
     "execution_count": 86,
     "metadata": {},
     "output_type": "execute_result"
    }
   ],
   "source": [
    "#missing value\n",
    "df.isna().sum()"
   ]
  },
  {
   "cell_type": "code",
   "execution_count": 87,
   "id": "565c6f6e",
   "metadata": {},
   "outputs": [
    {
     "name": "stdout",
     "output_type": "stream",
     "text": [
      "['Arizona' 'Kansas' 'Wisconsin' 'Indiana' 'Illinois' 'Mississippi'\n",
      " 'Georgia' 'Oklahoma' 'Massachusetts' 'Missouri' 'Texas' 'New York'\n",
      " 'Maryland' 'California' 'Tennessee' 'Pennsylvania' 'North Dakota'\n",
      " 'Florida' 'Michigan' 'North Carolina' 'Hawaii' 'Colorado' 'Louisiana'\n",
      " 'Virginia' 'New Mexico' 'Arkansas' 'Alaska' 'Oregon' 'New Hampshire'\n",
      " 'Ohio' 'New Jersey' 'Connecticut' 'Iowa' 'Montana' 'Washington'\n",
      " 'Kentucky' 'Alabama' 'Nebraska' 'South Carolina' 'Minnesota'\n",
      " 'South Dakota' 'Delaware' 'Maine' 'Utah' 'West Virginia' 'Vermont'\n",
      " 'Rhode Island' 'Nevada' 'Idaho' 'Wyoming']\n"
     ]
    }
   ],
   "source": [
    "print(df[\"state\"].unique())"
   ]
  },
  {
   "cell_type": "code",
   "execution_count": 88,
   "id": "79b15c23",
   "metadata": {},
   "outputs": [
    {
     "name": "stdout",
     "output_type": "stream",
     "text": [
      "Empty strings: 0\n"
     ]
    }
   ],
   "source": [
    "#checked for empty strings\n",
    "empty_count = (df['state'] == '').sum()\n",
    "print(f\"Empty strings: {empty_count}\")"
   ]
  },
  {
   "cell_type": "code",
   "execution_count": 89,
   "id": "e4ac9e39",
   "metadata": {},
   "outputs": [
    {
     "name": "stdout",
     "output_type": "stream",
     "text": [
      "Null values: 0\n"
     ]
    }
   ],
   "source": [
    "#Check for null or missing values\n",
    "null_count = df['state'].isnull().sum()\n",
    "print(f\"Null values: {null_count}\")"
   ]
  },
  {
   "cell_type": "code",
   "execution_count": 90,
   "id": "2b9754d2",
   "metadata": {},
   "outputs": [
    {
     "name": "stdout",
     "output_type": "stream",
     "text": [
      "Leading/trailing whitespace: 0\n"
     ]
    }
   ],
   "source": [
    "#Check for leading or trailing whitespace:\n",
    "\n",
    "whitespace_count = df['state'].str.strip().nunique() - df['state'].nunique()\n",
    "print(f\"Leading/trailing whitespace: {whitespace_count}\")\n"
   ]
  },
  {
   "cell_type": "code",
   "execution_count": null,
   "id": "21116e07",
   "metadata": {},
   "outputs": [],
   "source": [
    "#df['state'] = df['state'].str.replace(r'\\s+', '')"
   ]
  },
  {
   "cell_type": "code",
   "execution_count": null,
   "id": "b5845a2d",
   "metadata": {},
   "outputs": [],
   "source": [
    "#df['state'] = df['state'].str.strip()"
   ]
  },
  {
   "cell_type": "code",
   "execution_count": 91,
   "id": "68b3acd7",
   "metadata": {},
   "outputs": [
    {
     "name": "stdout",
     "output_type": "stream",
     "text": [
      "Invalid characters: 0\n"
     ]
    }
   ],
   "source": [
    "#Check for invalid characters\n",
    "invalid_char_count = (~df['state'].str.match('^[a-zA-Z ]+$')).sum()\n",
    "print(f\"Invalid characters: {invalid_char_count}\")"
   ]
  },
  {
   "cell_type": "code",
   "execution_count": 92,
   "id": "05f2ac8c",
   "metadata": {},
   "outputs": [],
   "source": [
    "df_new = df.drop('customer_id', axis=1)     #drop unnecessary column(2)"
   ]
  },
  {
   "cell_type": "code",
   "execution_count": 93,
   "id": "be2b6ed5",
   "metadata": {},
   "outputs": [
    {
     "data": {
      "text/plain": [
       "(15000, 7)"
      ]
     },
     "execution_count": 93,
     "metadata": {},
     "output_type": "execute_result"
    }
   ],
   "source": [
    "df_new.shape"
   ]
  },
  {
   "cell_type": "code",
   "execution_count": 94,
   "id": "3cbc1945",
   "metadata": {},
   "outputs": [
    {
     "data": {
      "text/html": [
       "<div>\n",
       "<style scoped>\n",
       "    .dataframe tbody tr th:only-of-type {\n",
       "        vertical-align: middle;\n",
       "    }\n",
       "\n",
       "    .dataframe tbody tr th {\n",
       "        vertical-align: top;\n",
       "    }\n",
       "\n",
       "    .dataframe thead th {\n",
       "        text-align: right;\n",
       "    }\n",
       "</style>\n",
       "<table border=\"1\" class=\"dataframe\">\n",
       "  <thead>\n",
       "    <tr style=\"text-align: right;\">\n",
       "      <th></th>\n",
       "      <th>week</th>\n",
       "      <th>sales_method</th>\n",
       "      <th>nb_sold</th>\n",
       "      <th>revenue</th>\n",
       "      <th>years_as_customer</th>\n",
       "      <th>nb_site_visits</th>\n",
       "      <th>state</th>\n",
       "    </tr>\n",
       "  </thead>\n",
       "  <tbody>\n",
       "    <tr>\n",
       "      <th>0</th>\n",
       "      <td>2</td>\n",
       "      <td>Email</td>\n",
       "      <td>10</td>\n",
       "      <td>NaN</td>\n",
       "      <td>0</td>\n",
       "      <td>24</td>\n",
       "      <td>Arizona</td>\n",
       "    </tr>\n",
       "    <tr>\n",
       "      <th>1</th>\n",
       "      <td>6</td>\n",
       "      <td>Email + Call</td>\n",
       "      <td>15</td>\n",
       "      <td>225.47</td>\n",
       "      <td>1</td>\n",
       "      <td>28</td>\n",
       "      <td>Kansas</td>\n",
       "    </tr>\n",
       "    <tr>\n",
       "      <th>2</th>\n",
       "      <td>5</td>\n",
       "      <td>Call</td>\n",
       "      <td>11</td>\n",
       "      <td>52.55</td>\n",
       "      <td>6</td>\n",
       "      <td>26</td>\n",
       "      <td>Wisconsin</td>\n",
       "    </tr>\n",
       "    <tr>\n",
       "      <th>3</th>\n",
       "      <td>4</td>\n",
       "      <td>Email</td>\n",
       "      <td>11</td>\n",
       "      <td>NaN</td>\n",
       "      <td>3</td>\n",
       "      <td>25</td>\n",
       "      <td>Indiana</td>\n",
       "    </tr>\n",
       "    <tr>\n",
       "      <th>4</th>\n",
       "      <td>3</td>\n",
       "      <td>Email</td>\n",
       "      <td>9</td>\n",
       "      <td>90.49</td>\n",
       "      <td>0</td>\n",
       "      <td>28</td>\n",
       "      <td>Illinois</td>\n",
       "    </tr>\n",
       "  </tbody>\n",
       "</table>\n",
       "</div>"
      ],
      "text/plain": [
       "   week  sales_method  nb_sold  revenue  years_as_customer  nb_site_visits  \\\n",
       "0     2         Email       10      NaN                  0              24   \n",
       "1     6  Email + Call       15   225.47                  1              28   \n",
       "2     5          Call       11    52.55                  6              26   \n",
       "3     4         Email       11      NaN                  3              25   \n",
       "4     3         Email        9    90.49                  0              28   \n",
       "\n",
       "       state  \n",
       "0    Arizona  \n",
       "1     Kansas  \n",
       "2  Wisconsin  \n",
       "3    Indiana  \n",
       "4   Illinois  "
      ]
     },
     "execution_count": 94,
     "metadata": {},
     "output_type": "execute_result"
    }
   ],
   "source": [
    "df_new.head()"
   ]
  },
  {
   "cell_type": "code",
   "execution_count": 96,
   "id": "871682d4",
   "metadata": {},
   "outputs": [
    {
     "data": {
      "text/plain": [
       "week                    int64\n",
       "sales_method         category\n",
       "nb_sold                 int64\n",
       "revenue               float64\n",
       "years_as_customer       int64\n",
       "nb_site_visits          int64\n",
       "state                  object\n",
       "dtype: object"
      ]
     },
     "execution_count": 96,
     "metadata": {},
     "output_type": "execute_result"
    }
   ],
   "source": [
    "df_new.dtypes"
   ]
  },
  {
   "cell_type": "code",
   "execution_count": 97,
   "id": "273a3e48",
   "metadata": {},
   "outputs": [
    {
     "name": "stdout",
     "output_type": "stream",
     "text": [
      "<class 'pandas.core.frame.DataFrame'>\n",
      "RangeIndex: 15000 entries, 0 to 14999\n",
      "Data columns (total 7 columns):\n",
      " #   Column             Non-Null Count  Dtype   \n",
      "---  ------             --------------  -----   \n",
      " 0   week               15000 non-null  int64   \n",
      " 1   sales_method       15000 non-null  category\n",
      " 2   nb_sold            15000 non-null  int64   \n",
      " 3   revenue            13926 non-null  float64 \n",
      " 4   years_as_customer  15000 non-null  int64   \n",
      " 5   nb_site_visits     15000 non-null  int64   \n",
      " 6   state              15000 non-null  object  \n",
      "dtypes: category(1), float64(1), int64(4), object(1)\n",
      "memory usage: 718.0+ KB\n"
     ]
    }
   ],
   "source": [
    "df_new.info()"
   ]
  },
  {
   "cell_type": "code",
   "execution_count": 98,
   "id": "5d2306eb",
   "metadata": {},
   "outputs": [
    {
     "name": "stdout",
     "output_type": "stream",
     "text": [
      "Negative values not found\n"
     ]
    }
   ],
   "source": [
    "#week column\n",
    "\n",
    "#Check for negative values:\n",
    "\n",
    "if (df_new['week'] < 0).any():\n",
    "    print(\"Negative values found in number_of_sold column\")\n",
    "    # Handle/Resolve: Replace with 0 or remove rows\n",
    "    #df_new['week'] = df_new['week'].apply(lambda x: 0 if x < 0 else x)\n",
    "else:\n",
    "    print(\"Negative values not found\")\n"
   ]
  },
  {
   "cell_type": "code",
   "execution_count": 99,
   "id": "a6e4a48d",
   "metadata": {},
   "outputs": [
    {
     "name": "stdout",
     "output_type": "stream",
     "text": [
      "Non numeric values not found\n"
     ]
    }
   ],
   "source": [
    "# Check for non-numeric values:\n",
    "\n",
    "\n",
    "if df_new['week'].apply(lambda x: not isinstance(x, (int, float))).any():\n",
    "    print(\"Non-numeric values found in week\")\n",
    "else:\n",
    "    print(\"Non numeric values not found\")\n"
   ]
  },
  {
   "cell_type": "code",
   "execution_count": 202,
   "id": "d0bef2ff",
   "metadata": {},
   "outputs": [],
   "source": [
    "#Replace with NaN:\n",
    "\n",
    "#df_new['week'] = pd.to_numeric(df_new['week'], errors='coerce')\n",
    "\n",
    "#Replace with mean/median/mode:\n",
    "\n",
    "#df_new['week'] = df_new['week'].fillna(df_new['week'].mean())  # replace with mean\n",
    "#df['column'] = df['column'].fillna(df['column'].median())   replace with median\n",
    "#df['column'] = df['column'].fillna(df['column'].mode()[0])  replace with mode\n",
    "\n",
    "#Replace with a specific value:\n",
    "\n",
    "#df_new['week'] = df_new['week'].fillna(0)  # replace with 0\n",
    "\n",
    "#Drop rows with non-numeric values:\n",
    "\n",
    "#df = df[df['column'].apply(lambda x: isinstance(x, (int, float)))]\n",
    "\n",
    "#Convert to numeric using regex:\n",
    "\n",
    "#import re\n",
    "#df_new['week'] = df_new['week'].apply(lambda x: float(re.sub(r'[^\\d\\.]', '', x)))\n",
    "\n",
    "\n",
    "\n",
    "\n"
   ]
  },
  {
   "cell_type": "code",
   "execution_count": 100,
   "id": "52005d07",
   "metadata": {},
   "outputs": [],
   "source": [
    "#sales_method column\n",
    "\n",
    "#Check for invalid or unknown values:\n",
    "\n",
    "df_new['sales_method']= df_new['sales_method'].astype(str)\n"
   ]
  },
  {
   "cell_type": "code",
   "execution_count": 101,
   "id": "94932ef0",
   "metadata": {},
   "outputs": [
    {
     "name": "stdout",
     "output_type": "stream",
     "text": [
      "It's fine\n"
     ]
    }
   ],
   "source": [
    "if df_new['sales_method'].isin(['invalid', 'unknown']).any():\n",
    "    print(\"Invalid or unknown values found in sales_method column\")\n",
    "else:\n",
    "    print(\"It's fine\")\n",
    "    # Handle/Resolve: Replace with suitable values or remove rows\n",
    "    #df['sales_method'] = df['sales_method'].replace(['invalid', 'unknown'], 'Other')\n"
   ]
  },
  {
   "cell_type": "code",
   "execution_count": 102,
   "id": "be74ccad",
   "metadata": {},
   "outputs": [
    {
     "name": "stdout",
     "output_type": "stream",
     "text": [
      "Non-alphabetic characters found in sales_method column\n"
     ]
    }
   ],
   "source": [
    "# Check for consistent formatting:\n",
    "\n",
    "\n",
    "if df_new['sales_method'].str.contains('[^a-zA-Z]').any():\n",
    "    print(\"Non-alphabetic characters found in sales_method column\")\n",
    "    #df_new['sales_method'] = df_new['sales_method'].str.replace('[^a-zA-Z]', '')\n",
    "    "
   ]
  },
  {
   "cell_type": "code",
   "execution_count": 103,
   "id": "cfed3870",
   "metadata": {},
   "outputs": [
    {
     "data": {
      "text/plain": [
       "Text(0.5, 1.0, 'Visualization of commonly used sales_method')"
      ]
     },
     "execution_count": 103,
     "metadata": {},
     "output_type": "execute_result"
    },
    {
     "data": {
      "image/png": "[encoded data removed]",
      "text/plain": [
       "<Figure size 640x480 with 1 Axes>"
      ]
     },
     "metadata": {},
     "output_type": "display_data"
    }
   ],
   "source": [
    "plt.hist(df[\"sales_method\"])\n",
    "plt.title(\"Visualization of commonly used sales_method\")"
   ]
  },
  {
   "cell_type": "code",
   "execution_count": 104,
   "id": "26c9669c",
   "metadata": {},
   "outputs": [
    {
     "name": "stdout",
     "output_type": "stream",
     "text": [
      "Non-alphabetic characters found in sales_method column\n"
     ]
    }
   ],
   "source": [
    "if df_new['sales_method'].str.contains('[^a-zA-Z]').any():\n",
    "    print(\"Non-alphabetic characters found in sales_method column\")"
   ]
  },
  {
   "cell_type": "code",
   "execution_count": 105,
   "id": "9d528373",
   "metadata": {},
   "outputs": [
    {
     "data": {
      "text/html": [
       "<div>\n",
       "<style scoped>\n",
       "    .dataframe tbody tr th:only-of-type {\n",
       "        vertical-align: middle;\n",
       "    }\n",
       "\n",
       "    .dataframe tbody tr th {\n",
       "        vertical-align: top;\n",
       "    }\n",
       "\n",
       "    .dataframe thead th {\n",
       "        text-align: right;\n",
       "    }\n",
       "</style>\n",
       "<table border=\"1\" class=\"dataframe\">\n",
       "  <thead>\n",
       "    <tr style=\"text-align: right;\">\n",
       "      <th></th>\n",
       "      <th>week</th>\n",
       "      <th>sales_method</th>\n",
       "      <th>nb_sold</th>\n",
       "      <th>revenue</th>\n",
       "      <th>years_as_customer</th>\n",
       "      <th>nb_site_visits</th>\n",
       "      <th>state</th>\n",
       "    </tr>\n",
       "  </thead>\n",
       "  <tbody>\n",
       "    <tr>\n",
       "      <th>0</th>\n",
       "      <td>2</td>\n",
       "      <td>Email</td>\n",
       "      <td>10</td>\n",
       "      <td>NaN</td>\n",
       "      <td>0</td>\n",
       "      <td>24</td>\n",
       "      <td>Arizona</td>\n",
       "    </tr>\n",
       "    <tr>\n",
       "      <th>1</th>\n",
       "      <td>6</td>\n",
       "      <td>Email + Call</td>\n",
       "      <td>15</td>\n",
       "      <td>225.47</td>\n",
       "      <td>1</td>\n",
       "      <td>28</td>\n",
       "      <td>Kansas</td>\n",
       "    </tr>\n",
       "    <tr>\n",
       "      <th>2</th>\n",
       "      <td>5</td>\n",
       "      <td>Call</td>\n",
       "      <td>11</td>\n",
       "      <td>52.55</td>\n",
       "      <td>6</td>\n",
       "      <td>26</td>\n",
       "      <td>Wisconsin</td>\n",
       "    </tr>\n",
       "    <tr>\n",
       "      <th>3</th>\n",
       "      <td>4</td>\n",
       "      <td>Email</td>\n",
       "      <td>11</td>\n",
       "      <td>NaN</td>\n",
       "      <td>3</td>\n",
       "      <td>25</td>\n",
       "      <td>Indiana</td>\n",
       "    </tr>\n",
       "    <tr>\n",
       "      <th>4</th>\n",
       "      <td>3</td>\n",
       "      <td>Email</td>\n",
       "      <td>9</td>\n",
       "      <td>90.49</td>\n",
       "      <td>0</td>\n",
       "      <td>28</td>\n",
       "      <td>Illinois</td>\n",
       "    </tr>\n",
       "  </tbody>\n",
       "</table>\n",
       "</div>"
      ],
      "text/plain": [
       "   week  sales_method  nb_sold  revenue  years_as_customer  nb_site_visits  \\\n",
       "0     2         Email       10      NaN                  0              24   \n",
       "1     6  Email + Call       15   225.47                  1              28   \n",
       "2     5          Call       11    52.55                  6              26   \n",
       "3     4         Email       11      NaN                  3              25   \n",
       "4     3         Email        9    90.49                  0              28   \n",
       "\n",
       "       state  \n",
       "0    Arizona  \n",
       "1     Kansas  \n",
       "2  Wisconsin  \n",
       "3    Indiana  \n",
       "4   Illinois  "
      ]
     },
     "execution_count": 105,
     "metadata": {},
     "output_type": "execute_result"
    }
   ],
   "source": [
    "df_new.head()"
   ]
  },
  {
   "cell_type": "code",
   "execution_count": 106,
   "id": "3787ef67",
   "metadata": {},
   "outputs": [
    {
     "name": "stdout",
     "output_type": "stream",
     "text": [
      "Negative values were not found in the nb_sold column\n"
     ]
    }
   ],
   "source": [
    "#nb_sold column\n",
    "\n",
    "#Check for negative values:\n",
    "\n",
    "if (df_new['nb_sold'] < 0).any():\n",
    "    print(\"Negative values found in nb_sold column\")\n",
    "else:\n",
    "    print(\"Negative values were not found in the nb_sold column\")\n",
    "   # Handle/Resolve: Replace with 0 or remove rows\n",
    "    #df_new['nb_sold'] = df_new['nb_sold'].apply(lambda x: 0 if x < 0 else x) "
   ]
  },
  {
   "cell_type": "code",
   "execution_count": 107,
   "id": "5d279727",
   "metadata": {},
   "outputs": [
    {
     "name": "stdout",
     "output_type": "stream",
     "text": [
      "Series([], Name: nb_sold, dtype: int64)\n"
     ]
    }
   ],
   "source": [
    "# Check for non-numeric values:\n",
    "\n",
    "non_numeric = df_new['nb_sold'].apply(lambda x: not isinstance(x, (int, float)))\n",
    "non_numeric_values = df_new[\"nb_sold\"][non_numeric]\n",
    "print(non_numeric_values)"
   ]
  },
  {
   "cell_type": "code",
   "execution_count": 108,
   "id": "ae114db5",
   "metadata": {},
   "outputs": [
    {
     "data": {
      "text/plain": [
       "week                    0\n",
       "sales_method            0\n",
       "nb_sold                 0\n",
       "revenue              1074\n",
       "years_as_customer       0\n",
       "nb_site_visits          0\n",
       "state                   0\n",
       "dtype: int64"
      ]
     },
     "execution_count": 108,
     "metadata": {},
     "output_type": "execute_result"
    }
   ],
   "source": [
    "df_new.isna().sum()"
   ]
  },
  {
   "cell_type": "code",
   "execution_count": 109,
   "id": "d6598dfa",
   "metadata": {},
   "outputs": [],
   "source": [
    "mean_value = df_new['revenue'].mean()\n",
    "df_new['revenue'] = df_new['revenue'].fillna(mean_value)"
   ]
  },
  {
   "cell_type": "code",
   "execution_count": 110,
   "id": "5819dd7d",
   "metadata": {},
   "outputs": [
    {
     "data": {
      "text/plain": [
       "week                 0\n",
       "sales_method         0\n",
       "nb_sold              0\n",
       "revenue              0\n",
       "years_as_customer    0\n",
       "nb_site_visits       0\n",
       "state                0\n",
       "dtype: int64"
      ]
     },
     "execution_count": 110,
     "metadata": {},
     "output_type": "execute_result"
    }
   ],
   "source": [
    "df_new.isna().sum()"
   ]
  },
  {
   "cell_type": "code",
   "execution_count": 111,
   "id": "64e01b5a",
   "metadata": {},
   "outputs": [
    {
     "data": {
      "text/plain": [
       "(15000, 7)"
      ]
     },
     "execution_count": 111,
     "metadata": {},
     "output_type": "execute_result"
    }
   ],
   "source": [
    "df_new.shape"
   ]
  },
  {
   "cell_type": "code",
   "execution_count": 112,
   "id": "733e5d7d",
   "metadata": {},
   "outputs": [
    {
     "data": {
      "text/html": [
       "<div>\n",
       "<style scoped>\n",
       "    .dataframe tbody tr th:only-of-type {\n",
       "        vertical-align: middle;\n",
       "    }\n",
       "\n",
       "    .dataframe tbody tr th {\n",
       "        vertical-align: top;\n",
       "    }\n",
       "\n",
       "    .dataframe thead th {\n",
       "        text-align: right;\n",
       "    }\n",
       "</style>\n",
       "<table border=\"1\" class=\"dataframe\">\n",
       "  <thead>\n",
       "    <tr style=\"text-align: right;\">\n",
       "      <th></th>\n",
       "      <th>week</th>\n",
       "      <th>sales_method</th>\n",
       "      <th>nb_sold</th>\n",
       "      <th>revenue</th>\n",
       "      <th>years_as_customer</th>\n",
       "      <th>nb_site_visits</th>\n",
       "      <th>state</th>\n",
       "    </tr>\n",
       "  </thead>\n",
       "  <tbody>\n",
       "    <tr>\n",
       "      <th>0</th>\n",
       "      <td>2</td>\n",
       "      <td>Email</td>\n",
       "      <td>10</td>\n",
       "      <td>93.934943</td>\n",
       "      <td>0</td>\n",
       "      <td>24</td>\n",
       "      <td>Arizona</td>\n",
       "    </tr>\n",
       "    <tr>\n",
       "      <th>1</th>\n",
       "      <td>6</td>\n",
       "      <td>Email + Call</td>\n",
       "      <td>15</td>\n",
       "      <td>225.470000</td>\n",
       "      <td>1</td>\n",
       "      <td>28</td>\n",
       "      <td>Kansas</td>\n",
       "    </tr>\n",
       "    <tr>\n",
       "      <th>2</th>\n",
       "      <td>5</td>\n",
       "      <td>Call</td>\n",
       "      <td>11</td>\n",
       "      <td>52.550000</td>\n",
       "      <td>6</td>\n",
       "      <td>26</td>\n",
       "      <td>Wisconsin</td>\n",
       "    </tr>\n",
       "    <tr>\n",
       "      <th>3</th>\n",
       "      <td>4</td>\n",
       "      <td>Email</td>\n",
       "      <td>11</td>\n",
       "      <td>93.934943</td>\n",
       "      <td>3</td>\n",
       "      <td>25</td>\n",
       "      <td>Indiana</td>\n",
       "    </tr>\n",
       "    <tr>\n",
       "      <th>4</th>\n",
       "      <td>3</td>\n",
       "      <td>Email</td>\n",
       "      <td>9</td>\n",
       "      <td>90.490000</td>\n",
       "      <td>0</td>\n",
       "      <td>28</td>\n",
       "      <td>Illinois</td>\n",
       "    </tr>\n",
       "  </tbody>\n",
       "</table>\n",
       "</div>"
      ],
      "text/plain": [
       "   week  sales_method  nb_sold     revenue  years_as_customer  nb_site_visits  \\\n",
       "0     2         Email       10   93.934943                  0              24   \n",
       "1     6  Email + Call       15  225.470000                  1              28   \n",
       "2     5          Call       11   52.550000                  6              26   \n",
       "3     4         Email       11   93.934943                  3              25   \n",
       "4     3         Email        9   90.490000                  0              28   \n",
       "\n",
       "       state  \n",
       "0    Arizona  \n",
       "1     Kansas  \n",
       "2  Wisconsin  \n",
       "3    Indiana  \n",
       "4   Illinois  "
      ]
     },
     "execution_count": 112,
     "metadata": {},
     "output_type": "execute_result"
    }
   ],
   "source": [
    "df_new.head()"
   ]
  },
  {
   "cell_type": "code",
   "execution_count": 113,
   "id": "20b01f34",
   "metadata": {},
   "outputs": [
    {
     "name": "stdout",
     "output_type": "stream",
     "text": [
      "Negative values were not found in the revenue column\n"
     ]
    }
   ],
   "source": [
    "if (df_new['revenue'] < 0).any():\n",
    "    print(\"Negative values found in revenue column\")\n",
    "else:\n",
    "    print(\"Negative values were not found in the revenue column\")\n",
    "   # Handle/Resolve: Replace with 0 or remove rows\n",
    "    #df_new['nb_sold'] = df_new['nb_sold'].apply(lambda x: 0 if x < 0 else x) "
   ]
  },
  {
   "cell_type": "code",
   "execution_count": 114,
   "id": "85374ba0",
   "metadata": {},
   "outputs": [
    {
     "name": "stdout",
     "output_type": "stream",
     "text": [
      "Series([], Name: revenue, dtype: float64)\n"
     ]
    }
   ],
   "source": [
    "non_numeric = df_new['revenue'].apply(lambda x: not isinstance(x, (int, float)))\n",
    "non_numeric_values = df_new['revenue'][non_numeric]\n",
    "print(non_numeric_values)"
   ]
  },
  {
   "cell_type": "code",
   "execution_count": 68,
   "id": "a87105e2",
   "metadata": {},
   "outputs": [],
   "source": [
    "#this is used, should non-numeric values were found\n",
    "#df_new['revenue'] = pd.to_numeric(df_new['revenue'], errors='coerce')\n"
   ]
  },
  {
   "cell_type": "code",
   "execution_count": 115,
   "id": "b8494234",
   "metadata": {},
   "outputs": [
    {
     "name": "stdout",
     "output_type": "stream",
     "text": [
      "Negative values were not found in the years_as_customer column\n"
     ]
    }
   ],
   "source": [
    "#Checking for Negative values \n",
    "\n",
    "if (df_new['years_as_customer'] < 0).any():\n",
    "    print(\"Negative values found in years_as_customer column\")\n",
    "else:\n",
    "    print(\"Negative values were not found in the years_as_customer column\")"
   ]
  },
  {
   "cell_type": "code",
   "execution_count": 116,
   "id": "73c16b49",
   "metadata": {},
   "outputs": [
    {
     "name": "stdout",
     "output_type": "stream",
     "text": [
      "Series([], Name: years_as_customer, dtype: int64)\n"
     ]
    }
   ],
   "source": [
    "#Checking for non-numeric values\n",
    "    \n",
    "non_numeric = df_new['years_as_customer'].apply(lambda x: not isinstance(x, (int, float)))\n",
    "non_numeric_values = df_new['years_as_customer'][non_numeric]\n",
    "print(non_numeric_values)  # prints the non-numeric values\n",
    "    "
   ]
  },
  {
   "cell_type": "code",
   "execution_count": 117,
   "id": "d23baa6c",
   "metadata": {},
   "outputs": [
    {
     "data": {
      "text/html": [
       "<div>\n",
       "<style scoped>\n",
       "    .dataframe tbody tr th:only-of-type {\n",
       "        vertical-align: middle;\n",
       "    }\n",
       "\n",
       "    .dataframe tbody tr th {\n",
       "        vertical-align: top;\n",
       "    }\n",
       "\n",
       "    .dataframe thead th {\n",
       "        text-align: right;\n",
       "    }\n",
       "</style>\n",
       "<table border=\"1\" class=\"dataframe\">\n",
       "  <thead>\n",
       "    <tr style=\"text-align: right;\">\n",
       "      <th></th>\n",
       "      <th>week</th>\n",
       "      <th>sales_method</th>\n",
       "      <th>nb_sold</th>\n",
       "      <th>revenue</th>\n",
       "      <th>years_as_customer</th>\n",
       "      <th>nb_site_visits</th>\n",
       "      <th>state</th>\n",
       "    </tr>\n",
       "  </thead>\n",
       "  <tbody>\n",
       "    <tr>\n",
       "      <th>0</th>\n",
       "      <td>2</td>\n",
       "      <td>Email</td>\n",
       "      <td>10</td>\n",
       "      <td>93.934943</td>\n",
       "      <td>0</td>\n",
       "      <td>24</td>\n",
       "      <td>Arizona</td>\n",
       "    </tr>\n",
       "    <tr>\n",
       "      <th>1</th>\n",
       "      <td>6</td>\n",
       "      <td>Email + Call</td>\n",
       "      <td>15</td>\n",
       "      <td>225.470000</td>\n",
       "      <td>1</td>\n",
       "      <td>28</td>\n",
       "      <td>Kansas</td>\n",
       "    </tr>\n",
       "    <tr>\n",
       "      <th>2</th>\n",
       "      <td>5</td>\n",
       "      <td>Call</td>\n",
       "      <td>11</td>\n",
       "      <td>52.550000</td>\n",
       "      <td>6</td>\n",
       "      <td>26</td>\n",
       "      <td>Wisconsin</td>\n",
       "    </tr>\n",
       "    <tr>\n",
       "      <th>3</th>\n",
       "      <td>4</td>\n",
       "      <td>Email</td>\n",
       "      <td>11</td>\n",
       "      <td>93.934943</td>\n",
       "      <td>3</td>\n",
       "      <td>25</td>\n",
       "      <td>Indiana</td>\n",
       "    </tr>\n",
       "    <tr>\n",
       "      <th>4</th>\n",
       "      <td>3</td>\n",
       "      <td>Email</td>\n",
       "      <td>9</td>\n",
       "      <td>90.490000</td>\n",
       "      <td>0</td>\n",
       "      <td>28</td>\n",
       "      <td>Illinois</td>\n",
       "    </tr>\n",
       "  </tbody>\n",
       "</table>\n",
       "</div>"
      ],
      "text/plain": [
       "   week  sales_method  nb_sold     revenue  years_as_customer  nb_site_visits  \\\n",
       "0     2         Email       10   93.934943                  0              24   \n",
       "1     6  Email + Call       15  225.470000                  1              28   \n",
       "2     5          Call       11   52.550000                  6              26   \n",
       "3     4         Email       11   93.934943                  3              25   \n",
       "4     3         Email        9   90.490000                  0              28   \n",
       "\n",
       "       state  \n",
       "0    Arizona  \n",
       "1     Kansas  \n",
       "2  Wisconsin  \n",
       "3    Indiana  \n",
       "4   Illinois  "
      ]
     },
     "execution_count": 117,
     "metadata": {},
     "output_type": "execute_result"
    }
   ],
   "source": [
    "df_new.head()"
   ]
  },
  {
   "cell_type": "code",
   "execution_count": 118,
   "id": "48565cb6",
   "metadata": {},
   "outputs": [
    {
     "name": "stdout",
     "output_type": "stream",
     "text": [
      "Negative values were not found in the nb_site_visits column\n"
     ]
    }
   ],
   "source": [
    "#nb_site_visits column\n",
    "\n",
    "#checking for negative values\n",
    "\n",
    "if (df_new['nb_site_visits'] < 0).any():\n",
    "    print(\"Negative values found in years_as_customer column\")\n",
    "else:\n",
    "    print(\"Negative values were not found in the nb_site_visits column\")"
   ]
  },
  {
   "cell_type": "code",
   "execution_count": 119,
   "id": "f3c8a73e",
   "metadata": {},
   "outputs": [
    {
     "name": "stdout",
     "output_type": "stream",
     "text": [
      "Series([], Name: nb_site_visits, dtype: int64)\n"
     ]
    }
   ],
   "source": [
    "non_numeric = df_new['nb_site_visits'].apply(lambda x: not isinstance(x, (int, float)))\n",
    "non_numeric_values = df_new['nb_site_visits'][non_numeric]\n",
    "print(non_numeric_values)  # prints the non-numeric values"
   ]
  },
  {
   "cell_type": "code",
   "execution_count": 120,
   "id": "f43e57a4",
   "metadata": {},
   "outputs": [],
   "source": [
    "#state\n",
    "\n",
    "#Check for invalid or unknown values:\n",
    "\n",
    "if df_new['state'].isin(['invalid', 'unknown']).any():\n",
    "    print(\"Invalid or unknown values found in state column\")\n",
    "    # Handle/Resolve: Replace with suitable values or remove rows\n",
    "    #df_new['state'] = df_new['state'].replace(['invalid', 'unknown'], 'Other')\n",
    "\n"
   ]
  },
  {
   "cell_type": "code",
   "execution_count": 121,
   "id": "d21c109c",
   "metadata": {},
   "outputs": [
    {
     "name": "stdout",
     "output_type": "stream",
     "text": [
      "True\n"
     ]
    }
   ],
   "source": [
    "#Check for consistent formatting:\n",
    "\n",
    "\n",
    "print(df_new['state'].str.contains('[^a-zA-Z]').any())\n",
    "    #print(\"Non-alphabetic characters found in state column\")\n",
    "    # Handle/Resolve: Remove non-alphabetic characters\n",
    "    #df_new['state'] = df_new['state'].str\n"
   ]
  },
  {
   "cell_type": "code",
   "execution_count": 122,
   "id": "7d1e754d",
   "metadata": {},
   "outputs": [
    {
     "name": "stdout",
     "output_type": "stream",
     "text": [
      "0              Arizona\n",
      "1               Kansas\n",
      "2            Wisconsin\n",
      "3              Indiana\n",
      "4             Illinois\n",
      "             ...      \n",
      "14995     Pennsylvania\n",
      "14996           Kansas\n",
      "14997    West Virginia\n",
      "14998       New Jersey\n",
      "14999         Illinois\n",
      "Name: state, Length: 15000, dtype: object\n"
     ]
    }
   ],
   "source": [
    "print(df_new['state'].str.replace('[^a-zA-Z]', ''))"
   ]
  },
  {
   "cell_type": "code",
   "execution_count": 123,
   "id": "7b36d007",
   "metadata": {},
   "outputs": [
    {
     "name": "stdout",
     "output_type": "stream",
     "text": [
      "True\n"
     ]
    }
   ],
   "source": [
    "print(df_new['state'].str.contains('[^a-zA-Z]').any())"
   ]
  },
  {
   "cell_type": "code",
   "execution_count": 124,
   "id": "8099ba36",
   "metadata": {},
   "outputs": [],
   "source": [
    "df_new['state'] = df_new['state'].str.replace('[^a-zA-Z]', '')\n",
    "\n",
    "\n",
    "# Using the re.sub() method:\n",
    "#import re\n",
    "\n",
    "df_new['state'] = df_new['state'].apply(lambda x: re.sub(r'[^a-zA-Z]', '', x))\n",
    "\n",
    "#Using the str.extract() method:\n",
    "\n",
    "#import re\n",
    "\n",
    "df_new['state'] = df_new['state'].str.extract('([a-zA-Z]+)', expand=False)\n",
    "\n",
    "# Using the str.contains() method:\n",
    "\n",
    "df_new['state'] = df_new['state'][df_new['state'].str.contains('[a-zA-Z]')]\n"
   ]
  },
  {
   "cell_type": "code",
   "execution_count": 125,
   "id": "75802083",
   "metadata": {},
   "outputs": [],
   "source": [
    "if df_new['state'].str.contains('[^a-zA-Z]').any():\n",
    "    print(\"Non-alphabetic characters found in state column\")\n",
    "    # Handle/Resolve: Remove non-alphabetic characters\n",
    "    #df_new['state'] = df_new['state'].str"
   ]
  },
  {
   "cell_type": "code",
   "execution_count": 126,
   "id": "5b8c3379",
   "metadata": {},
   "outputs": [
    {
     "name": "stdout",
     "output_type": "stream",
     "text": [
      "False\n"
     ]
    }
   ],
   "source": [
    "print(df_new['state'].str.contains('[^a-zA-Z]').any())"
   ]
  },
  {
   "cell_type": "code",
   "execution_count": 127,
   "id": "a3afe28c",
   "metadata": {},
   "outputs": [],
   "source": [
    "df_new['sales_method'] = df_new['sales_method'].astype('category')    #convert to data type"
   ]
  },
  {
   "cell_type": "code",
   "execution_count": 128,
   "id": "8ecc94e5",
   "metadata": {},
   "outputs": [
    {
     "data": {
      "text/plain": [
       "week                    int64\n",
       "sales_method         category\n",
       "nb_sold                 int64\n",
       "revenue               float64\n",
       "years_as_customer       int64\n",
       "nb_site_visits          int64\n",
       "state                  object\n",
       "dtype: object"
      ]
     },
     "execution_count": 128,
     "metadata": {},
     "output_type": "execute_result"
    }
   ],
   "source": [
    "df_new.dtypes"
   ]
  },
  {
   "cell_type": "code",
   "execution_count": 129,
   "id": "cb1bb803",
   "metadata": {},
   "outputs": [
    {
     "data": {
      "text/plain": [
       "sales_method\n",
       "Email           7466\n",
       "Call            4962\n",
       "Email + Call    2572\n",
       "Name: count, dtype: int64"
      ]
     },
     "execution_count": 129,
     "metadata": {},
     "output_type": "execute_result"
    }
   ],
   "source": [
    "df_new[\"sales_method\"].value_counts()"
   ]
  },
  {
   "cell_type": "code",
   "execution_count": 130,
   "id": "23111710",
   "metadata": {},
   "outputs": [
    {
     "name": "stdout",
     "output_type": "stream",
     "text": [
      "<class 'pandas.core.frame.DataFrame'>\n",
      "RangeIndex: 15000 entries, 0 to 14999\n",
      "Data columns (total 7 columns):\n",
      " #   Column             Non-Null Count  Dtype   \n",
      "---  ------             --------------  -----   \n",
      " 0   week               15000 non-null  int64   \n",
      " 1   sales_method       15000 non-null  category\n",
      " 2   nb_sold            15000 non-null  int64   \n",
      " 3   revenue            15000 non-null  float64 \n",
      " 4   years_as_customer  15000 non-null  int64   \n",
      " 5   nb_site_visits     15000 non-null  int64   \n",
      " 6   state              15000 non-null  object  \n",
      "dtypes: category(1), float64(1), int64(4), object(1)\n",
      "memory usage: 718.0+ KB\n"
     ]
    }
   ],
   "source": [
    "df_new.info()"
   ]
  },
  {
   "cell_type": "code",
   "execution_count": 131,
   "id": "9040b6a6",
   "metadata": {},
   "outputs": [
    {
     "name": "stdout",
     "output_type": "stream",
     "text": [
      "<class 'pandas.core.frame.DataFrame'>\n",
      "RangeIndex: 15000 entries, 0 to 14999\n",
      "Data columns (total 7 columns):\n",
      " #   Column             Non-Null Count  Dtype   \n",
      "---  ------             --------------  -----   \n",
      " 0   week               15000 non-null  int64   \n",
      " 1   sales_method       15000 non-null  category\n",
      " 2   nb_sold            15000 non-null  int64   \n",
      " 3   revenue            15000 non-null  float64 \n",
      " 4   years_as_customer  15000 non-null  int64   \n",
      " 5   nb_site_visits     15000 non-null  int64   \n",
      " 6   state              15000 non-null  object  \n",
      "dtypes: category(1), float64(1), int64(4), object(1)\n",
      "memory usage: 718.0+ KB\n"
     ]
    }
   ],
   "source": [
    "df_new.info()"
   ]
  },
  {
   "cell_type": "code",
   "execution_count": 368,
   "id": "d5594d07",
   "metadata": {},
   "outputs": [],
   "source": [
    "#df_new.drop(df_new[df_new['sales_method'] == 'em + call'].index, inplace=True)"
   ]
  },
  {
   "cell_type": "code",
   "execution_count": 369,
   "id": "37920469",
   "metadata": {},
   "outputs": [],
   "source": [
    "#df_new.drop(df_new[df_new['sales_method'] == 'email'].index, inplace=True)"
   ]
  },
  {
   "cell_type": "code",
   "execution_count": 133,
   "id": "c29b8c22",
   "metadata": {},
   "outputs": [],
   "source": [
    "df_new['sales_method'] = df_new['sales_method'].astype('category') "
   ]
  },
  {
   "cell_type": "code",
   "execution_count": 134,
   "id": "30bb032f",
   "metadata": {},
   "outputs": [
    {
     "data": {
      "text/plain": [
       "sales_method\n",
       "Email           7466\n",
       "Call            4962\n",
       "Email + Call    2572\n",
       "Name: count, dtype: int64"
      ]
     },
     "execution_count": 134,
     "metadata": {},
     "output_type": "execute_result"
    }
   ],
   "source": [
    "df_new['sales_method'].value_counts()"
   ]
  },
  {
   "cell_type": "code",
   "execution_count": 135,
   "id": "278c3b80",
   "metadata": {},
   "outputs": [],
   "source": [
    "assert df_new['sales_method'].dtype == 'category'"
   ]
  },
  {
   "cell_type": "code",
   "execution_count": 136,
   "id": "ee091427",
   "metadata": {},
   "outputs": [
    {
     "data": {
      "text/plain": [
       "week                 0\n",
       "sales_method         0\n",
       "nb_sold              0\n",
       "revenue              0\n",
       "years_as_customer    0\n",
       "nb_site_visits       0\n",
       "state                0\n",
       "dtype: int64"
      ]
     },
     "execution_count": 136,
     "metadata": {},
     "output_type": "execute_result"
    }
   ],
   "source": [
    "df_new.isna().sum()"
   ]
  },
  {
   "cell_type": "code",
   "execution_count": 137,
   "id": "d09fe842",
   "metadata": {},
   "outputs": [
    {
     "data": {
      "text/plain": [
       "16"
      ]
     },
     "execution_count": 137,
     "metadata": {},
     "output_type": "execute_result"
    }
   ],
   "source": [
    "df_new.duplicated().sum() "
   ]
  },
  {
   "cell_type": "code",
   "execution_count": 138,
   "id": "829b1a7f",
   "metadata": {},
   "outputs": [],
   "source": [
    "df_new = df_new.drop_duplicates()"
   ]
  },
  {
   "cell_type": "code",
   "execution_count": 139,
   "id": "571eea1c",
   "metadata": {},
   "outputs": [
    {
     "data": {
      "text/plain": [
       "0"
      ]
     },
     "execution_count": 139,
     "metadata": {},
     "output_type": "execute_result"
    }
   ],
   "source": [
    "df_new.duplicated().sum()"
   ]
  },
  {
   "cell_type": "code",
   "execution_count": 140,
   "id": "62355263",
   "metadata": {},
   "outputs": [
    {
     "data": {
      "text/plain": [
       "sales_method\n",
       "Email           7456\n",
       "Call            4959\n",
       "Email + Call    2569\n",
       "Name: count, dtype: int64"
      ]
     },
     "execution_count": 140,
     "metadata": {},
     "output_type": "execute_result"
    }
   ],
   "source": [
    "df_new[\"sales_method\"].value_counts()"
   ]
  },
  {
   "cell_type": "code",
   "execution_count": 141,
   "id": "81606e99",
   "metadata": {},
   "outputs": [
    {
     "data": {
      "text/html": [
       "<div>\n",
       "<style scoped>\n",
       "    .dataframe tbody tr th:only-of-type {\n",
       "        vertical-align: middle;\n",
       "    }\n",
       "\n",
       "    .dataframe tbody tr th {\n",
       "        vertical-align: top;\n",
       "    }\n",
       "\n",
       "    .dataframe thead th {\n",
       "        text-align: right;\n",
       "    }\n",
       "</style>\n",
       "<table border=\"1\" class=\"dataframe\">\n",
       "  <thead>\n",
       "    <tr style=\"text-align: right;\">\n",
       "      <th></th>\n",
       "      <th>week</th>\n",
       "      <th>sales_method</th>\n",
       "      <th>nb_sold</th>\n",
       "      <th>revenue</th>\n",
       "      <th>years_as_customer</th>\n",
       "      <th>nb_site_visits</th>\n",
       "      <th>state</th>\n",
       "    </tr>\n",
       "  </thead>\n",
       "  <tbody>\n",
       "    <tr>\n",
       "      <th>0</th>\n",
       "      <td>2</td>\n",
       "      <td>Email</td>\n",
       "      <td>10</td>\n",
       "      <td>93.934943</td>\n",
       "      <td>0</td>\n",
       "      <td>24</td>\n",
       "      <td>Arizona</td>\n",
       "    </tr>\n",
       "    <tr>\n",
       "      <th>1</th>\n",
       "      <td>6</td>\n",
       "      <td>Email + Call</td>\n",
       "      <td>15</td>\n",
       "      <td>225.470000</td>\n",
       "      <td>1</td>\n",
       "      <td>28</td>\n",
       "      <td>Kansas</td>\n",
       "    </tr>\n",
       "    <tr>\n",
       "      <th>2</th>\n",
       "      <td>5</td>\n",
       "      <td>Call</td>\n",
       "      <td>11</td>\n",
       "      <td>52.550000</td>\n",
       "      <td>6</td>\n",
       "      <td>26</td>\n",
       "      <td>Wisconsin</td>\n",
       "    </tr>\n",
       "    <tr>\n",
       "      <th>3</th>\n",
       "      <td>4</td>\n",
       "      <td>Email</td>\n",
       "      <td>11</td>\n",
       "      <td>93.934943</td>\n",
       "      <td>3</td>\n",
       "      <td>25</td>\n",
       "      <td>Indiana</td>\n",
       "    </tr>\n",
       "    <tr>\n",
       "      <th>4</th>\n",
       "      <td>3</td>\n",
       "      <td>Email</td>\n",
       "      <td>9</td>\n",
       "      <td>90.490000</td>\n",
       "      <td>0</td>\n",
       "      <td>28</td>\n",
       "      <td>Illinois</td>\n",
       "    </tr>\n",
       "  </tbody>\n",
       "</table>\n",
       "</div>"
      ],
      "text/plain": [
       "   week  sales_method  nb_sold     revenue  years_as_customer  nb_site_visits  \\\n",
       "0     2         Email       10   93.934943                  0              24   \n",
       "1     6  Email + Call       15  225.470000                  1              28   \n",
       "2     5          Call       11   52.550000                  6              26   \n",
       "3     4         Email       11   93.934943                  3              25   \n",
       "4     3         Email        9   90.490000                  0              28   \n",
       "\n",
       "       state  \n",
       "0    Arizona  \n",
       "1     Kansas  \n",
       "2  Wisconsin  \n",
       "3    Indiana  \n",
       "4   Illinois  "
      ]
     },
     "execution_count": 141,
     "metadata": {},
     "output_type": "execute_result"
    }
   ],
   "source": [
    "df_new.head()"
   ]
  },
  {
   "cell_type": "code",
   "execution_count": 142,
   "id": "215e0931",
   "metadata": {},
   "outputs": [
    {
     "data": {
      "text/plain": [
       "(14984, 7)"
      ]
     },
     "execution_count": 142,
     "metadata": {},
     "output_type": "execute_result"
    }
   ],
   "source": [
    "df_new.shape"
   ]
  },
  {
   "cell_type": "code",
   "execution_count": 143,
   "id": "8cd60091",
   "metadata": {},
   "outputs": [
    {
     "name": "stdout",
     "output_type": "stream",
     "text": [
      "       week  sales_method  nb_sold    revenue  years_as_customer  \\\n",
      "0         2         Email       10  93.934943                  0   \n",
      "2         5          Call       11  52.550000                  6   \n",
      "3         4         Email       11  93.934943                  3   \n",
      "4         3         Email        9  90.490000                  0   \n",
      "5         6          Call       13  65.010000                 10   \n",
      "...     ...           ...      ...        ...                ...   \n",
      "14995     4          Call       10  50.820000                  0   \n",
      "14996     5          Call       10  52.330000                  1   \n",
      "14997     1          Call        7  34.870000                  4   \n",
      "14998     6          Call       13  64.900000                  2   \n",
      "14999     5  Email + Call       13  93.934943                  4   \n",
      "\n",
      "       nb_site_visits         state  \n",
      "0                  24       Arizona  \n",
      "2                  26     Wisconsin  \n",
      "3                  25       Indiana  \n",
      "4                  28      Illinois  \n",
      "5                  24   Mississippi  \n",
      "...               ...           ...  \n",
      "14995              22  Pennsylvania  \n",
      "14996              27        Kansas  \n",
      "14997              22  WestVirginia  \n",
      "14998              27     NewJersey  \n",
      "14999              25      Illinois  \n",
      "\n",
      "[13956 rows x 7 columns]\n"
     ]
    }
   ],
   "source": [
    "#Handling Outliers\n",
    "\n",
    "Q1 = df_new['revenue'].quantile(0.25) \n",
    "Q3 = df_new['revenue'].quantile(0.75) \n",
    "IQR = Q3 - Q1 \n",
    "df_new_n = df_new[~((df_new['revenue'] < (Q1 - 1.5 * IQR)) | (df_new['revenue'] > (Q3 + 1.5 * IQR)))]\n",
    "\n",
    "print(df_new_n)"
   ]
  },
  {
   "cell_type": "code",
   "execution_count": 144,
   "id": "3d1e8ef7",
   "metadata": {},
   "outputs": [
    {
     "name": "stdout",
     "output_type": "stream",
     "text": [
      "   week sales_method  nb_sold    revenue  years_as_customer  nb_site_visits  \\\n",
      "0     2        Email       10  93.934943                  0              24   \n",
      "2     5         Call       11  52.550000                  6              26   \n",
      "3     4        Email       11  93.934943                  3              25   \n",
      "4     3        Email        9  90.490000                  0              28   \n",
      "5     6         Call       13  65.010000                 10              24   \n",
      "\n",
      "         state  \n",
      "0      Arizona  \n",
      "2    Wisconsin  \n",
      "3      Indiana  \n",
      "4     Illinois  \n",
      "5  Mississippi  \n"
     ]
    }
   ],
   "source": [
    "print(df_new_n.head())"
   ]
  },
  {
   "cell_type": "code",
   "execution_count": 145,
   "id": "0f4dcdad",
   "metadata": {},
   "outputs": [
    {
     "data": {
      "text/html": [
       "<div>\n",
       "<style scoped>\n",
       "    .dataframe tbody tr th:only-of-type {\n",
       "        vertical-align: middle;\n",
       "    }\n",
       "\n",
       "    .dataframe tbody tr th {\n",
       "        vertical-align: top;\n",
       "    }\n",
       "\n",
       "    .dataframe thead th {\n",
       "        text-align: right;\n",
       "    }\n",
       "</style>\n",
       "<table border=\"1\" class=\"dataframe\">\n",
       "  <thead>\n",
       "    <tr style=\"text-align: right;\">\n",
       "      <th></th>\n",
       "      <th>week</th>\n",
       "      <th>nb_sold</th>\n",
       "      <th>revenue</th>\n",
       "      <th>years_as_customer</th>\n",
       "      <th>nb_site_visits</th>\n",
       "    </tr>\n",
       "  </thead>\n",
       "  <tbody>\n",
       "    <tr>\n",
       "      <th>count</th>\n",
       "      <td>13956.000000</td>\n",
       "      <td>13956.000000</td>\n",
       "      <td>13956.000000</td>\n",
       "      <td>13956.000000</td>\n",
       "      <td>13956.000000</td>\n",
       "    </tr>\n",
       "    <tr>\n",
       "      <th>mean</th>\n",
       "      <td>2.925193</td>\n",
       "      <td>9.812554</td>\n",
       "      <td>85.599439</td>\n",
       "      <td>5.029880</td>\n",
       "      <td>24.764761</td>\n",
       "    </tr>\n",
       "    <tr>\n",
       "      <th>std</th>\n",
       "      <td>1.576927</td>\n",
       "      <td>1.525130</td>\n",
       "      <td>34.663950</td>\n",
       "      <td>5.081722</td>\n",
       "      <td>3.426442</td>\n",
       "    </tr>\n",
       "    <tr>\n",
       "      <th>min</th>\n",
       "      <td>1.000000</td>\n",
       "      <td>7.000000</td>\n",
       "      <td>32.540000</td>\n",
       "      <td>0.000000</td>\n",
       "      <td>12.000000</td>\n",
       "    </tr>\n",
       "    <tr>\n",
       "      <th>25%</th>\n",
       "      <td>1.000000</td>\n",
       "      <td>9.000000</td>\n",
       "      <td>52.490000</td>\n",
       "      <td>1.000000</td>\n",
       "      <td>22.000000</td>\n",
       "    </tr>\n",
       "    <tr>\n",
       "      <th>50%</th>\n",
       "      <td>3.000000</td>\n",
       "      <td>10.000000</td>\n",
       "      <td>89.555000</td>\n",
       "      <td>4.000000</td>\n",
       "      <td>25.000000</td>\n",
       "    </tr>\n",
       "    <tr>\n",
       "      <th>75%</th>\n",
       "      <td>4.000000</td>\n",
       "      <td>11.000000</td>\n",
       "      <td>101.922500</td>\n",
       "      <td>7.000000</td>\n",
       "      <td>27.000000</td>\n",
       "    </tr>\n",
       "    <tr>\n",
       "      <th>max</th>\n",
       "      <td>6.000000</td>\n",
       "      <td>16.000000</td>\n",
       "      <td>185.620000</td>\n",
       "      <td>63.000000</td>\n",
       "      <td>41.000000</td>\n",
       "    </tr>\n",
       "  </tbody>\n",
       "</table>\n",
       "</div>"
      ],
      "text/plain": [
       "               week       nb_sold       revenue  years_as_customer  \\\n",
       "count  13956.000000  13956.000000  13956.000000       13956.000000   \n",
       "mean       2.925193      9.812554     85.599439           5.029880   \n",
       "std        1.576927      1.525130     34.663950           5.081722   \n",
       "min        1.000000      7.000000     32.540000           0.000000   \n",
       "25%        1.000000      9.000000     52.490000           1.000000   \n",
       "50%        3.000000     10.000000     89.555000           4.000000   \n",
       "75%        4.000000     11.000000    101.922500           7.000000   \n",
       "max        6.000000     16.000000    185.620000          63.000000   \n",
       "\n",
       "       nb_site_visits  \n",
       "count    13956.000000  \n",
       "mean        24.764761  \n",
       "std          3.426442  \n",
       "min         12.000000  \n",
       "25%         22.000000  \n",
       "50%         25.000000  \n",
       "75%         27.000000  \n",
       "max         41.000000  "
      ]
     },
     "execution_count": 145,
     "metadata": {},
     "output_type": "execute_result"
    }
   ],
   "source": [
    "df_new_n.describe()"
   ]
  },
  {
   "cell_type": "code",
   "execution_count": 146,
   "id": "84865fc4",
   "metadata": {},
   "outputs": [
    {
     "data": {
      "text/plain": [
       "sales_method\n",
       "Email           7456\n",
       "Call            4959\n",
       "Email + Call    1541\n",
       "Name: count, dtype: int64"
      ]
     },
     "execution_count": 146,
     "metadata": {},
     "output_type": "execute_result"
    }
   ],
   "source": [
    "df_new_n['sales_method'].value_counts()"
   ]
  },
  {
   "cell_type": "code",
   "execution_count": 147,
   "id": "6912103c",
   "metadata": {},
   "outputs": [
    {
     "data": {
      "text/plain": [
       "136944"
      ]
     },
     "execution_count": 147,
     "metadata": {},
     "output_type": "execute_result"
    }
   ],
   "source": [
    "df_new_n[\"nb_sold\"].sum()   #total number of products sold"
   ]
  },
  {
   "cell_type": "code",
   "execution_count": 148,
   "id": "f4187ee8",
   "metadata": {},
   "outputs": [
    {
     "data": {
      "image/png": "[encoded data removed]",
      "text/plain": [
       "<Figure size 640x480 with 1 Axes>"
      ]
     },
     "metadata": {},
     "output_type": "display_data"
    }
   ],
   "source": [
    "plt.hist(df_new_n[\"sales_method\"])\n",
    "plt.title(\"Sales Method Category\")\n",
    "plt.show()"
   ]
  },
  {
   "cell_type": "code",
   "execution_count": 149,
   "id": "030bffe8",
   "metadata": {},
   "outputs": [
    {
     "data": {
      "text/html": [
       "<div>\n",
       "<style scoped>\n",
       "    .dataframe tbody tr th:only-of-type {\n",
       "        vertical-align: middle;\n",
       "    }\n",
       "\n",
       "    .dataframe tbody tr th {\n",
       "        vertical-align: top;\n",
       "    }\n",
       "\n",
       "    .dataframe thead th {\n",
       "        text-align: right;\n",
       "    }\n",
       "</style>\n",
       "<table border=\"1\" class=\"dataframe\">\n",
       "  <thead>\n",
       "    <tr style=\"text-align: right;\">\n",
       "      <th></th>\n",
       "      <th>week</th>\n",
       "      <th>sales_method</th>\n",
       "      <th>nb_sold</th>\n",
       "      <th>revenue</th>\n",
       "      <th>years_as_customer</th>\n",
       "      <th>nb_site_visits</th>\n",
       "      <th>state</th>\n",
       "    </tr>\n",
       "  </thead>\n",
       "  <tbody>\n",
       "    <tr>\n",
       "      <th>0</th>\n",
       "      <td>2</td>\n",
       "      <td>Email</td>\n",
       "      <td>10</td>\n",
       "      <td>93.934943</td>\n",
       "      <td>0</td>\n",
       "      <td>24</td>\n",
       "      <td>Arizona</td>\n",
       "    </tr>\n",
       "    <tr>\n",
       "      <th>2</th>\n",
       "      <td>5</td>\n",
       "      <td>Call</td>\n",
       "      <td>11</td>\n",
       "      <td>52.550000</td>\n",
       "      <td>6</td>\n",
       "      <td>26</td>\n",
       "      <td>Wisconsin</td>\n",
       "    </tr>\n",
       "    <tr>\n",
       "      <th>3</th>\n",
       "      <td>4</td>\n",
       "      <td>Email</td>\n",
       "      <td>11</td>\n",
       "      <td>93.934943</td>\n",
       "      <td>3</td>\n",
       "      <td>25</td>\n",
       "      <td>Indiana</td>\n",
       "    </tr>\n",
       "    <tr>\n",
       "      <th>4</th>\n",
       "      <td>3</td>\n",
       "      <td>Email</td>\n",
       "      <td>9</td>\n",
       "      <td>90.490000</td>\n",
       "      <td>0</td>\n",
       "      <td>28</td>\n",
       "      <td>Illinois</td>\n",
       "    </tr>\n",
       "    <tr>\n",
       "      <th>5</th>\n",
       "      <td>6</td>\n",
       "      <td>Call</td>\n",
       "      <td>13</td>\n",
       "      <td>65.010000</td>\n",
       "      <td>10</td>\n",
       "      <td>24</td>\n",
       "      <td>Mississippi</td>\n",
       "    </tr>\n",
       "  </tbody>\n",
       "</table>\n",
       "</div>"
      ],
      "text/plain": [
       "   week sales_method  nb_sold    revenue  years_as_customer  nb_site_visits  \\\n",
       "0     2        Email       10  93.934943                  0              24   \n",
       "2     5         Call       11  52.550000                  6              26   \n",
       "3     4        Email       11  93.934943                  3              25   \n",
       "4     3        Email        9  90.490000                  0              28   \n",
       "5     6         Call       13  65.010000                 10              24   \n",
       "\n",
       "         state  \n",
       "0      Arizona  \n",
       "2    Wisconsin  \n",
       "3      Indiana  \n",
       "4     Illinois  \n",
       "5  Mississippi  "
      ]
     },
     "execution_count": 149,
     "metadata": {},
     "output_type": "execute_result"
    }
   ],
   "source": [
    "df_new_n.head()"
   ]
  },
  {
   "cell_type": "code",
   "execution_count": 150,
   "id": "d8f19d09",
   "metadata": {},
   "outputs": [
    {
     "name": "stderr",
     "output_type": "stream",
     "text": [
      "C:\\Users\\USER\\AppData\\Local\\Temp\\ipykernel_9632\\4151481002.py:1: FutureWarning: The default of observed=False is deprecated and will be changed to True in a future version of pandas. Pass observed=False to retain current behavior or observed=True to adopt the future default and silence this warning.\n",
      "  df_new_n.groupby('sales_method')['revenue'].agg(['sum', \"mean\", \"count\"]).sort_values('sum', ascending=False)\n"
     ]
    },
    {
     "data": {
      "text/html": [
       "<div>\n",
       "<style scoped>\n",
       "    .dataframe tbody tr th:only-of-type {\n",
       "        vertical-align: middle;\n",
       "    }\n",
       "\n",
       "    .dataframe tbody tr th {\n",
       "        vertical-align: top;\n",
       "    }\n",
       "\n",
       "    .dataframe thead th {\n",
       "        text-align: right;\n",
       "    }\n",
       "</style>\n",
       "<table border=\"1\" class=\"dataframe\">\n",
       "  <thead>\n",
       "    <tr style=\"text-align: right;\">\n",
       "      <th></th>\n",
       "      <th>sum</th>\n",
       "      <th>mean</th>\n",
       "      <th>count</th>\n",
       "    </tr>\n",
       "    <tr>\n",
       "      <th>sales_method</th>\n",
       "      <th></th>\n",
       "      <th></th>\n",
       "      <th></th>\n",
       "    </tr>\n",
       "  </thead>\n",
       "  <tbody>\n",
       "    <tr>\n",
       "      <th>Email</th>\n",
       "      <td>722475.589209</td>\n",
       "      <td>96.898550</td>\n",
       "      <td>7456</td>\n",
       "    </tr>\n",
       "    <tr>\n",
       "      <th>Call</th>\n",
       "      <td>244431.244602</td>\n",
       "      <td>49.290430</td>\n",
       "      <td>4959</td>\n",
       "    </tr>\n",
       "    <tr>\n",
       "      <th>Email + Call</th>\n",
       "      <td>227718.935066</td>\n",
       "      <td>147.773482</td>\n",
       "      <td>1541</td>\n",
       "    </tr>\n",
       "  </tbody>\n",
       "</table>\n",
       "</div>"
      ],
      "text/plain": [
       "                        sum        mean  count\n",
       "sales_method                                  \n",
       "Email         722475.589209   96.898550   7456\n",
       "Call          244431.244602   49.290430   4959\n",
       "Email + Call  227718.935066  147.773482   1541"
      ]
     },
     "execution_count": 150,
     "metadata": {},
     "output_type": "execute_result"
    }
   ],
   "source": [
    "df_new_n.groupby('sales_method')['revenue'].agg(['sum', \"mean\", \"count\"]).sort_values('sum', ascending=False)\n",
    "\n",
    "\n",
    "#\"Email\" generated highest sum of revenue"
   ]
  },
  {
   "cell_type": "code",
   "execution_count": 151,
   "id": "1df1e38e",
   "metadata": {},
   "outputs": [
    {
     "name": "stderr",
     "output_type": "stream",
     "text": [
      "C:\\Users\\USER\\AppData\\Local\\Temp\\ipykernel_9632\\3999952196.py:1: FutureWarning: The default of observed=False is deprecated and will be changed to True in a future version of pandas. Pass observed=False to retain current behavior or observed=True to adopt the future default and silence this warning.\n",
      "  df_new_n.groupby('sales_method')['revenue'].agg(['sum', \"mean\", \"count\"]).sort_values('mean', ascending=False)\n"
     ]
    },
    {
     "data": {
      "text/html": [
       "<div>\n",
       "<style scoped>\n",
       "    .dataframe tbody tr th:only-of-type {\n",
       "        vertical-align: middle;\n",
       "    }\n",
       "\n",
       "    .dataframe tbody tr th {\n",
       "        vertical-align: top;\n",
       "    }\n",
       "\n",
       "    .dataframe thead th {\n",
       "        text-align: right;\n",
       "    }\n",
       "</style>\n",
       "<table border=\"1\" class=\"dataframe\">\n",
       "  <thead>\n",
       "    <tr style=\"text-align: right;\">\n",
       "      <th></th>\n",
       "      <th>sum</th>\n",
       "      <th>mean</th>\n",
       "      <th>count</th>\n",
       "    </tr>\n",
       "    <tr>\n",
       "      <th>sales_method</th>\n",
       "      <th></th>\n",
       "      <th></th>\n",
       "      <th></th>\n",
       "    </tr>\n",
       "  </thead>\n",
       "  <tbody>\n",
       "    <tr>\n",
       "      <th>Email + Call</th>\n",
       "      <td>227718.935066</td>\n",
       "      <td>147.773482</td>\n",
       "      <td>1541</td>\n",
       "    </tr>\n",
       "    <tr>\n",
       "      <th>Email</th>\n",
       "      <td>722475.589209</td>\n",
       "      <td>96.898550</td>\n",
       "      <td>7456</td>\n",
       "    </tr>\n",
       "    <tr>\n",
       "      <th>Call</th>\n",
       "      <td>244431.244602</td>\n",
       "      <td>49.290430</td>\n",
       "      <td>4959</td>\n",
       "    </tr>\n",
       "  </tbody>\n",
       "</table>\n",
       "</div>"
      ],
      "text/plain": [
       "                        sum        mean  count\n",
       "sales_method                                  \n",
       "Email + Call  227718.935066  147.773482   1541\n",
       "Email         722475.589209   96.898550   7456\n",
       "Call          244431.244602   49.290430   4959"
      ]
     },
     "execution_count": 151,
     "metadata": {},
     "output_type": "execute_result"
    }
   ],
   "source": [
    "df_new_n.groupby('sales_method')['revenue'].agg(['sum', \"mean\", \"count\"]).sort_values('mean', ascending=False)"
   ]
  },
  {
   "cell_type": "code",
   "execution_count": 152,
   "id": "f284ec24",
   "metadata": {},
   "outputs": [
    {
     "data": {
      "text/html": [
       "<div>\n",
       "<style scoped>\n",
       "    .dataframe tbody tr th:only-of-type {\n",
       "        vertical-align: middle;\n",
       "    }\n",
       "\n",
       "    .dataframe tbody tr th {\n",
       "        vertical-align: top;\n",
       "    }\n",
       "\n",
       "    .dataframe thead th {\n",
       "        text-align: right;\n",
       "    }\n",
       "</style>\n",
       "<table border=\"1\" class=\"dataframe\">\n",
       "  <thead>\n",
       "    <tr style=\"text-align: right;\">\n",
       "      <th></th>\n",
       "      <th>week</th>\n",
       "      <th>sales_method</th>\n",
       "      <th>nb_sold</th>\n",
       "      <th>revenue</th>\n",
       "      <th>years_as_customer</th>\n",
       "      <th>nb_site_visits</th>\n",
       "      <th>state</th>\n",
       "    </tr>\n",
       "  </thead>\n",
       "  <tbody>\n",
       "    <tr>\n",
       "      <th>0</th>\n",
       "      <td>2</td>\n",
       "      <td>Email</td>\n",
       "      <td>10</td>\n",
       "      <td>93.934943</td>\n",
       "      <td>0</td>\n",
       "      <td>24</td>\n",
       "      <td>Arizona</td>\n",
       "    </tr>\n",
       "    <tr>\n",
       "      <th>2</th>\n",
       "      <td>5</td>\n",
       "      <td>Call</td>\n",
       "      <td>11</td>\n",
       "      <td>52.550000</td>\n",
       "      <td>6</td>\n",
       "      <td>26</td>\n",
       "      <td>Wisconsin</td>\n",
       "    </tr>\n",
       "    <tr>\n",
       "      <th>3</th>\n",
       "      <td>4</td>\n",
       "      <td>Email</td>\n",
       "      <td>11</td>\n",
       "      <td>93.934943</td>\n",
       "      <td>3</td>\n",
       "      <td>25</td>\n",
       "      <td>Indiana</td>\n",
       "    </tr>\n",
       "    <tr>\n",
       "      <th>4</th>\n",
       "      <td>3</td>\n",
       "      <td>Email</td>\n",
       "      <td>9</td>\n",
       "      <td>90.490000</td>\n",
       "      <td>0</td>\n",
       "      <td>28</td>\n",
       "      <td>Illinois</td>\n",
       "    </tr>\n",
       "    <tr>\n",
       "      <th>5</th>\n",
       "      <td>6</td>\n",
       "      <td>Call</td>\n",
       "      <td>13</td>\n",
       "      <td>65.010000</td>\n",
       "      <td>10</td>\n",
       "      <td>24</td>\n",
       "      <td>Mississippi</td>\n",
       "    </tr>\n",
       "  </tbody>\n",
       "</table>\n",
       "</div>"
      ],
      "text/plain": [
       "   week sales_method  nb_sold    revenue  years_as_customer  nb_site_visits  \\\n",
       "0     2        Email       10  93.934943                  0              24   \n",
       "2     5         Call       11  52.550000                  6              26   \n",
       "3     4        Email       11  93.934943                  3              25   \n",
       "4     3        Email        9  90.490000                  0              28   \n",
       "5     6         Call       13  65.010000                 10              24   \n",
       "\n",
       "         state  \n",
       "0      Arizona  \n",
       "2    Wisconsin  \n",
       "3      Indiana  \n",
       "4     Illinois  \n",
       "5  Mississippi  "
      ]
     },
     "execution_count": 152,
     "metadata": {},
     "output_type": "execute_result"
    }
   ],
   "source": [
    "df_new_n.head()"
   ]
  },
  {
   "cell_type": "code",
   "execution_count": 153,
   "id": "d690aec7",
   "metadata": {},
   "outputs": [
    {
     "name": "stderr",
     "output_type": "stream",
     "text": [
      "C:\\Users\\USER\\AppData\\Local\\Temp\\ipykernel_9632\\962518065.py:1: FutureWarning: The default of observed=False is deprecated and will be changed to True in a future version of pandas. Pass observed=False to retain current behavior or observed=True to adopt the future default and silence this warning.\n",
      "  df_new_n.groupby('sales_method')['nb_sold'].agg(['sum', \"mean\", \"count\"]).sort_values('sum', ascending=False)\n"
     ]
    },
    {
     "data": {
      "text/html": [
       "<div>\n",
       "<style scoped>\n",
       "    .dataframe tbody tr th:only-of-type {\n",
       "        vertical-align: middle;\n",
       "    }\n",
       "\n",
       "    .dataframe tbody tr th {\n",
       "        vertical-align: top;\n",
       "    }\n",
       "\n",
       "    .dataframe thead th {\n",
       "        text-align: right;\n",
       "    }\n",
       "</style>\n",
       "<table border=\"1\" class=\"dataframe\">\n",
       "  <thead>\n",
       "    <tr style=\"text-align: right;\">\n",
       "      <th></th>\n",
       "      <th>sum</th>\n",
       "      <th>mean</th>\n",
       "      <th>count</th>\n",
       "    </tr>\n",
       "    <tr>\n",
       "      <th>sales_method</th>\n",
       "      <th></th>\n",
       "      <th></th>\n",
       "      <th></th>\n",
       "    </tr>\n",
       "  </thead>\n",
       "  <tbody>\n",
       "    <tr>\n",
       "      <th>Email</th>\n",
       "      <td>72540</td>\n",
       "      <td>9.729077</td>\n",
       "      <td>7456</td>\n",
       "    </tr>\n",
       "    <tr>\n",
       "      <th>Call</th>\n",
       "      <td>47161</td>\n",
       "      <td>9.510184</td>\n",
       "      <td>4959</td>\n",
       "    </tr>\n",
       "    <tr>\n",
       "      <th>Email + Call</th>\n",
       "      <td>17243</td>\n",
       "      <td>11.189487</td>\n",
       "      <td>1541</td>\n",
       "    </tr>\n",
       "  </tbody>\n",
       "</table>\n",
       "</div>"
      ],
      "text/plain": [
       "                sum       mean  count\n",
       "sales_method                         \n",
       "Email         72540   9.729077   7456\n",
       "Call          47161   9.510184   4959\n",
       "Email + Call  17243  11.189487   1541"
      ]
     },
     "execution_count": 153,
     "metadata": {},
     "output_type": "execute_result"
    }
   ],
   "source": [
    "df_new_n.groupby('sales_method')['nb_sold'].agg(['sum', \"mean\", \"count\"]).sort_values('sum', ascending=False)\n",
    "#in terms of total number of sold and ,Email is the most efficient sales method"
   ]
  },
  {
   "cell_type": "code",
   "execution_count": 154,
   "id": "e8f37c1d",
   "metadata": {},
   "outputs": [
    {
     "name": "stderr",
     "output_type": "stream",
     "text": [
      "C:\\Users\\USER\\AppData\\Local\\Temp\\ipykernel_9632\\588210778.py:1: FutureWarning: The default of observed=False is deprecated and will be changed to True in a future version of pandas. Pass observed=False to retain current behavior or observed=True to adopt the future default and silence this warning.\n",
      "  df_new_n.groupby('sales_method')['nb_sold'].agg(['sum', \"mean\", \"count\"]).sort_values('mean', ascending=False)\n"
     ]
    },
    {
     "data": {
      "text/html": [
       "<div>\n",
       "<style scoped>\n",
       "    .dataframe tbody tr th:only-of-type {\n",
       "        vertical-align: middle;\n",
       "    }\n",
       "\n",
       "    .dataframe tbody tr th {\n",
       "        vertical-align: top;\n",
       "    }\n",
       "\n",
       "    .dataframe thead th {\n",
       "        text-align: right;\n",
       "    }\n",
       "</style>\n",
       "<table border=\"1\" class=\"dataframe\">\n",
       "  <thead>\n",
       "    <tr style=\"text-align: right;\">\n",
       "      <th></th>\n",
       "      <th>sum</th>\n",
       "      <th>mean</th>\n",
       "      <th>count</th>\n",
       "    </tr>\n",
       "    <tr>\n",
       "      <th>sales_method</th>\n",
       "      <th></th>\n",
       "      <th></th>\n",
       "      <th></th>\n",
       "    </tr>\n",
       "  </thead>\n",
       "  <tbody>\n",
       "    <tr>\n",
       "      <th>Email + Call</th>\n",
       "      <td>17243</td>\n",
       "      <td>11.189487</td>\n",
       "      <td>1541</td>\n",
       "    </tr>\n",
       "    <tr>\n",
       "      <th>Email</th>\n",
       "      <td>72540</td>\n",
       "      <td>9.729077</td>\n",
       "      <td>7456</td>\n",
       "    </tr>\n",
       "    <tr>\n",
       "      <th>Call</th>\n",
       "      <td>47161</td>\n",
       "      <td>9.510184</td>\n",
       "      <td>4959</td>\n",
       "    </tr>\n",
       "  </tbody>\n",
       "</table>\n",
       "</div>"
      ],
      "text/plain": [
       "                sum       mean  count\n",
       "sales_method                         \n",
       "Email + Call  17243  11.189487   1541\n",
       "Email         72540   9.729077   7456\n",
       "Call          47161   9.510184   4959"
      ]
     },
     "execution_count": 154,
     "metadata": {},
     "output_type": "execute_result"
    }
   ],
   "source": [
    "df_new_n.groupby('sales_method')['nb_sold'].agg(['sum', \"mean\", \"count\"]).sort_values('mean', ascending=False)\n",
    "\n",
    "#In terms of average number of sold products, Email + Call is the most efficient sales method"
   ]
  },
  {
   "cell_type": "code",
   "execution_count": 155,
   "id": "b2b2fd2d",
   "metadata": {},
   "outputs": [
    {
     "name": "stderr",
     "output_type": "stream",
     "text": [
      "C:\\Users\\USER\\AppData\\Local\\Temp\\ipykernel_9632\\357378878.py:1: FutureWarning: The default of observed=False is deprecated and will be changed to True in a future version of pandas. Pass observed=False to retain current behavior or observed=True to adopt the future default and silence this warning.\n",
      "  df_new_n.groupby('sales_method')['nb_sold'].agg(['sum', \"mean\", \"count\"]).sort_values('count', ascending=False)\n"
     ]
    },
    {
     "data": {
      "text/html": [
       "<div>\n",
       "<style scoped>\n",
       "    .dataframe tbody tr th:only-of-type {\n",
       "        vertical-align: middle;\n",
       "    }\n",
       "\n",
       "    .dataframe tbody tr th {\n",
       "        vertical-align: top;\n",
       "    }\n",
       "\n",
       "    .dataframe thead th {\n",
       "        text-align: right;\n",
       "    }\n",
       "</style>\n",
       "<table border=\"1\" class=\"dataframe\">\n",
       "  <thead>\n",
       "    <tr style=\"text-align: right;\">\n",
       "      <th></th>\n",
       "      <th>sum</th>\n",
       "      <th>mean</th>\n",
       "      <th>count</th>\n",
       "    </tr>\n",
       "    <tr>\n",
       "      <th>sales_method</th>\n",
       "      <th></th>\n",
       "      <th></th>\n",
       "      <th></th>\n",
       "    </tr>\n",
       "  </thead>\n",
       "  <tbody>\n",
       "    <tr>\n",
       "      <th>Email</th>\n",
       "      <td>72540</td>\n",
       "      <td>9.729077</td>\n",
       "      <td>7456</td>\n",
       "    </tr>\n",
       "    <tr>\n",
       "      <th>Call</th>\n",
       "      <td>47161</td>\n",
       "      <td>9.510184</td>\n",
       "      <td>4959</td>\n",
       "    </tr>\n",
       "    <tr>\n",
       "      <th>Email + Call</th>\n",
       "      <td>17243</td>\n",
       "      <td>11.189487</td>\n",
       "      <td>1541</td>\n",
       "    </tr>\n",
       "  </tbody>\n",
       "</table>\n",
       "</div>"
      ],
      "text/plain": [
       "                sum       mean  count\n",
       "sales_method                         \n",
       "Email         72540   9.729077   7456\n",
       "Call          47161   9.510184   4959\n",
       "Email + Call  17243  11.189487   1541"
      ]
     },
     "execution_count": 155,
     "metadata": {},
     "output_type": "execute_result"
    }
   ],
   "source": [
    "df_new_n.groupby('sales_method')['nb_sold'].agg(['sum', \"mean\", \"count\"]).sort_values('count', ascending=False)\n"
   ]
  },
  {
   "cell_type": "code",
   "execution_count": 156,
   "id": "d17038d9",
   "metadata": {},
   "outputs": [
    {
     "data": {
      "text/html": [
       "<div>\n",
       "<style scoped>\n",
       "    .dataframe tbody tr th:only-of-type {\n",
       "        vertical-align: middle;\n",
       "    }\n",
       "\n",
       "    .dataframe tbody tr th {\n",
       "        vertical-align: top;\n",
       "    }\n",
       "\n",
       "    .dataframe thead th {\n",
       "        text-align: right;\n",
       "    }\n",
       "</style>\n",
       "<table border=\"1\" class=\"dataframe\">\n",
       "  <thead>\n",
       "    <tr style=\"text-align: right;\">\n",
       "      <th></th>\n",
       "      <th>week</th>\n",
       "      <th>sales_method</th>\n",
       "      <th>nb_sold</th>\n",
       "      <th>revenue</th>\n",
       "      <th>years_as_customer</th>\n",
       "      <th>nb_site_visits</th>\n",
       "      <th>state</th>\n",
       "    </tr>\n",
       "  </thead>\n",
       "  <tbody>\n",
       "    <tr>\n",
       "      <th>0</th>\n",
       "      <td>2</td>\n",
       "      <td>Email</td>\n",
       "      <td>10</td>\n",
       "      <td>93.934943</td>\n",
       "      <td>0</td>\n",
       "      <td>24</td>\n",
       "      <td>Arizona</td>\n",
       "    </tr>\n",
       "    <tr>\n",
       "      <th>2</th>\n",
       "      <td>5</td>\n",
       "      <td>Call</td>\n",
       "      <td>11</td>\n",
       "      <td>52.550000</td>\n",
       "      <td>6</td>\n",
       "      <td>26</td>\n",
       "      <td>Wisconsin</td>\n",
       "    </tr>\n",
       "    <tr>\n",
       "      <th>3</th>\n",
       "      <td>4</td>\n",
       "      <td>Email</td>\n",
       "      <td>11</td>\n",
       "      <td>93.934943</td>\n",
       "      <td>3</td>\n",
       "      <td>25</td>\n",
       "      <td>Indiana</td>\n",
       "    </tr>\n",
       "    <tr>\n",
       "      <th>4</th>\n",
       "      <td>3</td>\n",
       "      <td>Email</td>\n",
       "      <td>9</td>\n",
       "      <td>90.490000</td>\n",
       "      <td>0</td>\n",
       "      <td>28</td>\n",
       "      <td>Illinois</td>\n",
       "    </tr>\n",
       "    <tr>\n",
       "      <th>5</th>\n",
       "      <td>6</td>\n",
       "      <td>Call</td>\n",
       "      <td>13</td>\n",
       "      <td>65.010000</td>\n",
       "      <td>10</td>\n",
       "      <td>24</td>\n",
       "      <td>Mississippi</td>\n",
       "    </tr>\n",
       "  </tbody>\n",
       "</table>\n",
       "</div>"
      ],
      "text/plain": [
       "   week sales_method  nb_sold    revenue  years_as_customer  nb_site_visits  \\\n",
       "0     2        Email       10  93.934943                  0              24   \n",
       "2     5         Call       11  52.550000                  6              26   \n",
       "3     4        Email       11  93.934943                  3              25   \n",
       "4     3        Email        9  90.490000                  0              28   \n",
       "5     6         Call       13  65.010000                 10              24   \n",
       "\n",
       "         state  \n",
       "0      Arizona  \n",
       "2    Wisconsin  \n",
       "3      Indiana  \n",
       "4     Illinois  \n",
       "5  Mississippi  "
      ]
     },
     "execution_count": 156,
     "metadata": {},
     "output_type": "execute_result"
    }
   ],
   "source": [
    "df_new_n.head()"
   ]
  },
  {
   "cell_type": "code",
   "execution_count": 157,
   "id": "ea7ccb6d",
   "metadata": {},
   "outputs": [
    {
     "name": "stderr",
     "output_type": "stream",
     "text": [
      "C:\\Users\\USER\\AppData\\Local\\Temp\\ipykernel_9632\\1026506444.py:1: FutureWarning: The default of observed=False is deprecated and will be changed to True in a future version of pandas. Pass observed=False to retain current behavior or observed=True to adopt the future default and silence this warning.\n",
      "  df_new_n.groupby('sales_method')['nb_site_visits'].count().sort_values(ascending=False)\n"
     ]
    },
    {
     "data": {
      "text/plain": [
       "sales_method\n",
       "Email           7456\n",
       "Call            4959\n",
       "Email + Call    1541\n",
       "Name: nb_site_visits, dtype: int64"
      ]
     },
     "execution_count": 157,
     "metadata": {},
     "output_type": "execute_result"
    }
   ],
   "source": [
    "df_new_n.groupby('sales_method')['nb_site_visits'].count().sort_values(ascending=False)\n",
    "\n",
    "#The most effective method in terms of total number of site visits is \"Email\""
   ]
  },
  {
   "cell_type": "code",
   "execution_count": 158,
   "id": "2efba353",
   "metadata": {},
   "outputs": [
    {
     "data": {
      "text/plain": [
       "0.44666334815901804"
      ]
     },
     "execution_count": 158,
     "metadata": {},
     "output_type": "execute_result"
    }
   ],
   "source": [
    "df_new_n['nb_sold'].corr(df_new['nb_site_visits'], method='spearman')\n",
    "\n",
    "\n",
    "#corr between nb_sold & nb_site_visits: moderate correlation coefficient. As number of site visits increases, number of sold products increases moderately"
   ]
  },
  {
   "cell_type": "code",
   "execution_count": 159,
   "id": "ee035939",
   "metadata": {},
   "outputs": [
    {
     "data": {
      "text/plain": [
       "0.24957108372136172"
      ]
     },
     "execution_count": 159,
     "metadata": {},
     "output_type": "execute_result"
    }
   ],
   "source": [
    "df_new_n['revenue'].corr(df_new['nb_site_visits'], method='spearman') \n",
    "\n",
    "#Weak correlation coefficient between revenue & nb_site_visits"
   ]
  },
  {
   "cell_type": "code",
   "execution_count": 160,
   "id": "f4034798",
   "metadata": {},
   "outputs": [
    {
     "data": {
      "text/html": [
       "<div>\n",
       "<style scoped>\n",
       "    .dataframe tbody tr th:only-of-type {\n",
       "        vertical-align: middle;\n",
       "    }\n",
       "\n",
       "    .dataframe tbody tr th {\n",
       "        vertical-align: top;\n",
       "    }\n",
       "\n",
       "    .dataframe thead th {\n",
       "        text-align: right;\n",
       "    }\n",
       "</style>\n",
       "<table border=\"1\" class=\"dataframe\">\n",
       "  <thead>\n",
       "    <tr style=\"text-align: right;\">\n",
       "      <th></th>\n",
       "      <th>week</th>\n",
       "      <th>sales_method</th>\n",
       "      <th>nb_sold</th>\n",
       "      <th>revenue</th>\n",
       "      <th>years_as_customer</th>\n",
       "      <th>nb_site_visits</th>\n",
       "      <th>state</th>\n",
       "    </tr>\n",
       "  </thead>\n",
       "  <tbody>\n",
       "    <tr>\n",
       "      <th>0</th>\n",
       "      <td>2</td>\n",
       "      <td>Email</td>\n",
       "      <td>10</td>\n",
       "      <td>93.934943</td>\n",
       "      <td>0</td>\n",
       "      <td>24</td>\n",
       "      <td>Arizona</td>\n",
       "    </tr>\n",
       "    <tr>\n",
       "      <th>2</th>\n",
       "      <td>5</td>\n",
       "      <td>Call</td>\n",
       "      <td>11</td>\n",
       "      <td>52.550000</td>\n",
       "      <td>6</td>\n",
       "      <td>26</td>\n",
       "      <td>Wisconsin</td>\n",
       "    </tr>\n",
       "    <tr>\n",
       "      <th>3</th>\n",
       "      <td>4</td>\n",
       "      <td>Email</td>\n",
       "      <td>11</td>\n",
       "      <td>93.934943</td>\n",
       "      <td>3</td>\n",
       "      <td>25</td>\n",
       "      <td>Indiana</td>\n",
       "    </tr>\n",
       "    <tr>\n",
       "      <th>4</th>\n",
       "      <td>3</td>\n",
       "      <td>Email</td>\n",
       "      <td>9</td>\n",
       "      <td>90.490000</td>\n",
       "      <td>0</td>\n",
       "      <td>28</td>\n",
       "      <td>Illinois</td>\n",
       "    </tr>\n",
       "    <tr>\n",
       "      <th>5</th>\n",
       "      <td>6</td>\n",
       "      <td>Call</td>\n",
       "      <td>13</td>\n",
       "      <td>65.010000</td>\n",
       "      <td>10</td>\n",
       "      <td>24</td>\n",
       "      <td>Mississippi</td>\n",
       "    </tr>\n",
       "  </tbody>\n",
       "</table>\n",
       "</div>"
      ],
      "text/plain": [
       "   week sales_method  nb_sold    revenue  years_as_customer  nb_site_visits  \\\n",
       "0     2        Email       10  93.934943                  0              24   \n",
       "2     5         Call       11  52.550000                  6              26   \n",
       "3     4        Email       11  93.934943                  3              25   \n",
       "4     3        Email        9  90.490000                  0              28   \n",
       "5     6         Call       13  65.010000                 10              24   \n",
       "\n",
       "         state  \n",
       "0      Arizona  \n",
       "2    Wisconsin  \n",
       "3      Indiana  \n",
       "4     Illinois  \n",
       "5  Mississippi  "
      ]
     },
     "execution_count": 160,
     "metadata": {},
     "output_type": "execute_result"
    }
   ],
   "source": [
    "df_new_n.head()"
   ]
  },
  {
   "cell_type": "code",
   "execution_count": 161,
   "id": "ba3f662a",
   "metadata": {},
   "outputs": [
    {
     "data": {
      "image/png": "[encoded data removed]",
      "text/plain": [
       "<Figure size 640x480 with 2 Axes>"
      ]
     },
     "metadata": {},
     "output_type": "display_data"
    }
   ],
   "source": [
    "sns.heatmap(df_new_n[['nb_sold', \"years_as_customer\", \"nb_site_visits\", \"revenue\"]].corr(), annot=True, cmap='coolwarm', square=True)\n",
    "plt.show()\n",
    "\n",
    "#nb_sites_visits is moderately correlsted with nb_sold. It is imperative to engage in aggresive marketing or serious awareness creation, because the more the number of years a customer has been with the company the the lower the revenue generated and number sold products to such customer"
   ]
  },
  {
   "cell_type": "code",
   "execution_count": 162,
   "id": "f1baf58b",
   "metadata": {},
   "outputs": [
    {
     "name": "stderr",
     "output_type": "stream",
     "text": [
      "C:\\Users\\USER\\AppData\\Local\\Temp\\ipykernel_9632\\2005667988.py:1: FutureWarning: The default of observed=False is deprecated and will be changed to True in a future version of pandas. Pass observed=False to retain current behavior or observed=True to adopt the future default and silence this warning.\n",
      "  df_new_n.groupby([\"sales_method\", \"state\"])[[\"revenue\", \"nb_sold\"]].sum().sort_values([\"revenue\", \"nb_sold\"], ascending=False)\n"
     ]
    },
    {
     "data": {
      "text/html": [
       "<div>\n",
       "<style scoped>\n",
       "    .dataframe tbody tr th:only-of-type {\n",
       "        vertical-align: middle;\n",
       "    }\n",
       "\n",
       "    .dataframe tbody tr th {\n",
       "        vertical-align: top;\n",
       "    }\n",
       "\n",
       "    .dataframe thead th {\n",
       "        text-align: right;\n",
       "    }\n",
       "</style>\n",
       "<table border=\"1\" class=\"dataframe\">\n",
       "  <thead>\n",
       "    <tr style=\"text-align: right;\">\n",
       "      <th></th>\n",
       "      <th></th>\n",
       "      <th>revenue</th>\n",
       "      <th>nb_sold</th>\n",
       "    </tr>\n",
       "    <tr>\n",
       "      <th>sales_method</th>\n",
       "      <th>state</th>\n",
       "      <th></th>\n",
       "      <th></th>\n",
       "    </tr>\n",
       "  </thead>\n",
       "  <tbody>\n",
       "    <tr>\n",
       "      <th rowspan=\"4\" valign=\"top\">Email</th>\n",
       "      <th>California</th>\n",
       "      <td>89067.476323</td>\n",
       "      <td>8936</td>\n",
       "    </tr>\n",
       "    <tr>\n",
       "      <th>Texas</th>\n",
       "      <td>57936.632874</td>\n",
       "      <td>5822</td>\n",
       "    </tr>\n",
       "    <tr>\n",
       "      <th>NewYork</th>\n",
       "      <td>46139.317587</td>\n",
       "      <td>4639</td>\n",
       "    </tr>\n",
       "    <tr>\n",
       "      <th>Florida</th>\n",
       "      <td>43401.677702</td>\n",
       "      <td>4365</td>\n",
       "    </tr>\n",
       "    <tr>\n",
       "      <th rowspan=\"4\" valign=\"top\">Call</th>\n",
       "      <th>California</th>\n",
       "      <td>31673.883794</td>\n",
       "      <td>6130</td>\n",
       "    </tr>\n",
       "    <tr>\n",
       "      <th>...</th>\n",
       "      <td>...</td>\n",
       "      <td>...</td>\n",
       "    </tr>\n",
       "    <tr>\n",
       "      <th>Vermont</th>\n",
       "      <td>383.490000</td>\n",
       "      <td>77</td>\n",
       "    </tr>\n",
       "    <tr>\n",
       "      <th>NorthDakota</th>\n",
       "      <td>353.610000</td>\n",
       "      <td>70</td>\n",
       "    </tr>\n",
       "    <tr>\n",
       "      <th rowspan=\"3\" valign=\"top\">Email + Call</th>\n",
       "      <th>NorthDakota</th>\n",
       "      <td>242.424943</td>\n",
       "      <td>22</td>\n",
       "    </tr>\n",
       "    <tr>\n",
       "      <th>Maine</th>\n",
       "      <td>180.080000</td>\n",
       "      <td>12</td>\n",
       "    </tr>\n",
       "    <tr>\n",
       "      <th>NewHampshire</th>\n",
       "      <td>149.470000</td>\n",
       "      <td>10</td>\n",
       "    </tr>\n",
       "  </tbody>\n",
       "</table>\n",
       "<p>150 rows × 2 columns</p>\n",
       "</div>"
      ],
      "text/plain": [
       "                                revenue  nb_sold\n",
       "sales_method state                              \n",
       "Email        California    89067.476323     8936\n",
       "             Texas         57936.632874     5822\n",
       "             NewYork       46139.317587     4639\n",
       "             Florida       43401.677702     4365\n",
       "Call         California    31673.883794     6130\n",
       "...                                 ...      ...\n",
       "             Vermont         383.490000       77\n",
       "             NorthDakota     353.610000       70\n",
       "Email + Call NorthDakota     242.424943       22\n",
       "             Maine           180.080000       12\n",
       "             NewHampshire    149.470000       10\n",
       "\n",
       "[150 rows x 2 columns]"
      ]
     },
     "execution_count": 162,
     "metadata": {},
     "output_type": "execute_result"
    }
   ],
   "source": [
    "df_new_n.groupby([\"sales_method\", \"state\"])[[\"revenue\", \"nb_sold\"]].sum().sort_values([\"revenue\", \"nb_sold\"], ascending=False)\n",
    "\n",
    "#sales_method for least performing states(North Dakota,Vermont, Delaware ), in terms of revenue generation, is Call\n",
    "\n",
    "#sales_method for best performing states(Califonia and Texas), in terms of revenue generation, is either Email + Call or Email"
   ]
  },
  {
   "cell_type": "code",
   "execution_count": 163,
   "id": "d3bdad17",
   "metadata": {},
   "outputs": [
    {
     "name": "stderr",
     "output_type": "stream",
     "text": [
      "C:\\Users\\USER\\anaconda3\\Lib\\site-packages\\seaborn\\_oldcore.py:1119: FutureWarning: use_inf_as_na option is deprecated and will be removed in a future version. Convert inf values to NaN before operating instead.\n",
      "  with pd.option_context('mode.use_inf_as_na', True):\n"
     ]
    },
    {
     "data": {
      "image/png": "[encoded data removed]",
      "text/plain": [
       "<Figure size 640x480 with 1 Axes>"
      ]
     },
     "metadata": {},
     "output_type": "display_data"
    }
   ],
   "source": [
    "sns.kdeplot(data=df_new_n['revenue'])\n",
    "plt.show()"
   ]
  },
  {
   "cell_type": "code",
   "execution_count": 164,
   "id": "4bdbe53c",
   "metadata": {},
   "outputs": [
    {
     "name": "stderr",
     "output_type": "stream",
     "text": [
      "C:\\Users\\USER\\AppData\\Local\\Temp\\ipykernel_9632\\2211640759.py:1: UserWarning: \n",
      "The markers list has fewer values (2) than needed (3) and will cycle, which may produce an uninterpretable plot.\n",
      "  sns.relplot(x='revenue', y='nb_site_visits', hue=\"sales_method\", style='sales_method', markers=['o', 's'], alpha=0.5, data=df_new_n)\n",
      "C:\\Users\\USER\\anaconda3\\Lib\\site-packages\\seaborn\\axisgrid.py:118: UserWarning: The figure layout has changed to tight\n",
      "  self._figure.tight_layout(*args, **kwargs)\n"
     ]
    },
    {
     "data": {
      "image/png": "[encoded data removed]",
      "text/plain": [
       "<Figure size 635.25x500 with 1 Axes>"
      ]
     },
     "metadata": {},
     "output_type": "display_data"
    }
   ],
   "source": [
    "sns.relplot(x='revenue', y='nb_site_visits', hue=\"sales_method\", style='sales_method', markers=['o', 's'], alpha=0.5, data=df_new_n)\n",
    "plt.show()\n",
    "\n",
    "#more revenue was generated using combination of Call + Email"
   ]
  },
  {
   "cell_type": "code",
   "execution_count": 165,
   "id": "932278d6",
   "metadata": {},
   "outputs": [
    {
     "data": {
      "image/png": "[encoded data removed]",
      "text/plain": [
       "<Figure size 640x480 with 1 Axes>"
      ]
     },
     "metadata": {},
     "output_type": "display_data"
    }
   ],
   "source": [
    "fig, ax = plt.subplots()\n",
    "sns.barplot(x='nb_sold', y=\"nb_site_visits\", hue='sales_method', data=df_new_n, ax=ax)\n",
    "ax.set_title('Stacked Bar Chart')\n",
    "plt.show()"
   ]
  },
  {
   "cell_type": "code",
   "execution_count": 166,
   "id": "8dcf03b7",
   "metadata": {},
   "outputs": [
    {
     "name": "stderr",
     "output_type": "stream",
     "text": [
      "C:\\Users\\USER\\anaconda3\\Lib\\site-packages\\seaborn\\categorical.py:641: FutureWarning: The default of observed=False is deprecated and will be changed to True in a future version of pandas. Pass observed=False to retain current behavior or observed=True to adopt the future default and silence this warning.\n",
      "  grouped_vals = vals.groupby(grouper)\n"
     ]
    },
    {
     "data": {
      "image/png": "[encoded data removed]",
      "text/plain": [
       "<Figure size 640x480 with 1 Axes>"
      ]
     },
     "metadata": {},
     "output_type": "display_data"
    }
   ],
   "source": [
    "sns.boxplot(x='sales_method', y='nb_site_visits', data=df_new_n)\n",
    "\n",
    "plt.title('Effects Of Sales Method On Site Visits')\n",
    "plt.xlabel('sales_method')\n",
    "plt.ylabel('nb_site_visits')\n",
    "\n",
    "plt.show()#Customers who were contacted through combination of Email & Call visit the site more than any other means"
   ]
  },
  {
   "cell_type": "code",
   "execution_count": 167,
   "id": "5ff63f53",
   "metadata": {},
   "outputs": [
    {
     "data": {
      "text/html": [
       "<div>\n",
       "<style scoped>\n",
       "    .dataframe tbody tr th:only-of-type {\n",
       "        vertical-align: middle;\n",
       "    }\n",
       "\n",
       "    .dataframe tbody tr th {\n",
       "        vertical-align: top;\n",
       "    }\n",
       "\n",
       "    .dataframe thead th {\n",
       "        text-align: right;\n",
       "    }\n",
       "</style>\n",
       "<table border=\"1\" class=\"dataframe\">\n",
       "  <thead>\n",
       "    <tr style=\"text-align: right;\">\n",
       "      <th></th>\n",
       "      <th>week</th>\n",
       "      <th>sales_method</th>\n",
       "      <th>nb_sold</th>\n",
       "      <th>revenue</th>\n",
       "      <th>years_as_customer</th>\n",
       "      <th>nb_site_visits</th>\n",
       "      <th>state</th>\n",
       "    </tr>\n",
       "  </thead>\n",
       "  <tbody>\n",
       "    <tr>\n",
       "      <th>0</th>\n",
       "      <td>2</td>\n",
       "      <td>Email</td>\n",
       "      <td>10</td>\n",
       "      <td>93.934943</td>\n",
       "      <td>0</td>\n",
       "      <td>24</td>\n",
       "      <td>Arizona</td>\n",
       "    </tr>\n",
       "    <tr>\n",
       "      <th>2</th>\n",
       "      <td>5</td>\n",
       "      <td>Call</td>\n",
       "      <td>11</td>\n",
       "      <td>52.550000</td>\n",
       "      <td>6</td>\n",
       "      <td>26</td>\n",
       "      <td>Wisconsin</td>\n",
       "    </tr>\n",
       "    <tr>\n",
       "      <th>3</th>\n",
       "      <td>4</td>\n",
       "      <td>Email</td>\n",
       "      <td>11</td>\n",
       "      <td>93.934943</td>\n",
       "      <td>3</td>\n",
       "      <td>25</td>\n",
       "      <td>Indiana</td>\n",
       "    </tr>\n",
       "    <tr>\n",
       "      <th>4</th>\n",
       "      <td>3</td>\n",
       "      <td>Email</td>\n",
       "      <td>9</td>\n",
       "      <td>90.490000</td>\n",
       "      <td>0</td>\n",
       "      <td>28</td>\n",
       "      <td>Illinois</td>\n",
       "    </tr>\n",
       "    <tr>\n",
       "      <th>5</th>\n",
       "      <td>6</td>\n",
       "      <td>Call</td>\n",
       "      <td>13</td>\n",
       "      <td>65.010000</td>\n",
       "      <td>10</td>\n",
       "      <td>24</td>\n",
       "      <td>Mississippi</td>\n",
       "    </tr>\n",
       "    <tr>\n",
       "      <th>...</th>\n",
       "      <td>...</td>\n",
       "      <td>...</td>\n",
       "      <td>...</td>\n",
       "      <td>...</td>\n",
       "      <td>...</td>\n",
       "      <td>...</td>\n",
       "      <td>...</td>\n",
       "    </tr>\n",
       "    <tr>\n",
       "      <th>14995</th>\n",
       "      <td>4</td>\n",
       "      <td>Call</td>\n",
       "      <td>10</td>\n",
       "      <td>50.820000</td>\n",
       "      <td>0</td>\n",
       "      <td>22</td>\n",
       "      <td>Pennsylvania</td>\n",
       "    </tr>\n",
       "    <tr>\n",
       "      <th>14996</th>\n",
       "      <td>5</td>\n",
       "      <td>Call</td>\n",
       "      <td>10</td>\n",
       "      <td>52.330000</td>\n",
       "      <td>1</td>\n",
       "      <td>27</td>\n",
       "      <td>Kansas</td>\n",
       "    </tr>\n",
       "    <tr>\n",
       "      <th>14997</th>\n",
       "      <td>1</td>\n",
       "      <td>Call</td>\n",
       "      <td>7</td>\n",
       "      <td>34.870000</td>\n",
       "      <td>4</td>\n",
       "      <td>22</td>\n",
       "      <td>WestVirginia</td>\n",
       "    </tr>\n",
       "    <tr>\n",
       "      <th>14998</th>\n",
       "      <td>6</td>\n",
       "      <td>Call</td>\n",
       "      <td>13</td>\n",
       "      <td>64.900000</td>\n",
       "      <td>2</td>\n",
       "      <td>27</td>\n",
       "      <td>NewJersey</td>\n",
       "    </tr>\n",
       "    <tr>\n",
       "      <th>14999</th>\n",
       "      <td>5</td>\n",
       "      <td>Email + Call</td>\n",
       "      <td>13</td>\n",
       "      <td>93.934943</td>\n",
       "      <td>4</td>\n",
       "      <td>25</td>\n",
       "      <td>Illinois</td>\n",
       "    </tr>\n",
       "  </tbody>\n",
       "</table>\n",
       "<p>13956 rows × 7 columns</p>\n",
       "</div>"
      ],
      "text/plain": [
       "       week  sales_method  nb_sold    revenue  years_as_customer  \\\n",
       "0         2         Email       10  93.934943                  0   \n",
       "2         5          Call       11  52.550000                  6   \n",
       "3         4         Email       11  93.934943                  3   \n",
       "4         3         Email        9  90.490000                  0   \n",
       "5         6          Call       13  65.010000                 10   \n",
       "...     ...           ...      ...        ...                ...   \n",
       "14995     4          Call       10  50.820000                  0   \n",
       "14996     5          Call       10  52.330000                  1   \n",
       "14997     1          Call        7  34.870000                  4   \n",
       "14998     6          Call       13  64.900000                  2   \n",
       "14999     5  Email + Call       13  93.934943                  4   \n",
       "\n",
       "       nb_site_visits         state  \n",
       "0                  24       Arizona  \n",
       "2                  26     Wisconsin  \n",
       "3                  25       Indiana  \n",
       "4                  28      Illinois  \n",
       "5                  24   Mississippi  \n",
       "...               ...           ...  \n",
       "14995              22  Pennsylvania  \n",
       "14996              27        Kansas  \n",
       "14997              22  WestVirginia  \n",
       "14998              27     NewJersey  \n",
       "14999              25      Illinois  \n",
       "\n",
       "[13956 rows x 7 columns]"
      ]
     },
     "execution_count": 167,
     "metadata": {},
     "output_type": "execute_result"
    }
   ],
   "source": [
    "df_new_n"
   ]
  },
  {
   "cell_type": "code",
   "execution_count": 168,
   "id": "dfbe5bcd",
   "metadata": {},
   "outputs": [
    {
     "name": "stdout",
     "output_type": "stream",
     "text": [
      "       week  sales_method  nb_sold    revenue  years_as_customer  \\\n",
      "0         2         Email       10  93.934943                  0   \n",
      "2         5          Call       11  52.550000                  6   \n",
      "3         4         Email       11  93.934943                  3   \n",
      "4         3         Email        9  90.490000                  0   \n",
      "5         6          Call       13  65.010000                 10   \n",
      "...     ...           ...      ...        ...                ...   \n",
      "14995     4          Call       10  50.820000                  0   \n",
      "14996     5          Call       10  52.330000                  1   \n",
      "14997     1          Call        7  34.870000                  4   \n",
      "14998     6          Call       13  64.900000                  2   \n",
      "14999     5  Email + Call       13  93.934943                  4   \n",
      "\n",
      "       nb_site_visits         state  \n",
      "0                  24       Arizona  \n",
      "2                  26     Wisconsin  \n",
      "3                  25       Indiana  \n",
      "4                  28      Illinois  \n",
      "5                  24   Mississippi  \n",
      "...               ...           ...  \n",
      "14995              22  Pennsylvania  \n",
      "14996              27        Kansas  \n",
      "14997              22  WestVirginia  \n",
      "14998              27     NewJersey  \n",
      "14999              25      Illinois  \n",
      "\n",
      "[13956 rows x 7 columns]\n"
     ]
    }
   ],
   "source": [
    "print(df_new_n)"
   ]
  },
  {
   "cell_type": "code",
   "execution_count": 169,
   "id": "78064a30",
   "metadata": {},
   "outputs": [
    {
     "name": "stderr",
     "output_type": "stream",
     "text": [
      "C:\\Users\\USER\\AppData\\Local\\Temp\\ipykernel_9632\\2038542637.py:1: SettingWithCopyWarning: \n",
      "A value is trying to be set on a copy of a slice from a DataFrame.\n",
      "Try using .loc[row_indexer,col_indexer] = value instead\n",
      "\n",
      "See the caveats in the documentation: https://pandas.pydata.org/pandas-docs/stable/user_guide/indexing.html#returning-a-view-versus-a-copy\n",
      "  df_new_n[\"Revenue_per_Site_Visits\"] = df_new_n['revenue'] / df_new_n['nb_site_visits']\n"
     ]
    }
   ],
   "source": [
    "df_new_n[\"Revenue_per_Site_Visits\"] = df_new_n['revenue'] / df_new_n['nb_site_visits']"
   ]
  },
  {
   "cell_type": "code",
   "execution_count": 170,
   "id": "60c1b693",
   "metadata": {},
   "outputs": [
    {
     "name": "stdout",
     "output_type": "stream",
     "text": [
      "   week sales_method  nb_sold    revenue  years_as_customer  nb_site_visits  \\\n",
      "0     2        Email       10  93.934943                  0              24   \n",
      "2     5         Call       11  52.550000                  6              26   \n",
      "3     4        Email       11  93.934943                  3              25   \n",
      "4     3        Email        9  90.490000                  0              28   \n",
      "5     6         Call       13  65.010000                 10              24   \n",
      "\n",
      "         state  Revenue_per_Site_Visits  \n",
      "0      Arizona                 3.913956  \n",
      "2    Wisconsin                 2.021154  \n",
      "3      Indiana                 3.757398  \n",
      "4     Illinois                 3.231786  \n",
      "5  Mississippi                 2.708750  \n"
     ]
    }
   ],
   "source": [
    "print(df_new_n.head())"
   ]
  },
  {
   "cell_type": "code",
   "execution_count": 171,
   "id": "455401e5",
   "metadata": {
    "scrolled": true
   },
   "outputs": [
    {
     "data": {
      "text/plain": [
       "count    13956.000000\n",
       "mean         3.482271\n",
       "std          1.397923\n",
       "min          1.067187\n",
       "25%          2.131600\n",
       "50%          3.587689\n",
       "75%          4.211446\n",
       "max          9.595625\n",
       "Name: Revenue_per_Site_Visits, dtype: float64"
      ]
     },
     "execution_count": 171,
     "metadata": {},
     "output_type": "execute_result"
    }
   ],
   "source": [
    "#Average Revenue Per site Visits: It's a useful metric to evaluate the effectiveness of your website in\n",
    "#generating revenue.\n",
    "\n",
    "df_new_n[\"Revenue_per_Site_Visits\"].describe() "
   ]
  },
  {
   "cell_type": "code",
   "execution_count": 172,
   "id": "62e34674",
   "metadata": {},
   "outputs": [
    {
     "name": "stderr",
     "output_type": "stream",
     "text": [
      "C:\\Users\\USER\\AppData\\Local\\Temp\\ipykernel_9632\\3255521306.py:5: SettingWithCopyWarning: \n",
      "A value is trying to be set on a copy of a slice from a DataFrame.\n",
      "Try using .loc[row_indexer,col_indexer] = value instead\n",
      "\n",
      "See the caveats in the documentation: https://pandas.pydata.org/pandas-docs/stable/user_guide/indexing.html#returning-a-view-versus-a-copy\n",
      "  df_new_n[\"Site_Visit_Conversion_Rate\"] = df_new_n[\"nb_sold\"] / df_new_n[\"nb_site_visits\"]\n"
     ]
    },
    {
     "data": {
      "text/html": [
       "<div>\n",
       "<style scoped>\n",
       "    .dataframe tbody tr th:only-of-type {\n",
       "        vertical-align: middle;\n",
       "    }\n",
       "\n",
       "    .dataframe tbody tr th {\n",
       "        vertical-align: top;\n",
       "    }\n",
       "\n",
       "    .dataframe thead th {\n",
       "        text-align: right;\n",
       "    }\n",
       "</style>\n",
       "<table border=\"1\" class=\"dataframe\">\n",
       "  <thead>\n",
       "    <tr style=\"text-align: right;\">\n",
       "      <th></th>\n",
       "      <th>week</th>\n",
       "      <th>sales_method</th>\n",
       "      <th>nb_sold</th>\n",
       "      <th>revenue</th>\n",
       "      <th>years_as_customer</th>\n",
       "      <th>nb_site_visits</th>\n",
       "      <th>state</th>\n",
       "      <th>Revenue_per_Site_Visits</th>\n",
       "      <th>Site_Visit_Conversion_Rate</th>\n",
       "    </tr>\n",
       "  </thead>\n",
       "  <tbody>\n",
       "    <tr>\n",
       "      <th>0</th>\n",
       "      <td>2</td>\n",
       "      <td>Email</td>\n",
       "      <td>10</td>\n",
       "      <td>93.934943</td>\n",
       "      <td>0</td>\n",
       "      <td>24</td>\n",
       "      <td>Arizona</td>\n",
       "      <td>3.913956</td>\n",
       "      <td>0.416667</td>\n",
       "    </tr>\n",
       "    <tr>\n",
       "      <th>2</th>\n",
       "      <td>5</td>\n",
       "      <td>Call</td>\n",
       "      <td>11</td>\n",
       "      <td>52.550000</td>\n",
       "      <td>6</td>\n",
       "      <td>26</td>\n",
       "      <td>Wisconsin</td>\n",
       "      <td>2.021154</td>\n",
       "      <td>0.423077</td>\n",
       "    </tr>\n",
       "    <tr>\n",
       "      <th>3</th>\n",
       "      <td>4</td>\n",
       "      <td>Email</td>\n",
       "      <td>11</td>\n",
       "      <td>93.934943</td>\n",
       "      <td>3</td>\n",
       "      <td>25</td>\n",
       "      <td>Indiana</td>\n",
       "      <td>3.757398</td>\n",
       "      <td>0.440000</td>\n",
       "    </tr>\n",
       "    <tr>\n",
       "      <th>4</th>\n",
       "      <td>3</td>\n",
       "      <td>Email</td>\n",
       "      <td>9</td>\n",
       "      <td>90.490000</td>\n",
       "      <td>0</td>\n",
       "      <td>28</td>\n",
       "      <td>Illinois</td>\n",
       "      <td>3.231786</td>\n",
       "      <td>0.321429</td>\n",
       "    </tr>\n",
       "    <tr>\n",
       "      <th>5</th>\n",
       "      <td>6</td>\n",
       "      <td>Call</td>\n",
       "      <td>13</td>\n",
       "      <td>65.010000</td>\n",
       "      <td>10</td>\n",
       "      <td>24</td>\n",
       "      <td>Mississippi</td>\n",
       "      <td>2.708750</td>\n",
       "      <td>0.541667</td>\n",
       "    </tr>\n",
       "  </tbody>\n",
       "</table>\n",
       "</div>"
      ],
      "text/plain": [
       "   week sales_method  nb_sold    revenue  years_as_customer  nb_site_visits  \\\n",
       "0     2        Email       10  93.934943                  0              24   \n",
       "2     5         Call       11  52.550000                  6              26   \n",
       "3     4        Email       11  93.934943                  3              25   \n",
       "4     3        Email        9  90.490000                  0              28   \n",
       "5     6         Call       13  65.010000                 10              24   \n",
       "\n",
       "         state  Revenue_per_Site_Visits  Site_Visit_Conversion_Rate  \n",
       "0      Arizona                 3.913956                    0.416667  \n",
       "2    Wisconsin                 2.021154                    0.423077  \n",
       "3      Indiana                 3.757398                    0.440000  \n",
       "4     Illinois                 3.231786                    0.321429  \n",
       "5  Mississippi                 2.708750                    0.541667  "
      ]
     },
     "execution_count": 172,
     "metadata": {},
     "output_type": "execute_result"
    }
   ],
   "source": [
    "#Site Visit Conversion Rate: is a way to measure the percentage of users or customer prospects who complete a desired action, \n",
    "#such as making a purchase, registering an account or starting a free trial. Tracking this metric can help you get a feel of \n",
    "#how well your marketing strategy is working.\n",
    "\n",
    "df_new_n[\"Site_Visit_Conversion_Rate\"] = df_new_n[\"nb_sold\"] / df_new_n[\"nb_site_visits\"]\n",
    "df_new_n.head()"
   ]
  },
  {
   "cell_type": "code",
   "execution_count": 177,
   "id": "abbfd0c1",
   "metadata": {},
   "outputs": [
    {
     "data": {
      "text/plain": [
       "count    13956.000000\n",
       "mean         0.400223\n",
       "std          0.063015\n",
       "min          0.218750\n",
       "25%          0.357143\n",
       "50%          0.392857\n",
       "75%          0.434783\n",
       "max          0.769231\n",
       "Name: Site_Visit_Conversion_Rate, dtype: float64"
      ]
     },
     "execution_count": 177,
     "metadata": {},
     "output_type": "execute_result"
    }
   ],
   "source": [
    "df_new_n[\"Site_Visit_Conversion_Rate\"].describe()"
   ]
  },
  {
   "cell_type": "code",
   "execution_count": 178,
   "id": "418ece89",
   "metadata": {},
   "outputs": [
    {
     "data": {
      "text/html": [
       "<div>\n",
       "<style scoped>\n",
       "    .dataframe tbody tr th:only-of-type {\n",
       "        vertical-align: middle;\n",
       "    }\n",
       "\n",
       "    .dataframe tbody tr th {\n",
       "        vertical-align: top;\n",
       "    }\n",
       "\n",
       "    .dataframe thead th {\n",
       "        text-align: right;\n",
       "    }\n",
       "</style>\n",
       "<table border=\"1\" class=\"dataframe\">\n",
       "  <thead>\n",
       "    <tr style=\"text-align: right;\">\n",
       "      <th></th>\n",
       "      <th>week</th>\n",
       "      <th>sales_method</th>\n",
       "      <th>nb_sold</th>\n",
       "      <th>revenue</th>\n",
       "      <th>years_as_customer</th>\n",
       "      <th>nb_site_visits</th>\n",
       "      <th>state</th>\n",
       "      <th>Revenue_per_Site_Visits</th>\n",
       "      <th>Site_Visit_Conversion_Rate</th>\n",
       "      <th>previous_numbr_of_sold</th>\n",
       "    </tr>\n",
       "  </thead>\n",
       "  <tbody>\n",
       "    <tr>\n",
       "      <th>0</th>\n",
       "      <td>2</td>\n",
       "      <td>Email</td>\n",
       "      <td>10</td>\n",
       "      <td>93.934943</td>\n",
       "      <td>0</td>\n",
       "      <td>24</td>\n",
       "      <td>Arizona</td>\n",
       "      <td>3.913956</td>\n",
       "      <td>0.416667</td>\n",
       "      <td>NaN</td>\n",
       "    </tr>\n",
       "    <tr>\n",
       "      <th>2</th>\n",
       "      <td>5</td>\n",
       "      <td>Call</td>\n",
       "      <td>11</td>\n",
       "      <td>52.550000</td>\n",
       "      <td>6</td>\n",
       "      <td>26</td>\n",
       "      <td>Wisconsin</td>\n",
       "      <td>2.021154</td>\n",
       "      <td>0.423077</td>\n",
       "      <td>10.0</td>\n",
       "    </tr>\n",
       "    <tr>\n",
       "      <th>3</th>\n",
       "      <td>4</td>\n",
       "      <td>Email</td>\n",
       "      <td>11</td>\n",
       "      <td>93.934943</td>\n",
       "      <td>3</td>\n",
       "      <td>25</td>\n",
       "      <td>Indiana</td>\n",
       "      <td>3.757398</td>\n",
       "      <td>0.440000</td>\n",
       "      <td>11.0</td>\n",
       "    </tr>\n",
       "    <tr>\n",
       "      <th>4</th>\n",
       "      <td>3</td>\n",
       "      <td>Email</td>\n",
       "      <td>9</td>\n",
       "      <td>90.490000</td>\n",
       "      <td>0</td>\n",
       "      <td>28</td>\n",
       "      <td>Illinois</td>\n",
       "      <td>3.231786</td>\n",
       "      <td>0.321429</td>\n",
       "      <td>11.0</td>\n",
       "    </tr>\n",
       "    <tr>\n",
       "      <th>5</th>\n",
       "      <td>6</td>\n",
       "      <td>Call</td>\n",
       "      <td>13</td>\n",
       "      <td>65.010000</td>\n",
       "      <td>10</td>\n",
       "      <td>24</td>\n",
       "      <td>Mississippi</td>\n",
       "      <td>2.708750</td>\n",
       "      <td>0.541667</td>\n",
       "      <td>9.0</td>\n",
       "    </tr>\n",
       "  </tbody>\n",
       "</table>\n",
       "</div>"
      ],
      "text/plain": [
       "   week sales_method  nb_sold    revenue  years_as_customer  nb_site_visits  \\\n",
       "0     2        Email       10  93.934943                  0              24   \n",
       "2     5         Call       11  52.550000                  6              26   \n",
       "3     4        Email       11  93.934943                  3              25   \n",
       "4     3        Email        9  90.490000                  0              28   \n",
       "5     6         Call       13  65.010000                 10              24   \n",
       "\n",
       "         state  Revenue_per_Site_Visits  Site_Visit_Conversion_Rate  \\\n",
       "0      Arizona                 3.913956                    0.416667   \n",
       "2    Wisconsin                 2.021154                    0.423077   \n",
       "3      Indiana                 3.757398                    0.440000   \n",
       "4     Illinois                 3.231786                    0.321429   \n",
       "5  Mississippi                 2.708750                    0.541667   \n",
       "\n",
       "   previous_numbr_of_sold  \n",
       "0                     NaN  \n",
       "2                    10.0  \n",
       "3                    11.0  \n",
       "4                    11.0  \n",
       "5                     9.0  "
      ]
     },
     "execution_count": 178,
     "metadata": {},
     "output_type": "execute_result"
    }
   ],
   "source": [
    "df_new_n.head()"
   ]
  },
  {
   "cell_type": "code",
   "execution_count": 180,
   "id": "44d48651",
   "metadata": {},
   "outputs": [
    {
     "name": "stderr",
     "output_type": "stream",
     "text": [
      "C:\\Users\\USER\\AppData\\Local\\Temp\\ipykernel_9632\\4207256685.py:1: SettingWithCopyWarning: \n",
      "A value is trying to be set on a copy of a slice from a DataFrame.\n",
      "Try using .loc[row_indexer,col_indexer] = value instead\n",
      "\n",
      "See the caveats in the documentation: https://pandas.pydata.org/pandas-docs/stable/user_guide/indexing.html#returning-a-view-versus-a-copy\n",
      "  df_new_n['previous_numbr_of_sold'] = df_new_n['previous_numbr_of_sold'].fillna(0)\n"
     ]
    }
   ],
   "source": [
    "df_new_n['previous_numbr_of_sold'] = df_new_n['previous_numbr_of_sold'].fillna(0)"
   ]
  },
  {
   "cell_type": "code",
   "execution_count": 181,
   "id": "ba03d4a0",
   "metadata": {},
   "outputs": [
    {
     "data": {
      "text/html": [
       "<div>\n",
       "<style scoped>\n",
       "    .dataframe tbody tr th:only-of-type {\n",
       "        vertical-align: middle;\n",
       "    }\n",
       "\n",
       "    .dataframe tbody tr th {\n",
       "        vertical-align: top;\n",
       "    }\n",
       "\n",
       "    .dataframe thead th {\n",
       "        text-align: right;\n",
       "    }\n",
       "</style>\n",
       "<table border=\"1\" class=\"dataframe\">\n",
       "  <thead>\n",
       "    <tr style=\"text-align: right;\">\n",
       "      <th></th>\n",
       "      <th>week</th>\n",
       "      <th>sales_method</th>\n",
       "      <th>nb_sold</th>\n",
       "      <th>revenue</th>\n",
       "      <th>years_as_customer</th>\n",
       "      <th>nb_site_visits</th>\n",
       "      <th>state</th>\n",
       "      <th>Revenue_per_Site_Visits</th>\n",
       "      <th>Site_Visit_Conversion_Rate</th>\n",
       "      <th>previous_numbr_of_sold</th>\n",
       "    </tr>\n",
       "  </thead>\n",
       "  <tbody>\n",
       "    <tr>\n",
       "      <th>0</th>\n",
       "      <td>2</td>\n",
       "      <td>Email</td>\n",
       "      <td>10</td>\n",
       "      <td>93.934943</td>\n",
       "      <td>0</td>\n",
       "      <td>24</td>\n",
       "      <td>Arizona</td>\n",
       "      <td>3.913956</td>\n",
       "      <td>0.416667</td>\n",
       "      <td>0.0</td>\n",
       "    </tr>\n",
       "    <tr>\n",
       "      <th>2</th>\n",
       "      <td>5</td>\n",
       "      <td>Call</td>\n",
       "      <td>11</td>\n",
       "      <td>52.550000</td>\n",
       "      <td>6</td>\n",
       "      <td>26</td>\n",
       "      <td>Wisconsin</td>\n",
       "      <td>2.021154</td>\n",
       "      <td>0.423077</td>\n",
       "      <td>10.0</td>\n",
       "    </tr>\n",
       "    <tr>\n",
       "      <th>3</th>\n",
       "      <td>4</td>\n",
       "      <td>Email</td>\n",
       "      <td>11</td>\n",
       "      <td>93.934943</td>\n",
       "      <td>3</td>\n",
       "      <td>25</td>\n",
       "      <td>Indiana</td>\n",
       "      <td>3.757398</td>\n",
       "      <td>0.440000</td>\n",
       "      <td>11.0</td>\n",
       "    </tr>\n",
       "    <tr>\n",
       "      <th>4</th>\n",
       "      <td>3</td>\n",
       "      <td>Email</td>\n",
       "      <td>9</td>\n",
       "      <td>90.490000</td>\n",
       "      <td>0</td>\n",
       "      <td>28</td>\n",
       "      <td>Illinois</td>\n",
       "      <td>3.231786</td>\n",
       "      <td>0.321429</td>\n",
       "      <td>11.0</td>\n",
       "    </tr>\n",
       "    <tr>\n",
       "      <th>5</th>\n",
       "      <td>6</td>\n",
       "      <td>Call</td>\n",
       "      <td>13</td>\n",
       "      <td>65.010000</td>\n",
       "      <td>10</td>\n",
       "      <td>24</td>\n",
       "      <td>Mississippi</td>\n",
       "      <td>2.708750</td>\n",
       "      <td>0.541667</td>\n",
       "      <td>9.0</td>\n",
       "    </tr>\n",
       "    <tr>\n",
       "      <th>...</th>\n",
       "      <td>...</td>\n",
       "      <td>...</td>\n",
       "      <td>...</td>\n",
       "      <td>...</td>\n",
       "      <td>...</td>\n",
       "      <td>...</td>\n",
       "      <td>...</td>\n",
       "      <td>...</td>\n",
       "      <td>...</td>\n",
       "      <td>...</td>\n",
       "    </tr>\n",
       "    <tr>\n",
       "      <th>14995</th>\n",
       "      <td>4</td>\n",
       "      <td>Call</td>\n",
       "      <td>10</td>\n",
       "      <td>50.820000</td>\n",
       "      <td>0</td>\n",
       "      <td>22</td>\n",
       "      <td>Pennsylvania</td>\n",
       "      <td>2.310000</td>\n",
       "      <td>0.454545</td>\n",
       "      <td>11.0</td>\n",
       "    </tr>\n",
       "    <tr>\n",
       "      <th>14996</th>\n",
       "      <td>5</td>\n",
       "      <td>Call</td>\n",
       "      <td>10</td>\n",
       "      <td>52.330000</td>\n",
       "      <td>1</td>\n",
       "      <td>27</td>\n",
       "      <td>Kansas</td>\n",
       "      <td>1.938148</td>\n",
       "      <td>0.370370</td>\n",
       "      <td>10.0</td>\n",
       "    </tr>\n",
       "    <tr>\n",
       "      <th>14997</th>\n",
       "      <td>1</td>\n",
       "      <td>Call</td>\n",
       "      <td>7</td>\n",
       "      <td>34.870000</td>\n",
       "      <td>4</td>\n",
       "      <td>22</td>\n",
       "      <td>WestVirginia</td>\n",
       "      <td>1.585000</td>\n",
       "      <td>0.318182</td>\n",
       "      <td>10.0</td>\n",
       "    </tr>\n",
       "    <tr>\n",
       "      <th>14998</th>\n",
       "      <td>6</td>\n",
       "      <td>Call</td>\n",
       "      <td>13</td>\n",
       "      <td>64.900000</td>\n",
       "      <td>2</td>\n",
       "      <td>27</td>\n",
       "      <td>NewJersey</td>\n",
       "      <td>2.403704</td>\n",
       "      <td>0.481481</td>\n",
       "      <td>7.0</td>\n",
       "    </tr>\n",
       "    <tr>\n",
       "      <th>14999</th>\n",
       "      <td>5</td>\n",
       "      <td>Email + Call</td>\n",
       "      <td>13</td>\n",
       "      <td>93.934943</td>\n",
       "      <td>4</td>\n",
       "      <td>25</td>\n",
       "      <td>Illinois</td>\n",
       "      <td>3.757398</td>\n",
       "      <td>0.520000</td>\n",
       "      <td>13.0</td>\n",
       "    </tr>\n",
       "  </tbody>\n",
       "</table>\n",
       "<p>13956 rows × 10 columns</p>\n",
       "</div>"
      ],
      "text/plain": [
       "       week  sales_method  nb_sold    revenue  years_as_customer  \\\n",
       "0         2         Email       10  93.934943                  0   \n",
       "2         5          Call       11  52.550000                  6   \n",
       "3         4         Email       11  93.934943                  3   \n",
       "4         3         Email        9  90.490000                  0   \n",
       "5         6          Call       13  65.010000                 10   \n",
       "...     ...           ...      ...        ...                ...   \n",
       "14995     4          Call       10  50.820000                  0   \n",
       "14996     5          Call       10  52.330000                  1   \n",
       "14997     1          Call        7  34.870000                  4   \n",
       "14998     6          Call       13  64.900000                  2   \n",
       "14999     5  Email + Call       13  93.934943                  4   \n",
       "\n",
       "       nb_site_visits         state  Revenue_per_Site_Visits  \\\n",
       "0                  24       Arizona                 3.913956   \n",
       "2                  26     Wisconsin                 2.021154   \n",
       "3                  25       Indiana                 3.757398   \n",
       "4                  28      Illinois                 3.231786   \n",
       "5                  24   Mississippi                 2.708750   \n",
       "...               ...           ...                      ...   \n",
       "14995              22  Pennsylvania                 2.310000   \n",
       "14996              27        Kansas                 1.938148   \n",
       "14997              22  WestVirginia                 1.585000   \n",
       "14998              27     NewJersey                 2.403704   \n",
       "14999              25      Illinois                 3.757398   \n",
       "\n",
       "       Site_Visit_Conversion_Rate  previous_numbr_of_sold  \n",
       "0                        0.416667                     0.0  \n",
       "2                        0.423077                    10.0  \n",
       "3                        0.440000                    11.0  \n",
       "4                        0.321429                    11.0  \n",
       "5                        0.541667                     9.0  \n",
       "...                           ...                     ...  \n",
       "14995                    0.454545                    11.0  \n",
       "14996                    0.370370                    10.0  \n",
       "14997                    0.318182                    10.0  \n",
       "14998                    0.481481                     7.0  \n",
       "14999                    0.520000                    13.0  \n",
       "\n",
       "[13956 rows x 10 columns]"
      ]
     },
     "execution_count": 181,
     "metadata": {},
     "output_type": "execute_result"
    }
   ],
   "source": [
    "df_new_n"
   ]
  },
  {
   "cell_type": "code",
   "execution_count": 182,
   "id": "8531391f",
   "metadata": {},
   "outputs": [
    {
     "name": "stdout",
     "output_type": "stream",
     "text": [
      "   week sales_method  nb_sold    revenue  years_as_customer  nb_site_visits  \\\n",
      "0     2        Email       10  93.934943                  0              24   \n",
      "2     5         Call       11  52.550000                  6              26   \n",
      "3     4        Email       11  93.934943                  3              25   \n",
      "4     3        Email        9  90.490000                  0              28   \n",
      "5     6         Call       13  65.010000                 10              24   \n",
      "\n",
      "         state  Revenue_per_Site_Visits  Site_Visit_Conversion_Rate  \\\n",
      "0      Arizona                 3.913956                    0.416667   \n",
      "2    Wisconsin                 2.021154                    0.423077   \n",
      "3      Indiana                 3.757398                    0.440000   \n",
      "4     Illinois                 3.231786                    0.321429   \n",
      "5  Mississippi                 2.708750                    0.541667   \n",
      "\n",
      "   previous_numbr_of_sold  Customer_Lifetime_Revenue  \n",
      "0                     0.0                   0.000000  \n",
      "2                    10.0                 315.300000  \n",
      "3                    11.0                 281.804828  \n",
      "4                    11.0                   0.000000  \n",
      "5                     9.0                 650.100000  \n"
     ]
    },
    {
     "name": "stderr",
     "output_type": "stream",
     "text": [
      "C:\\Users\\USER\\AppData\\Local\\Temp\\ipykernel_9632\\357190987.py:1: SettingWithCopyWarning: \n",
      "A value is trying to be set on a copy of a slice from a DataFrame.\n",
      "Try using .loc[row_indexer,col_indexer] = value instead\n",
      "\n",
      "See the caveats in the documentation: https://pandas.pydata.org/pandas-docs/stable/user_guide/indexing.html#returning-a-view-versus-a-copy\n",
      "  df_new_n['Customer_Lifetime_Revenue'] = df_new_n['revenue'] * df_new_n[\"years_as_customer\"]\n"
     ]
    }
   ],
   "source": [
    "df_new_n['Customer_Lifetime_Revenue'] = df_new_n['revenue'] * df_new_n[\"years_as_customer\"]\n",
    "\n",
    "print(df_new_n.head())"
   ]
  },
  {
   "cell_type": "code",
   "execution_count": 183,
   "id": "3fdfb5c1",
   "metadata": {},
   "outputs": [
    {
     "name": "stdout",
     "output_type": "stream",
     "text": [
      "count    13956.000000\n",
      "mean       422.915782\n",
      "std        484.316551\n",
      "min          0.000000\n",
      "25%        103.555000\n",
      "50%        268.455000\n",
      "75%        563.609655\n",
      "max       6124.860000\n",
      "Name: Customer_Lifetime_Revenue, dtype: float64\n"
     ]
    }
   ],
   "source": [
    "#Customer Lifetime Revenue: Customer lifetime value (CLV) is a business metric used to determine the amount of money customers\n",
    "#will spend on your products or service over time. Rather than looking at the value of individual transactions, this value takes\n",
    "#into account all potential transactions to be made during a customer relationship timespan and calculates the specific revenue \n",
    "#from that customer.\n",
    "\n",
    "print(df_new_n[\"Customer_Lifetime_Revenue\"].describe())"
   ]
  },
  {
   "cell_type": "code",
   "execution_count": 184,
   "id": "8f96461d",
   "metadata": {},
   "outputs": [
    {
     "name": "stdout",
     "output_type": "stream",
     "text": [
      "   sales_method  Revenue_per_Site_Visits\n",
      "1         Email             29567.633964\n",
      "0          Call             10103.834760\n",
      "2  Email + Call              8927.108976\n"
     ]
    },
    {
     "name": "stderr",
     "output_type": "stream",
     "text": [
      "C:\\Users\\USER\\AppData\\Local\\Temp\\ipykernel_9632\\3617008104.py:1: FutureWarning: The default of observed=False is deprecated and will be changed to True in a future version of pandas. Pass observed=False to retain current behavior or observed=True to adopt the future default and silence this warning.\n",
      "  grouped_data = df_new_n.groupby(\"sales_method\")[\"Revenue_per_Site_Visits\"].sum().reset_index()\n"
     ]
    }
   ],
   "source": [
    "grouped_data = df_new_n.groupby(\"sales_method\")[\"Revenue_per_Site_Visits\"].sum().reset_index()\n",
    "\n",
    "# sort in descending order\n",
    "sorted_data = grouped_data.sort_values(\"Revenue_per_Site_Visits\", ascending=False)\n",
    "\n",
    "print(sorted_data)\n"
   ]
  },
  {
   "cell_type": "code",
   "execution_count": 185,
   "id": "3ac2c3bf",
   "metadata": {},
   "outputs": [
    {
     "name": "stdout",
     "output_type": "stream",
     "text": [
      "   sales_method  years_as_customer\n",
      "1         Email              37186\n",
      "0          Call              25683\n",
      "2  Email + Call               7328\n"
     ]
    },
    {
     "name": "stderr",
     "output_type": "stream",
     "text": [
      "C:\\Users\\USER\\AppData\\Local\\Temp\\ipykernel_9632\\3605670671.py:1: FutureWarning: The default of observed=False is deprecated and will be changed to True in a future version of pandas. Pass observed=False to retain current behavior or observed=True to adopt the future default and silence this warning.\n",
      "  grouped_data = df_new_n.groupby(\"sales_method\")[\"years_as_customer\"].sum().reset_index()  #customer retention rate\n"
     ]
    }
   ],
   "source": [
    "grouped_data = df_new_n.groupby(\"sales_method\")[\"years_as_customer\"].sum().reset_index()  #customer retention rate\n",
    "\n",
    "# sort in descending order\n",
    "sorted_data = grouped_data.sort_values(\"years_as_customer\", ascending=False)\n",
    "\n",
    "print(sorted_data)\n"
   ]
  },
  {
   "cell_type": "code",
   "execution_count": 186,
   "id": "f6a141a6",
   "metadata": {},
   "outputs": [
    {
     "data": {
      "text/plain": [
       "0.40022312457546383"
      ]
     },
     "execution_count": 186,
     "metadata": {},
     "output_type": "execute_result"
    }
   ],
   "source": [
    "df_new_n[\"Site_Visit_Conversion_Rate\"].mean()   #Average site visit conversion rate is 0.4, which is poor"
   ]
  },
  {
   "cell_type": "code",
   "execution_count": 187,
   "id": "c5a5d97e",
   "metadata": {},
   "outputs": [
    {
     "data": {
      "text/html": [
       "<div>\n",
       "<style scoped>\n",
       "    .dataframe tbody tr th:only-of-type {\n",
       "        vertical-align: middle;\n",
       "    }\n",
       "\n",
       "    .dataframe tbody tr th {\n",
       "        vertical-align: top;\n",
       "    }\n",
       "\n",
       "    .dataframe thead th {\n",
       "        text-align: right;\n",
       "    }\n",
       "</style>\n",
       "<table border=\"1\" class=\"dataframe\">\n",
       "  <thead>\n",
       "    <tr style=\"text-align: right;\">\n",
       "      <th></th>\n",
       "      <th>week</th>\n",
       "      <th>sales_method</th>\n",
       "      <th>nb_sold</th>\n",
       "      <th>revenue</th>\n",
       "      <th>years_as_customer</th>\n",
       "      <th>nb_site_visits</th>\n",
       "      <th>state</th>\n",
       "      <th>Revenue_per_Site_Visits</th>\n",
       "      <th>Site_Visit_Conversion_Rate</th>\n",
       "      <th>previous_numbr_of_sold</th>\n",
       "      <th>Customer_Lifetime_Revenue</th>\n",
       "    </tr>\n",
       "  </thead>\n",
       "  <tbody>\n",
       "    <tr>\n",
       "      <th>0</th>\n",
       "      <td>2</td>\n",
       "      <td>Email</td>\n",
       "      <td>10</td>\n",
       "      <td>93.934943</td>\n",
       "      <td>0</td>\n",
       "      <td>24</td>\n",
       "      <td>Arizona</td>\n",
       "      <td>3.913956</td>\n",
       "      <td>0.416667</td>\n",
       "      <td>0.0</td>\n",
       "      <td>0.000000</td>\n",
       "    </tr>\n",
       "    <tr>\n",
       "      <th>2</th>\n",
       "      <td>5</td>\n",
       "      <td>Call</td>\n",
       "      <td>11</td>\n",
       "      <td>52.550000</td>\n",
       "      <td>6</td>\n",
       "      <td>26</td>\n",
       "      <td>Wisconsin</td>\n",
       "      <td>2.021154</td>\n",
       "      <td>0.423077</td>\n",
       "      <td>10.0</td>\n",
       "      <td>315.300000</td>\n",
       "    </tr>\n",
       "    <tr>\n",
       "      <th>3</th>\n",
       "      <td>4</td>\n",
       "      <td>Email</td>\n",
       "      <td>11</td>\n",
       "      <td>93.934943</td>\n",
       "      <td>3</td>\n",
       "      <td>25</td>\n",
       "      <td>Indiana</td>\n",
       "      <td>3.757398</td>\n",
       "      <td>0.440000</td>\n",
       "      <td>11.0</td>\n",
       "      <td>281.804828</td>\n",
       "    </tr>\n",
       "    <tr>\n",
       "      <th>4</th>\n",
       "      <td>3</td>\n",
       "      <td>Email</td>\n",
       "      <td>9</td>\n",
       "      <td>90.490000</td>\n",
       "      <td>0</td>\n",
       "      <td>28</td>\n",
       "      <td>Illinois</td>\n",
       "      <td>3.231786</td>\n",
       "      <td>0.321429</td>\n",
       "      <td>11.0</td>\n",
       "      <td>0.000000</td>\n",
       "    </tr>\n",
       "    <tr>\n",
       "      <th>5</th>\n",
       "      <td>6</td>\n",
       "      <td>Call</td>\n",
       "      <td>13</td>\n",
       "      <td>65.010000</td>\n",
       "      <td>10</td>\n",
       "      <td>24</td>\n",
       "      <td>Mississippi</td>\n",
       "      <td>2.708750</td>\n",
       "      <td>0.541667</td>\n",
       "      <td>9.0</td>\n",
       "      <td>650.100000</td>\n",
       "    </tr>\n",
       "  </tbody>\n",
       "</table>\n",
       "</div>"
      ],
      "text/plain": [
       "   week sales_method  nb_sold    revenue  years_as_customer  nb_site_visits  \\\n",
       "0     2        Email       10  93.934943                  0              24   \n",
       "2     5         Call       11  52.550000                  6              26   \n",
       "3     4        Email       11  93.934943                  3              25   \n",
       "4     3        Email        9  90.490000                  0              28   \n",
       "5     6         Call       13  65.010000                 10              24   \n",
       "\n",
       "         state  Revenue_per_Site_Visits  Site_Visit_Conversion_Rate  \\\n",
       "0      Arizona                 3.913956                    0.416667   \n",
       "2    Wisconsin                 2.021154                    0.423077   \n",
       "3      Indiana                 3.757398                    0.440000   \n",
       "4     Illinois                 3.231786                    0.321429   \n",
       "5  Mississippi                 2.708750                    0.541667   \n",
       "\n",
       "   previous_numbr_of_sold  Customer_Lifetime_Revenue  \n",
       "0                     0.0                   0.000000  \n",
       "2                    10.0                 315.300000  \n",
       "3                    11.0                 281.804828  \n",
       "4                    11.0                   0.000000  \n",
       "5                     9.0                 650.100000  "
      ]
     },
     "execution_count": 187,
     "metadata": {},
     "output_type": "execute_result"
    }
   ],
   "source": [
    "df_new_n.head()"
   ]
  },
  {
   "cell_type": "code",
   "execution_count": 188,
   "id": "10917692",
   "metadata": {},
   "outputs": [
    {
     "data": {
      "text/plain": [
       "0.44666334815901804"
      ]
     },
     "execution_count": 188,
     "metadata": {},
     "output_type": "execute_result"
    }
   ],
   "source": [
    "df_new_n['nb_sold'].corr(df['nb_site_visits'], method='spearman')    #moderate +ve correlation"
   ]
  },
  {
   "cell_type": "markdown",
   "id": "eeb444ff",
   "metadata": {},
   "source": [
    "**DATA VALIDATION**: The provided dataset underwent thorough validation and cleaning to ensure accuracy and consistency. Here is the general steps taken in order to ensure that the data were ready for analysis were: \n",
    "\n",
    "**_data type check_**: Ensure that each column contains the expected data type (e.g., numeric, categorical, etc.).\n",
    "    - Anomaly handling: If a column contains an unexpected data type, convert it to the correct type or remove rows with incorrect data types. \n",
    "\n",
    "**_missing value check_**: This is the most appropriate step to be taken first, especially for numeric data. As misisng values can lead to errors or biases in analysis if not handled properly.  \n",
    "\n",
    "**outlier detection**\n",
    "\n",
    "_**data range check**_: Ensure that values in each column fall within expected ranges.\n",
    "    - Anomaly handling: Remove values outside the expected range, truncate them to the range boundaries, or use data transformation techniques (e.g., normalization).\n",
    "\n",
    "\n",
    "_**data consistency check**_Ensure that categorical values are consistent and follow expected patterns.\n",
    "    - Anomaly handling: Correct inconsistent values to the expected values, or remove rows with inconsistent values.\n",
    "\n",
    "**_data distribution check_** Ensure that data distributions are as expected (e.g., normal, uniform, etc.).- Anomaly handling: Transform the data (e.g., normalization, standardization), or use robust statistical methods to account for non-normality.\n",
    " \n",
    "**_correlation analysis_** Identify strong correlations between columns.\n",
    "    - Anomaly handling: Remove one of the correlated columns to avoid multicollinearity issues in modeling.\n",
    "\n",
    "_**data quality metrics(data completeness)**_ Assess the overall quality of the data.\n",
    "    - Anomaly handling: Address issues (e.g., low completeness, high inconsistency) before proceeding with analysis.\n",
    "\n",
    "**_visual inspection_** Visually examine the data to identify potential issues.\n",
    "    - Anomaly handling: Address issues (e.g., outliers, non-normality) using appropriate techniques (e.g., data transformation, outlier removal).\n",
    "\n",
    "**_data profiling(using summary statistics)_** Gain a deeper understanding of the data distribution and summary statistics.\n",
    "    - Anomaly handling: Address issues (e.g., skewness, kurtosis).\n",
    "    \n",
    "Here are the steps taken in ensuring that every column in the dataset is validated and cleaned:\n",
    "\n",
    "I checked for general information about each of the columns(like Dtype, missing values, descriptive statistics of numeric columns, whitespaces etc.). The only column with missing values is \"revenue\"\n",
    "\n",
    "**week**: I checked for negative and non-numeric values, neither negative nor non-numeric values were found \n",
    "\n",
    "**sales_mthod**: I checked for invalid & unknown values and consistent formatting. Inconsistent(non-alphabetic characters were found in this column), and they were handled appropriately. Lastly, the dtype of this variable was converted to categorical data type, in order to enhance the suitability of the column to the intended purpose of the analysis. Visualize this column on histogram in order to have better understanding of this column. I filtered this dataframe in using those inconsistent values like : \"em + call\" & 'email. I checked for inconsistent categories/data/rows. Did value count of each category(value). I capitalize every first letter of each category(value) for uniformity. \"Em + Call\" was replaced by \"Email + Call\". \n",
    "\n",
    "**customer_id**: This column was dropped because it was not necessary to the analysis.\n",
    "\n",
    "**nb_sold**: I checked for negative and non-numeric values, neither negative nor non-numeric values were found.\n",
    "\n",
    "**revenue**: Missing values were found in this column, and were handled appropriately. I checked for negative and non-numeric values, neither negative nor non-numeric values were found.\n",
    "\n",
    "**years_as_customer**: I checked for negative and non-numeric values, neither negative nor non-numeric values were found..\n",
    "\n",
    "**nb_site_visits**: I checked for negative and non-numeric values, neither negative nor non-numeric values were found..\n",
    "\n",
    "**state**: I checked for invalid & unknown values and consistent formatting. Invalid and unknown values were not found. But Inconsistent(non-alphabetic characters were found in this column), and they were handled appropriately. checked for empty strings/missing values/whitespace/invalid characters, non was found.\n",
    "\n",
    "Here is the summary of the data cleaning steps used:\n",
    "\n",
    "Checked for number of rows and columns Checked the first few rows (default is 5) of the dataframe, allowing us to quickly understand the data structure, column names, verify data loading, verify data quality(like: missing values, outliers, formatting errors etc) and get an idea of data distribution. Checked for missing values in the dataframe.\n",
    "\n",
    "**Exploratory Analysis:** Histogram indicates that the most used sales method is Email, not the most effective boxplot indicates the Column 3 (customer_id): was dropped, because it was not necessary to the analysis Column 5 (revenue): There were missing values in this column. Missing values were filled with mean of the values in this column, because this works well for numeric(float) data. I checked for duplicate values. 16 duplicate values were detected, and dropped. Outliers were checked for, detected, and dropped The remaining columns(nb_sold, years_as_customer, nb_site_visits, state) had consistent values, at least as much as I could detect the most effective sales method is Email + Call Stacked bar chart displays that as nb_visits_site increases, nb_sold increases. Using pearson correlation, nb_visits_site increases vs nb_sold increases has moderate positive correlation Heatmap indicated that there is positive moderate correlation between site visites and number of sold products Heatmap indicated that there is negative correlation between years_as_customer and revenue. Relplot indicated that the most effective sales method is Email + Call\n",
    "\n",
    "Findings:\n",
    "\n",
    "When a relplot of revenue vs number of sites visits was also plotted, sales method was used as the hue. The most effective sales method is Email + Call according to the scatter diagram.\n",
    "\n",
    "Email + Call has the highest total sum and average revenue generated.\n",
    "\n",
    "States with the highest revenue generation are California and Texas, and the most sales method used is 'Email‘, probably because more Email messages were sent compared to Call or combination of Email + Call, according to the histogram. While states with least revenue generation used 'Call' as their sales method(which is the least effective method).\n",
    "\n",
    "There is a moderate positive correlation between the number of site visits (nb_visits_site) and the number of sold items (nb_sold), indicating that as site visits increase, sold items also tend to increase.\n",
    "\n",
    "Average Revenue Per site Visits(which is a useful metric to evaluate the effectiveness of the website) is $3.48. Unsurprisingly, the most effective sales method in this regard is Email, probably because more Email messages were sent compared to Call or a combination of Email + Call, according to the histogram.\n",
    "\n",
    "Site Visit Conversion Rate (Tracking this metric can help us get a feel of how well your marketing strategy is working) is 40%. Not too bad, but it can definitely be better.\n",
    "\n",
    "Average Customer lifetime value (ACLV) (this value takes into account all potential transactions to be made during a customer relationship timespan and calculates the specific revenue from that customer) is $422.92.\n",
    "\n",
    "Final Summary: This data analysis report provides insights into the effectiveness of sales methods and the relationship between site visits and sold items, performance of each state, and the connection between each of the columns. The findings suggest that Email + Call was the most effective sales method, if the 3 categories of sales method were used the same number of times, and there is a moderate positive correlation between site visits and sold items. These insights can inform business decisions and guide marketing strategies to optimize sales and revenue.\n",
    "\n",
    "Recommendation: Based on the findings, it is recommended to:\n",
    "\n",
    "Focus on the Email + Call sales method as the primary approach. Invest in strategies to increase site visits, such as search engine optimization, social media marketing, and targeted advertising. Monitor and analyze the relationship between site visits and sold items to refine marketing strategies and optimize revenue. There is need for continuous awareness creation on the part of the marketing team to constantly bring new customers, as years as customer as negative correlation on number of sold items and revenue generation as indicated by the heat map. Continuously validate and clean the dataset to ensure accuracy and consistency. By implementing these recommendations, the business can potentially increase revenue and optimize sales performance."
   ]
  }
 ],
 "metadata": {
  "kernelspec": {
   "display_name": "Python 3 (ipykernel)",
   "language": "python",
   "name": "python3"
  },
  "language_info": {
   "codemirror_mode": {
    "name": "ipython",
    "version": 3
   },
   "file_extension": ".py",
   "mimetype": "text/x-python",
   "name": "python",
   "nbconvert_exporter": "python",
   "pygments_lexer": "ipython3",
   "version": "3.11.5"
  }
 },
 "nbformat": 4,
 "nbformat_minor": 5
}
